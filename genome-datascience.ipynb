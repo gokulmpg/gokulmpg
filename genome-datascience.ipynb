{
 "cells": [
  {
   "cell_type": "code",
   "execution_count": 1,
   "id": "08333625",
   "metadata": {
    "execution": {
     "iopub.execute_input": "2024-01-03T12:00:48.520070Z",
     "iopub.status.busy": "2024-01-03T12:00:48.519508Z",
     "iopub.status.idle": "2024-01-03T12:00:49.085584Z",
     "shell.execute_reply": "2024-01-03T12:00:49.083937Z"
    },
    "papermill": {
     "duration": 0.577567,
     "end_time": "2024-01-03T12:00:49.089784",
     "exception": false,
     "start_time": "2024-01-03T12:00:48.512217",
     "status": "completed"
    },
    "tags": []
   },
   "outputs": [],
   "source": [
    "# This Python 3 environment comes with many helpful analytics libraries installed\n",
    "# It is defined by the kaggle/python Docker image: https://github.com/kaggle/docker-python\n",
    "# For example, here's several helpful packages to load\n",
    "\n",
    "import numpy as np # linear algebra\n",
    "import pandas as pd # data processing, CSV file I/O (e.g. pd.read_csv)\n",
    "\n",
    "# Input data files are available in the read-only \"../input/\" directory\n",
    "# For example, running this (by clicking run or pressing Shift+Enter) will list all files under the input directory\n",
    "\n",
    "import os\n",
    "for dirname, _, filenames in os.walk('/kaggle/input'):\n",
    "    for filename in filenames:\n",
    "        print(os.path.join(dirname, filename))\n",
    "\n",
    "# You can write up to 20GB to the current directory (/kaggle/working/) that gets preserved as output when you create a version using \"Save & Run All\" \n",
    "# You can also write temporary files to /kaggle/temp/, but they won't be saved outside of the current session"
   ]
  },
  {
   "cell_type": "markdown",
   "id": "26206d65",
   "metadata": {
    "execution": {
     "iopub.execute_input": "2024-01-03T09:48:19.306313Z",
     "iopub.status.busy": "2024-01-03T09:48:19.305876Z",
     "iopub.status.idle": "2024-01-03T09:48:19.338699Z",
     "shell.execute_reply": "2024-01-03T09:48:19.337720Z",
     "shell.execute_reply.started": "2024-01-03T09:48:19.306275Z"
    },
    "papermill": {
     "duration": 0.00423,
     "end_time": "2024-01-03T12:00:49.098549",
     "exception": false,
     "start_time": "2024-01-03T12:00:49.094319",
     "status": "completed"
    },
    "tags": []
   },
   "source": [
    "# Genomic study using Data science - Stevan Salsberg"
   ]
  },
  {
   "cell_type": "markdown",
   "id": "19aa1987",
   "metadata": {
    "_cell_guid": "b1076dfc-b9ad-4769-8c92-a6c4dae69d19",
    "_uuid": "8f2839f25d086af736a60e9eeb907d3b93b6e0e5",
    "execution": {
     "iopub.execute_input": "2024-01-03T09:51:06.000498Z",
     "iopub.status.busy": "2024-01-03T09:51:06.000110Z",
     "iopub.status.idle": "2024-01-03T09:51:06.009766Z",
     "shell.execute_reply": "2024-01-03T09:51:06.008037Z",
     "shell.execute_reply.started": "2024-01-03T09:51:06.000467Z"
    },
    "papermill": {
     "duration": 0.004143,
     "end_time": "2024-01-03T12:00:49.106769",
     "exception": false,
     "start_time": "2024-01-03T12:00:49.102626",
     "status": "completed"
    },
    "tags": []
   },
   "source": [
    "\n",
    "\n",
    "### DNA to RNA to Proteins\n",
    "\n",
    "\n",
    "#### ACTGAAAATCAFET UIHSIUT SJHFFAYGSUIUH \n",
    "#### ----------> transcription\n",
    "#### ACT CAF   FAY\n",
    "#### -----------> (translation)\n",
    "#### Genomic study\n",
    "\n",
    "\n",
    "\n"
   ]
  },
  {
   "cell_type": "markdown",
   "id": "ecfda024",
   "metadata": {
    "papermill": {
     "duration": 0.003272,
     "end_time": "2024-01-03T12:00:49.114293",
     "exception": false,
     "start_time": "2024-01-03T12:00:49.111021",
     "status": "completed"
    },
    "tags": []
   },
   "source": []
  },
  {
   "cell_type": "markdown",
   "id": "ca91782a",
   "metadata": {
    "execution": {
     "iopub.execute_input": "2024-01-03T09:54:35.148151Z",
     "iopub.status.busy": "2024-01-03T09:54:35.147649Z",
     "iopub.status.idle": "2024-01-03T09:54:35.156634Z",
     "shell.execute_reply": "2024-01-03T09:54:35.154681Z",
     "shell.execute_reply.started": "2024-01-03T09:54:35.148111Z"
    },
    "papermill": {
     "duration": 0.00387,
     "end_time": "2024-01-03T12:00:49.122672",
     "exception": false,
     "start_time": "2024-01-03T12:00:49.118802",
     "status": "completed"
    },
    "tags": []
   },
   "source": [
    "### Enormous Dataset for genomic studies:\n",
    "\n",
    "## Powerful sequences running in powerful systems running for years and dataset with trillion DNA sequences.\n",
    "\n",
    "## Takes Years of works of 1000 scientists without powerful system can only take few weeks with one person.\n"
   ]
  },
  {
   "cell_type": "markdown",
   "id": "339fca7f",
   "metadata": {
    "papermill": {
     "duration": 0.003334,
     "end_time": "2024-01-03T12:00:49.129820",
     "exception": false,
     "start_time": "2024-01-03T12:00:49.126486",
     "status": "completed"
    },
    "tags": []
   },
   "source": [
    "### How do DNA sequencing changes over evolutionary time?\n",
    "\n",
    "\n",
    "Genes and other interesting bits\n",
    "\n",
    "\n",
    "Genomics studies Effects of genomes and its applications\n",
    "\n",
    "#### The main difference between genomics and genetics \n",
    "\n",
    "genetics scrutinizes the functioning and composition of the single gene \n",
    "\n",
    "genomics addresses all genes and their inter relationships in order to identify their combined influence on the growth and development of the organism."
   ]
  },
  {
   "cell_type": "code",
   "execution_count": 2,
   "id": "597b74e9",
   "metadata": {
    "execution": {
     "iopub.execute_input": "2024-01-03T12:00:49.140876Z",
     "iopub.status.busy": "2024-01-03T12:00:49.140165Z",
     "iopub.status.idle": "2024-01-03T12:00:49.146202Z",
     "shell.execute_reply": "2024-01-03T12:00:49.144536Z"
    },
    "papermill": {
     "duration": 0.015174,
     "end_time": "2024-01-03T12:00:49.149318",
     "exception": false,
     "start_time": "2024-01-03T12:00:49.134144",
     "status": "completed"
    },
    "tags": []
   },
   "outputs": [],
   "source": [
    "#Various Statistical methods to solve Genomics problems\n",
    "\n",
    "#Population Genomics\n",
    "\n",
    "#Data scinece and Genomics\n",
    "\n",
    "# https://www.science.org/doi/10.1126/science.1061036"
   ]
  },
  {
   "cell_type": "markdown",
   "id": "85892fca",
   "metadata": {
    "papermill": {
     "duration": 0.003788,
     "end_time": "2024-01-03T12:00:49.157490",
     "exception": false,
     "start_time": "2024-01-03T12:00:49.153702",
     "status": "completed"
    },
    "tags": []
   },
   "source": [
    "#### https://www.science.org/doi/10.1126/science.1061036\n",
    "\n",
    "#### Microbial Genes in the Human Genome: Lateral Transfer or Gene Loss?"
   ]
  },
  {
   "cell_type": "code",
   "execution_count": null,
   "id": "f6988037",
   "metadata": {
    "papermill": {
     "duration": 0.004071,
     "end_time": "2024-01-03T12:00:49.165797",
     "exception": false,
     "start_time": "2024-01-03T12:00:49.161726",
     "status": "completed"
    },
    "tags": []
   },
   "outputs": [],
   "source": []
  }
 ],
 "metadata": {
  "kaggle": {
   "accelerator": "none",
   "dataSources": [],
   "dockerImageVersionId": 30626,
   "isGpuEnabled": false,
   "isInternetEnabled": true,
   "language": "python",
   "sourceType": "notebook"
  },
  "kernelspec": {
   "display_name": "Python 3",
   "language": "python",
   "name": "python3"
  },
  "language_info": {
   "codemirror_mode": {
    "name": "ipython",
    "version": 3
   },
   "file_extension": ".py",
   "mimetype": "text/x-python",
   "name": "python",
   "nbconvert_exporter": "python",
   "pygments_lexer": "ipython3",
   "version": "3.10.12"
  },
  "papermill": {
   "default_parameters": {},
   "duration": 4.861393,
   "end_time": "2024-01-03T12:00:49.792936",
   "environment_variables": {},
   "exception": null,
   "input_path": "__notebook__.ipynb",
   "output_path": "__notebook__.ipynb",
   "parameters": {},
   "start_time": "2024-01-03T12:00:44.931543",
   "version": "2.4.0"
  }
 },
 "nbformat": 4,
 "nbformat_minor": 5
}
