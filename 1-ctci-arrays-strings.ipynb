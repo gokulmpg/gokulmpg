{
 "cells": [
  {
   "cell_type": "code",
   "execution_count": 1,
   "id": "07ba4515",
   "metadata": {
    "_cell_guid": "b1076dfc-b9ad-4769-8c92-a6c4dae69d19",
    "_uuid": "8f2839f25d086af736a60e9eeb907d3b93b6e0e5",
    "execution": {
     "iopub.execute_input": "2024-01-26T18:14:43.626650Z",
     "iopub.status.busy": "2024-01-26T18:14:43.625117Z",
     "iopub.status.idle": "2024-01-26T18:14:44.511076Z",
     "shell.execute_reply": "2024-01-26T18:14:44.509469Z"
    },
    "papermill": {
     "duration": 0.897376,
     "end_time": "2024-01-26T18:14:44.514569",
     "exception": false,
     "start_time": "2024-01-26T18:14:43.617193",
     "status": "completed"
    },
    "tags": []
   },
   "outputs": [],
   "source": [
    "# This Python 3 environment comes with many helpful analytics libraries installed\n",
    "# It is defined by the kaggle/python Docker image: https://github.com/kaggle/docker-python\n",
    "# For example, here's several helpful packages to load\n",
    "\n",
    "import numpy as np # linear algebra\n",
    "import pandas as pd # data processing, CSV file I/O (e.g. pd.read_csv)\n",
    "\n",
    "# Input data files are available in the read-only \"../input/\" directory\n",
    "# For example, running this (by clicking run or pressing Shift+Enter) will list all files under the input directory\n",
    "\n",
    "import os\n",
    "for dirname, _, filenames in os.walk('/kaggle/input'):\n",
    "    for filename in filenames:\n",
    "        print(os.path.join(dirname, filename))\n",
    "\n",
    "# You can write up to 20GB to the current directory (/kaggle/working/) that gets preserved as output when you create a version using \"Save & Run All\" \n",
    "# You can also write temporary files to /kaggle/temp/, but they won't be saved outside of the current session"
   ]
  },
  {
   "cell_type": "markdown",
   "id": "0635a7b3",
   "metadata": {
    "papermill": {
     "duration": 0.005226,
     "end_time": "2024-01-26T18:14:44.526062",
     "exception": false,
     "start_time": "2024-01-26T18:14:44.520836",
     "status": "completed"
    },
    "tags": []
   },
   "source": [
    "### Hash Tables"
   ]
  },
  {
   "cell_type": "markdown",
   "id": "ca8536a4",
   "metadata": {
    "papermill": {
     "duration": 0.005516,
     "end_time": "2024-01-26T18:14:44.537093",
     "exception": false,
     "start_time": "2024-01-26T18:14:44.531577",
     "status": "completed"
    },
    "tags": []
   },
   "source": [
    "Value to keys in highly efficient look ups...\n",
    "1. compute keys hash code\n",
    "2. Map the hash code to the index in the array\n",
    "3. store keys and values (linked list of keys and values) in Index\n",
    "\n",
    "\n",
    "hi --> 10320 --> 0 |\n",
    "abc--> 980   --> 0 --> hi --> abc \n",
    "\n",
    "\n",
    "\n",
    "\n",
    "\n"
   ]
  },
  {
   "cell_type": "markdown",
   "id": "c33b64a5",
   "metadata": {
    "papermill": {
     "duration": 0.005133,
     "end_time": "2024-01-26T18:14:44.547898",
     "exception": false,
     "start_time": "2024-01-26T18:14:44.542765",
     "status": "completed"
    },
    "tags": []
   },
   "source": [
    "### Array List & Resizable Array"
   ]
  },
  {
   "cell_type": "markdown",
   "id": "ffa86e54",
   "metadata": {
    "papermill": {
     "duration": 0.005088,
     "end_time": "2024-01-26T18:14:44.558388",
     "exception": false,
     "start_time": "2024-01-26T18:14:44.553300",
     "status": "completed"
    },
    "tags": []
   },
   "source": [
    "Arrays are list in some languages. Array or a list will grow as you append. arrays are fixed in Java. \n",
    "\n",
    "When you need an array like data strcuture that dynamically resizes, You would use arrayList.\n",
    "\n",
    "\n"
   ]
  },
  {
   "cell_type": "markdown",
   "id": "13d5d650",
   "metadata": {
    "papermill": {
     "duration": 0.005175,
     "end_time": "2024-01-26T18:14:44.568959",
     "exception": false,
     "start_time": "2024-01-26T18:14:44.563784",
     "status": "completed"
    },
    "tags": []
   },
   "source": [
    "### String Builder\n",
    "\n",
    "For Concatenating a list of strings... On each concaterating, new copy of a string is created..  1x --> 2x --> 3x  =  O(x+2x+..+nx) = O(n power2 x)\n",
    "\n",
    "String builder can avoid this problem.\n",
    "\n",
    "If Resizable arrays of all string are built and copied whenevr neccesary. That is String Builder.\n",
    "\n"
   ]
  },
  {
   "cell_type": "markdown",
   "id": "bbf69f66",
   "metadata": {
    "papermill": {
     "duration": 0.0051,
     "end_time": "2024-01-26T18:14:44.579489",
     "exception": false,
     "start_time": "2024-01-26T18:14:44.574389",
     "status": "completed"
    },
    "tags": []
   },
   "source": [
    "#### Q1 Implement an Alogorithm to determine if a string has all unique charecter.\n",
    "\n",
    "##### Alternative usecase : Cant use additional data structures.."
   ]
  },
  {
   "cell_type": "code",
   "execution_count": 2,
   "id": "7428d2d5",
   "metadata": {
    "execution": {
     "iopub.execute_input": "2024-01-26T18:14:44.592680Z",
     "iopub.status.busy": "2024-01-26T18:14:44.592016Z",
     "iopub.status.idle": "2024-01-26T18:14:44.603637Z",
     "shell.execute_reply": "2024-01-26T18:14:44.602435Z"
    },
    "papermill": {
     "duration": 0.021391,
     "end_time": "2024-01-26T18:14:44.606289",
     "exception": false,
     "start_time": "2024-01-26T18:14:44.584898",
     "status": "completed"
    },
    "tags": []
   },
   "outputs": [],
   "source": [
    "def is_unique_algo(string1):\n",
    "    if len(string1) > 128:\n",
    "        return False\n",
    "    \n",
    "    char_set = [False] * 128\n",
    "    for char in string1:\n",
    "        val = ord(char)\n",
    "        if char_set[val]:\n",
    "            return False\n",
    "        char_set[val] = True\n",
    "        \n",
    "    return True\n",
    "\n",
    "\n",
    "\n",
    "def is_unique_pyth(string2):\n",
    "    return len(set(string2))==len(string2)\n",
    "\n",
    "\n",
    "def is_unique_dict(string: str):\n",
    "    character_counts = {}\n",
    "    for char in string:\n",
    "        if char in character_counts:\n",
    "            return False\n",
    "        character_counts[char] = 1\n",
    "    return True\n",
    "    "
   ]
  },
  {
   "cell_type": "code",
   "execution_count": 3,
   "id": "628bcdd2",
   "metadata": {
    "execution": {
     "iopub.execute_input": "2024-01-26T18:14:44.620336Z",
     "iopub.status.busy": "2024-01-26T18:14:44.619912Z",
     "iopub.status.idle": "2024-01-26T18:14:44.628710Z",
     "shell.execute_reply": "2024-01-26T18:14:44.627433Z"
    },
    "papermill": {
     "duration": 0.019198,
     "end_time": "2024-01-26T18:14:44.631482",
     "exception": false,
     "start_time": "2024-01-26T18:14:44.612284",
     "status": "completed"
    },
    "tags": []
   },
   "outputs": [
    {
     "data": {
      "text/plain": [
       "True"
      ]
     },
     "execution_count": 3,
     "metadata": {},
     "output_type": "execute_result"
    }
   ],
   "source": [
    "is_unique_dict('king')"
   ]
  },
  {
   "cell_type": "markdown",
   "id": "29af59a7",
   "metadata": {
    "execution": {
     "iopub.execute_input": "2024-01-26T16:39:41.855434Z",
     "iopub.status.busy": "2024-01-26T16:39:41.854981Z",
     "iopub.status.idle": "2024-01-26T16:39:41.863525Z",
     "shell.execute_reply": "2024-01-26T16:39:41.861977Z",
     "shell.execute_reply.started": "2024-01-26T16:39:41.855399Z"
    },
    "papermill": {
     "duration": 0.005602,
     "end_time": "2024-01-26T18:14:44.642856",
     "exception": false,
     "start_time": "2024-01-26T18:14:44.637254",
     "status": "completed"
    },
    "tags": []
   },
   "source": [
    "#### Q2. Given two string write a method to decide if one is a permutation of the other\n",
    "##### \n"
   ]
  },
  {
   "cell_type": "code",
   "execution_count": 4,
   "id": "3985c8ae",
   "metadata": {
    "execution": {
     "iopub.execute_input": "2024-01-26T18:14:44.658134Z",
     "iopub.status.busy": "2024-01-26T18:14:44.657669Z",
     "iopub.status.idle": "2024-01-26T18:14:44.666384Z",
     "shell.execute_reply": "2024-01-26T18:14:44.664989Z"
    },
    "papermill": {
     "duration": 0.019632,
     "end_time": "2024-01-26T18:14:44.668829",
     "exception": false,
     "start_time": "2024-01-26T18:14:44.649197",
     "status": "completed"
    },
    "tags": []
   },
   "outputs": [],
   "source": [
    "def check_perm_sort(s1,s2):\n",
    "    if len(s1) != len(s2):\n",
    "        return False\n",
    "    s1,s2 = sorted(s1),sorted(s2)\n",
    "    for i in range(len(s1)):\n",
    "        if s1[i] != s2[i]:\n",
    "            return False\n",
    "    return True\n",
    "\n",
    "\n",
    "def check_permutation_pyth(str1,str2):\n",
    "    if len(str1)!=len(str2):\n",
    "        return False\n",
    "    from collections import Counter\n",
    "    return Counter(str1) == Counter(str2)\n"
   ]
  },
  {
   "cell_type": "code",
   "execution_count": 5,
   "id": "4cab7681",
   "metadata": {
    "execution": {
     "iopub.execute_input": "2024-01-26T18:14:44.683593Z",
     "iopub.status.busy": "2024-01-26T18:14:44.683082Z",
     "iopub.status.idle": "2024-01-26T18:14:44.690787Z",
     "shell.execute_reply": "2024-01-26T18:14:44.689442Z"
    },
    "papermill": {
     "duration": 0.018102,
     "end_time": "2024-01-26T18:14:44.693337",
     "exception": false,
     "start_time": "2024-01-26T18:14:44.675235",
     "status": "completed"
    },
    "tags": []
   },
   "outputs": [
    {
     "data": {
      "text/plain": [
       "False"
      ]
     },
     "execution_count": 5,
     "metadata": {},
     "output_type": "execute_result"
    }
   ],
   "source": [
    "check_permutation_pyth('QUick','Qkciu')"
   ]
  },
  {
   "cell_type": "markdown",
   "id": "ff57eeac",
   "metadata": {
    "execution": {
     "iopub.execute_input": "2024-01-26T16:50:16.040903Z",
     "iopub.status.busy": "2024-01-26T16:50:16.039734Z",
     "iopub.status.idle": "2024-01-26T16:50:16.048146Z",
     "shell.execute_reply": "2024-01-26T16:50:16.046722Z",
     "shell.execute_reply.started": "2024-01-26T16:50:16.040865Z"
    },
    "papermill": {
     "duration": 0.005768,
     "end_time": "2024-01-26T18:14:44.705143",
     "exception": false,
     "start_time": "2024-01-26T18:14:44.699375",
     "status": "completed"
    },
    "tags": []
   },
   "source": [
    "#### Q3. Write a methode to replace all space with %20  a.k.a   urlify"
   ]
  },
  {
   "cell_type": "code",
   "execution_count": 6,
   "id": "62918879",
   "metadata": {
    "execution": {
     "iopub.execute_input": "2024-01-26T18:14:44.718845Z",
     "iopub.status.busy": "2024-01-26T18:14:44.718385Z",
     "iopub.status.idle": "2024-01-26T18:14:44.726857Z",
     "shell.execute_reply": "2024-01-26T18:14:44.725453Z"
    },
    "papermill": {
     "duration": 0.018578,
     "end_time": "2024-01-26T18:14:44.729565",
     "exception": false,
     "start_time": "2024-01-26T18:14:44.710987",
     "status": "completed"
    },
    "tags": []
   },
   "outputs": [],
   "source": [
    "def urlify_algo(text,leng):\n",
    "    char_lst = list(text)\n",
    "    new_index = len(char_lst)\n",
    "    \n",
    "    for i in reversed(range(leng)):\n",
    "        if char_lst[i] == \" \":\n",
    "            char_lst[new_index - 3 :new_index] = \"%20\"\n",
    "            new_index -=3\n",
    "        else:\n",
    "            char_lst[new_index-1]= char_lst[i]\n",
    "            new_index -= 1\n",
    "    print(char_lst)\n",
    "    print(new_index)\n",
    "    return \"\".join(char_lst[new_index:])\n",
    "\n",
    "def urlify_pyth(text,leng):\n",
    "    return text[:leng].replace(\" \",\"%20\")\n"
   ]
  },
  {
   "cell_type": "code",
   "execution_count": 7,
   "id": "4cc7be99",
   "metadata": {
    "execution": {
     "iopub.execute_input": "2024-01-26T18:14:44.744042Z",
     "iopub.status.busy": "2024-01-26T18:14:44.743609Z",
     "iopub.status.idle": "2024-01-26T18:14:44.752381Z",
     "shell.execute_reply": "2024-01-26T18:14:44.751044Z"
    },
    "papermill": {
     "duration": 0.019502,
     "end_time": "2024-01-26T18:14:44.755475",
     "exception": false,
     "start_time": "2024-01-26T18:14:44.735973",
     "status": "completed"
    },
    "tags": []
   },
   "outputs": [
    {
     "name": "stdout",
     "output_type": "stream",
     "text": [
      "['2', '%', '2', '%', '2', '%', '2', '0', 'b', 'a', '2', '%']\n",
      "-2\n"
     ]
    },
    {
     "data": {
      "text/plain": [
       "'2%'"
      ]
     },
     "execution_count": 7,
     "metadata": {},
     "output_type": "execute_result"
    }
   ],
   "source": [
    "urlify_algo('king is back',12)"
   ]
  },
  {
   "cell_type": "code",
   "execution_count": null,
   "id": "dc8f8538",
   "metadata": {
    "papermill": {
     "duration": 0.006316,
     "end_time": "2024-01-26T18:14:44.768370",
     "exception": false,
     "start_time": "2024-01-26T18:14:44.762054",
     "status": "completed"
    },
    "tags": []
   },
   "outputs": [],
   "source": []
  }
 ],
 "metadata": {
  "kaggle": {
   "accelerator": "none",
   "dataSources": [],
   "dockerImageVersionId": 30635,
   "isGpuEnabled": false,
   "isInternetEnabled": true,
   "language": "python",
   "sourceType": "notebook"
  },
  "kernelspec": {
   "display_name": "Python 3",
   "language": "python",
   "name": "python3"
  },
  "language_info": {
   "codemirror_mode": {
    "name": "ipython",
    "version": 3
   },
   "file_extension": ".py",
   "mimetype": "text/x-python",
   "name": "python",
   "nbconvert_exporter": "python",
   "pygments_lexer": "ipython3",
   "version": "3.10.12"
  },
  "papermill": {
   "default_parameters": {},
   "duration": 6.659243,
   "end_time": "2024-01-26T18:14:45.297839",
   "environment_variables": {},
   "exception": null,
   "input_path": "__notebook__.ipynb",
   "output_path": "__notebook__.ipynb",
   "parameters": {},
   "start_time": "2024-01-26T18:14:38.638596",
   "version": "2.4.0"
  }
 },
 "nbformat": 4,
 "nbformat_minor": 5
}
