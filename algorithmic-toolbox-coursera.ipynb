{
 "cells": [
  {
   "cell_type": "code",
   "execution_count": 1,
   "id": "f1d98eb2",
   "metadata": {
    "_cell_guid": "b1076dfc-b9ad-4769-8c92-a6c4dae69d19",
    "_uuid": "8f2839f25d086af736a60e9eeb907d3b93b6e0e5",
    "execution": {
     "iopub.execute_input": "2024-01-04T22:54:45.222783Z",
     "iopub.status.busy": "2024-01-04T22:54:45.222320Z",
     "iopub.status.idle": "2024-01-04T22:54:45.690965Z",
     "shell.execute_reply": "2024-01-04T22:54:45.689770Z"
    },
    "papermill": {
     "duration": 0.479836,
     "end_time": "2024-01-04T22:54:45.694144",
     "exception": false,
     "start_time": "2024-01-04T22:54:45.214308",
     "status": "completed"
    },
    "tags": []
   },
   "outputs": [],
   "source": [
    "# This Python 3 environment comes with many helpful analytics libraries installed\n",
    "# It is defined by the kaggle/python Docker image: https://github.com/kaggle/docker-python\n",
    "# For example, here's several helpful packages to load\n",
    "\n",
    "import numpy as np # linear algebra\n",
    "import pandas as pd # data processing, CSV file I/O (e.g. pd.read_csv)\n",
    "\n",
    "# Input data files are available in the read-only \"../input/\" directory\n",
    "# For example, running this (by clicking run or pressing Shift+Enter) will list all files under the input directory\n",
    "\n",
    "import os\n",
    "for dirname, _, filenames in os.walk('/kaggle/input'):\n",
    "    for filename in filenames:\n",
    "        print(os.path.join(dirname, filename))\n",
    "\n",
    "# You can write up to 20GB to the current directory (/kaggle/working/) that gets preserved as output when you create a version using \"Save & Run All\" \n",
    "# You can also write temporary files to /kaggle/temp/, but they won't be saved outside of the current session"
   ]
  },
  {
   "cell_type": "markdown",
   "id": "ebf5ab2a",
   "metadata": {
    "papermill": {
     "duration": 0.005796,
     "end_time": "2024-01-04T22:54:45.706047",
     "exception": false,
     "start_time": "2024-01-04T22:54:45.700251",
     "status": "completed"
    },
    "tags": []
   },
   "source": [
    "#### TWO SUM"
   ]
  },
  {
   "cell_type": "code",
   "execution_count": 2,
   "id": "6b9a4ea2",
   "metadata": {
    "execution": {
     "iopub.execute_input": "2024-01-04T22:54:45.719300Z",
     "iopub.status.busy": "2024-01-04T22:54:45.718735Z",
     "iopub.status.idle": "2024-01-04T22:54:45.728124Z",
     "shell.execute_reply": "2024-01-04T22:54:45.726676Z"
    },
    "papermill": {
     "duration": 0.019292,
     "end_time": "2024-01-04T22:54:45.730875",
     "exception": false,
     "start_time": "2024-01-04T22:54:45.711583",
     "status": "completed"
    },
    "tags": []
   },
   "outputs": [
    {
     "data": {
      "text/plain": [
       "0"
      ]
     },
     "execution_count": 2,
     "metadata": {},
     "output_type": "execute_result"
    }
   ],
   "source": [
    "##### Output two sum a + b\n",
    "\n",
    "a = 0\n",
    "b= 0 \n",
    "sum = 0\n",
    "\n",
    "\n",
    "#a = int(input(\"a\"))\n",
    "#b = int(input(\"b\"))\n",
    "\n",
    "sum = a + b\n",
    "sum"
   ]
  },
  {
   "cell_type": "markdown",
   "id": "2b3fefaf",
   "metadata": {
    "papermill": {
     "duration": 0.005218,
     "end_time": "2024-01-04T22:54:45.741645",
     "exception": false,
     "start_time": "2024-01-04T22:54:45.736427",
     "status": "completed"
    },
    "tags": []
   },
   "source": [
    "## Stacks and Queues in Programming\n",
    "\n",
    "### Stacks\n",
    "\n",
    "Stacks = Building Blocks\n",
    "\n",
    "Last in first out\n",
    "\n",
    "Push --  Pop\n",
    "\n",
    "CTRL Z undo and CTRL Y redo\n",
    "\n",
    "\n",
    "#### Push Pop  isEmpty  isFull Peek\n",
    "\n",
    "Pop until nothings there\n",
    "Push puts item on the top\n",
    "Peek - Calling; Calling will never change the structure \n",
    "\n",
    "\n",
    "### Queues\n",
    "\n",
    "Queues = Oune after Other Architecture\n",
    "\n",
    "First in First out\n",
    "\n",
    "Push -- Pop\n",
    "\n",
    "#### Push Pop\n",
    "\n",
    "\n",
    "\n",
    "\n"
   ]
  },
  {
   "cell_type": "markdown",
   "id": "02c268d3",
   "metadata": {
    "execution": {
     "iopub.execute_input": "2024-01-04T18:29:19.106735Z",
     "iopub.status.busy": "2024-01-04T18:29:19.106289Z",
     "iopub.status.idle": "2024-01-04T18:29:19.114933Z",
     "shell.execute_reply": "2024-01-04T18:29:19.113073Z",
     "shell.execute_reply.started": "2024-01-04T18:29:19.106701Z"
    },
    "papermill": {
     "duration": 0.005049,
     "end_time": "2024-01-04T22:54:45.752183",
     "exception": false,
     "start_time": "2024-01-04T22:54:45.747134",
     "status": "completed"
    },
    "tags": []
   },
   "source": [
    "'''\n",
    "class Stack:\n",
    "    def Stack:\n",
    "   return 0\n",
    "\n",
    "class Queue:\n",
    "    def Queue:\n",
    "    return 0\n",
    "container = Queue()\n",
    "\n",
    "\n",
    "container.push(1)\n",
    "\n",
    "print(container.pop())\n",
    "\n",
    "\n",
    "container.push()\n",
    "'''\n"
   ]
  },
  {
   "cell_type": "markdown",
   "id": "cc11a800",
   "metadata": {
    "papermill": {
     "duration": 0.00556,
     "end_time": "2024-01-04T22:54:45.764148",
     "exception": false,
     "start_time": "2024-01-04T22:54:45.758588",
     "status": "completed"
    },
    "tags": []
   },
   "source": [
    "#### Why not just a list instead for class?\n",
    "\n",
    "By Queue we are creating an abstaction.We are restricting the way in which we are accessing the queue. It enforces the FIFO behaviour.\n",
    "\n"
   ]
  },
  {
   "cell_type": "markdown",
   "id": "0eab9adf",
   "metadata": {
    "papermill": {
     "duration": 0.005303,
     "end_time": "2024-01-04T22:54:45.774969",
     "exception": false,
     "start_time": "2024-01-04T22:54:45.769666",
     "status": "completed"
    },
    "tags": []
   },
   "source": [
    "### Inheritance\n",
    "\n",
    "Create group of similar and identical by inheriting the characters of one class."
   ]
  },
  {
   "cell_type": "code",
   "execution_count": 3,
   "id": "a3a48cd5",
   "metadata": {
    "execution": {
     "iopub.execute_input": "2024-01-04T22:54:45.788900Z",
     "iopub.status.busy": "2024-01-04T22:54:45.788213Z",
     "iopub.status.idle": "2024-01-04T22:54:45.795117Z",
     "shell.execute_reply": "2024-01-04T22:54:45.794246Z"
    },
    "papermill": {
     "duration": 0.016632,
     "end_time": "2024-01-04T22:54:45.797415",
     "exception": false,
     "start_time": "2024-01-04T22:54:45.780783",
     "status": "completed"
    },
    "tags": []
   },
   "outputs": [
    {
     "data": {
      "text/plain": [
       "'\\nClass Base:\\n    def Hello(self):\\n        print(\"Hello\")\\n        \\n    def message(self,msg):\\n         print(msg)\\nClass Sub(Base):\\n     def message(self,msg):\\n         print(\"sub:\",msg)\\n \\nobj = sub()\\nobj.hello()\\nobj.meassage(\"Another Message\")\\n\\nbaseObj = Base()\\nbaseonj.hello()\\nbaseobj.message(\"another message\")\\n\\n'"
      ]
     },
     "execution_count": 3,
     "metadata": {},
     "output_type": "execute_result"
    }
   ],
   "source": [
    "#### Simple Inheritance\n",
    "\"\"\"\n",
    "Class Base:\n",
    "    def Hello(self):\n",
    "        print(\"Hello\")\n",
    "        \n",
    "    def message(self,msg):\n",
    "         print(msg)\n",
    "Class Sub(Base):\n",
    "     def message(self,msg):\n",
    "         print(\"sub:\",msg)\n",
    " \n",
    "obj = sub()\n",
    "obj.hello()\n",
    "obj.meassage(\"Another Message\")\n",
    "\n",
    "baseObj = Base()\n",
    "baseonj.hello()\n",
    "baseobj.message(\"another message\")\n",
    "\n",
    "\"\"\"\n",
    "   "
   ]
  },
  {
   "cell_type": "markdown",
   "id": "3c19ee6d",
   "metadata": {
    "papermill": {
     "duration": 0.005519,
     "end_time": "2024-01-04T22:54:45.808886",
     "exception": false,
     "start_time": "2024-01-04T22:54:45.803367",
     "status": "completed"
    },
    "tags": []
   },
   "source": [
    "#### GRIDS"
   ]
  },
  {
   "cell_type": "markdown",
   "id": "c14c3817",
   "metadata": {
    "papermill": {
     "duration": 0.005397,
     "end_time": "2024-01-04T22:54:45.819914",
     "exception": false,
     "start_time": "2024-01-04T22:54:45.814517",
     "status": "completed"
    },
    "tags": []
   },
   "source": [
    "Matrix like structure with 2 dimensions"
   ]
  },
  {
   "cell_type": "markdown",
   "id": "746cd946",
   "metadata": {
    "papermill": {
     "duration": 0.005407,
     "end_time": "2024-01-04T22:54:45.831038",
     "exception": false,
     "start_time": "2024-01-04T22:54:45.825631",
     "status": "completed"
    },
    "tags": []
   },
   "source": [
    "### Trees\n",
    "\n",
    "Say lot about relations between data stored and saves lot of time when extracting.\n",
    "\n",
    "\n",
    "Parent - Children - Leaf\n",
    "\n",
    "Root Nodes\n",
    "\n",
    "Child Nodes\n",
    "\n",
    "Sibling Nodes\n",
    "\n",
    "\n",
    "Nodes & Edges\n",
    "\n",
    "\n",
    "\n",
    "Breadth First \n",
    "Depth First\n",
    "\n",
    "\n",
    "\n",
    "\n"
   ]
  },
  {
   "cell_type": "markdown",
   "id": "4c97dbd2",
   "metadata": {
    "papermill": {
     "duration": 0.005267,
     "end_time": "2024-01-04T22:54:45.841900",
     "exception": false,
     "start_time": "2024-01-04T22:54:45.836633",
     "status": "completed"
    },
    "tags": []
   },
   "source": [
    "### HASH TABLES\n",
    "\n",
    "Buckets of Key Value pair\n",
    "\n",
    "Key_1 --> Hash Function -->  Index, Fixed size and Value\n",
    "\n",
    "Big O--- O(n)\n",
    "\n",
    "\n",
    "#### Variety of Hashing function\n",
    "#### Collisons in Hash table\n",
    "\n",
    "- Grow the table\n",
    "- Build a linked list\n",
    "\n",
    "\n"
   ]
  },
  {
   "cell_type": "markdown",
   "id": "ba0cbbff",
   "metadata": {
    "papermill": {
     "duration": 0.005923,
     "end_time": "2024-01-04T22:54:45.853933",
     "exception": false,
     "start_time": "2024-01-04T22:54:45.848010",
     "status": "completed"
    },
    "tags": []
   },
   "source": [
    "### HEAPS\n",
    "\n",
    "Structured like a Tree but behaves like a Queue. Assigning priority to certain element\n",
    "\n",
    "Min Heaps & Max Heaps\n",
    "\n",
    "-- O(logn)\n",
    "\n",
    "Insert\n",
    "Find_min\n",
    "Delete_min\n",
    "\n",
    "Find_Max\n",
    "Delete_Max"
   ]
  },
  {
   "cell_type": "markdown",
   "id": "02f159a9",
   "metadata": {
    "papermill": {
     "duration": 0.005579,
     "end_time": "2024-01-04T22:54:45.865750",
     "exception": false,
     "start_time": "2024-01-04T22:54:45.860171",
     "status": "completed"
    },
    "tags": []
   },
   "source": [
    "### GRAPHS\n",
    "\n",
    "Shortest path\n",
    "\n",
    "Travelling sales man\n",
    "\n",
    "One way and Two way connection\n",
    "\n",
    "Tree is a simple graph\n",
    "\n",
    "Two borders - Neighbours\n",
    "Connected through a neighbour - Adjacent\n",
    "\n",
    "Depth first - employ Stacks - Placing neigbour nodes systematically\n",
    "\n",
    "Breadth first - employ Queue - Systematically Visit every Node\n",
    "\n",
    "- Minimum Information\n",
    "- Easy to query\n"
   ]
  },
  {
   "cell_type": "markdown",
   "id": "d0f13a5c",
   "metadata": {
    "papermill": {
     "duration": 0.005291,
     "end_time": "2024-01-04T22:54:45.876684",
     "exception": false,
     "start_time": "2024-01-04T22:54:45.871393",
     "status": "completed"
    },
    "tags": []
   },
   "source": [
    "### LINKED LIST\n",
    "\n",
    "Value and Pointer \n",
    "\n",
    "inter linked with a start node and end node\n",
    "\n",
    "to store some data that would grow dynamically,\n",
    "\n",
    "uses nodes to reference an element's position in the data structure\n",
    "\n",
    "\n",
    "3 r     4 r      5 r       2 r         3 r         5 r      22 r    "
   ]
  },
  {
   "cell_type": "markdown",
   "id": "d09e64d8",
   "metadata": {
    "papermill": {
     "duration": 0.005468,
     "end_time": "2024-01-04T22:54:45.887818",
     "exception": false,
     "start_time": "2024-01-04T22:54:45.882350",
     "status": "completed"
    },
    "tags": []
   },
   "source": []
  }
 ],
 "metadata": {
  "kaggle": {
   "accelerator": "none",
   "dataSources": [],
   "dockerImageVersionId": 30626,
   "isGpuEnabled": false,
   "isInternetEnabled": true,
   "language": "python",
   "sourceType": "notebook"
  },
  "kernelspec": {
   "display_name": "Python 3",
   "language": "python",
   "name": "python3"
  },
  "language_info": {
   "codemirror_mode": {
    "name": "ipython",
    "version": 3
   },
   "file_extension": ".py",
   "mimetype": "text/x-python",
   "name": "python",
   "nbconvert_exporter": "python",
   "pygments_lexer": "ipython3",
   "version": "3.10.12"
  },
  "papermill": {
   "default_parameters": {},
   "duration": 5.195723,
   "end_time": "2024-01-04T22:54:46.616881",
   "environment_variables": {},
   "exception": null,
   "input_path": "__notebook__.ipynb",
   "output_path": "__notebook__.ipynb",
   "parameters": {},
   "start_time": "2024-01-04T22:54:41.421158",
   "version": "2.4.0"
  }
 },
 "nbformat": 4,
 "nbformat_minor": 5
}
