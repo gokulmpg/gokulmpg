{
 "cells": [
  {
   "cell_type": "code",
   "execution_count": 1,
   "id": "357293d3",
   "metadata": {
    "_cell_guid": "b1076dfc-b9ad-4769-8c92-a6c4dae69d19",
    "_uuid": "8f2839f25d086af736a60e9eeb907d3b93b6e0e5",
    "execution": {
     "iopub.execute_input": "2024-01-24T10:46:21.223156Z",
     "iopub.status.busy": "2024-01-24T10:46:21.222111Z",
     "iopub.status.idle": "2024-01-24T10:46:21.661290Z",
     "shell.execute_reply": "2024-01-24T10:46:21.660069Z"
    },
    "papermill": {
     "duration": 0.448573,
     "end_time": "2024-01-24T10:46:21.664153",
     "exception": false,
     "start_time": "2024-01-24T10:46:21.215580",
     "status": "completed"
    },
    "tags": []
   },
   "outputs": [],
   "source": [
    "# This Python 3 environment comes with many helpful analytics libraries installed\n",
    "# It is defined by the kaggle/python Docker image: https://github.com/kaggle/docker-python\n",
    "# For example, here's several helpful packages to load\n",
    "\n",
    "import numpy as np # linear algebra\n",
    "import pandas as pd # data processing, CSV file I/O (e.g. pd.read_csv)\n",
    "\n",
    "# Input data files are available in the read-only \"../input/\" directory\n",
    "# For example, running this (by clicking run or pressing Shift+Enter) will list all files under the input directory\n",
    "\n",
    "import os\n",
    "for dirname, _, filenames in os.walk('/kaggle/input'):\n",
    "    for filename in filenames:\n",
    "        print(os.path.join(dirname, filename))\n",
    "\n",
    "# You can write up to 20GB to the current directory (/kaggle/working/) that gets preserved as output when you create a version using \"Save & Run All\" \n",
    "# You can also write temporary files to /kaggle/temp/, but they won't be saved outside of the current session"
   ]
  },
  {
   "cell_type": "markdown",
   "id": "4362b5d0",
   "metadata": {
    "papermill": {
     "duration": 0.00395,
     "end_time": "2024-01-24T10:46:21.672751",
     "exception": false,
     "start_time": "2024-01-24T10:46:21.668801",
     "status": "completed"
    },
    "tags": []
   },
   "source": [
    "#### PyTorch is nothing but the Torch library with following enablement to the \n",
    "\n",
    "1. Tensor operations along with GPU\n",
    "2. Deep neural networks \n",
    "3. Integrations to acceleration libraries such as Intel MKL and NVIDIA"
   ]
  },
  {
   "cell_type": "markdown",
   "id": "6784a5f1",
   "metadata": {
    "papermill": {
     "duration": 0.003972,
     "end_time": "2024-01-24T10:46:21.681126",
     "exception": false,
     "start_time": "2024-01-24T10:46:21.677154",
     "status": "completed"
    },
    "tags": []
   },
   "source": [
    "#### Torch - Developed by Facebook’s AI research group \n",
    "1. open-sourced on GitHub in 2017\n",
    "2. used for applications such as natural language processing\n",
    "3. Pytorch has better debugging capabilities"
   ]
  },
  {
   "cell_type": "markdown",
   "id": "62460116",
   "metadata": {
    "papermill": {
     "duration": 0.003819,
     "end_time": "2024-01-24T10:46:21.689082",
     "exception": false,
     "start_time": "2024-01-24T10:46:21.685263",
     "status": "completed"
    },
    "tags": []
   },
   "source": []
  },
  {
   "cell_type": "markdown",
   "id": "ee69490f",
   "metadata": {
    "papermill": {
     "duration": 0.003902,
     "end_time": "2024-01-24T10:46:21.697585",
     "exception": false,
     "start_time": "2024-01-24T10:46:21.693683",
     "status": "completed"
    },
    "tags": []
   },
   "source": [
    "### 1. torch\n",
    "\n",
    "#### --> Tensors\n",
    "#### --> Generators\n",
    "#### --> Random sampling\n",
    "#### --> Serialization\n",
    "#### --> Parallelism\n",
    "#### --> Locally disabling gradient computation\n",
    "#### --> Math operations\n",
    "#### --> Utilities\n",
    "#### --> Symbolic Numbers\n",
    "#### --> Export Path\n",
    "#### --> Optimizations\n",
    "#### --> Operator Tags"
   ]
  },
  {
   "cell_type": "markdown",
   "id": "096a8334",
   "metadata": {
    "execution": {
     "iopub.execute_input": "2024-01-24T10:33:51.619662Z",
     "iopub.status.busy": "2024-01-24T10:33:51.619224Z",
     "iopub.status.idle": "2024-01-24T10:33:51.624865Z",
     "shell.execute_reply": "2024-01-24T10:33:51.623786Z",
     "shell.execute_reply.started": "2024-01-24T10:33:51.619628Z"
    },
    "papermill": {
     "duration": 0.003841,
     "end_time": "2024-01-24T10:46:21.705606",
     "exception": false,
     "start_time": "2024-01-24T10:46:21.701765",
     "status": "completed"
    },
    "tags": []
   },
   "source": [
    "### 2.torch.nn\n",
    "\n",
    "#### --> Parameter\n",
    "#### --> UninitializedParameter\n",
    "#### --> UninitializedBuffer\n",
    "#### --> Containers\n",
    "#### --> Convolution Layers\n",
    "#### --> Pooling layers\n",
    "#### --> Padding Layers\n",
    "#### --> Non-linear Activations (weighted sum, nonlinearity)\n",
    "#### --> Non-linear Activations (other)\n",
    "#### --> Normalization Layers\n",
    "#### --> Recurrent Layers\n",
    "#### --> Transformer Layers\n",
    "#### --> Linear Layers\n",
    "#### --> Dropout Layers\n",
    "#### --> Sparse Layers\n",
    "#### --> Distance Functions\n",
    "#### --> Loss Functions\n",
    "#### --> Vision Layers\n",
    "#### --> Shuffle Layers\n",
    "#### --> DataParallel Layers (multi-GPU, distributed)\n",
    "#### --> Utilities\n",
    "#### --> Quantized Functions\n",
    "#### --> Lazy Modules Initialization"
   ]
  },
  {
   "cell_type": "markdown",
   "id": "c68ab75f",
   "metadata": {
    "execution": {
     "iopub.execute_input": "2024-01-24T10:38:45.264496Z",
     "iopub.status.busy": "2024-01-24T10:38:45.264148Z",
     "iopub.status.idle": "2024-01-24T10:38:45.269692Z",
     "shell.execute_reply": "2024-01-24T10:38:45.268455Z",
     "shell.execute_reply.started": "2024-01-24T10:38:45.264466Z"
    },
    "papermill": {
     "duration": 0.003794,
     "end_time": "2024-01-24T10:46:21.713460",
     "exception": false,
     "start_time": "2024-01-24T10:46:21.709666",
     "status": "completed"
    },
    "tags": []
   },
   "source": [
    "### 3. torch.distributions\n",
    "\n",
    "#### --> Score function\n",
    "#### --> Pathwise derivative\n",
    "#### --> Distribution\n",
    "#### --> ExponentialFamily\n",
    "#### --> Bernoulli\n",
    "#### --> Beta\n",
    "#### --> Binomial\n",
    "#### --> Categorical\n",
    "#### --> Cauchy\n",
    "#### --> Chi2\n",
    "#### --> ContinuousBernoulli\n",
    "#### --> Dirichlet\n",
    "#### --> Exponential\n",
    "#### --> FisherSnedecor\n",
    "#### --> Gamma\n",
    "#### --> Geometric\n",
    "#### --> Gumbel\n",
    "#### --> HalfCauchy\n",
    "#### --> HalfNormal\n",
    "#### --> Independent\n",
    "#### --> Kumaraswamy\n",
    "#### --> LKJCholesky\n",
    "#### --> Laplace\n",
    "#### --> LogNormal\n",
    "#### --> LowRankMultivariateNormal\n",
    "#### --> MixtureSameFamily\n",
    "#### --> Multinomial\n",
    "#### --> MultivariateNormal\n",
    "#### --> NegativeBinomial\n",
    "#### --> Normal\n",
    "#### --> OneHotCategorical\n",
    "#### --> Pareto\n",
    "#### --> Poisson\n",
    "#### --> RelaxedBernoulli\n",
    "#### --> LogitRelaxedBernoulli\n",
    "#### --> RelaxedOneHotCategorical\n",
    "#### --> StudentT\n",
    "#### --> TransformedDistribution\n",
    "#### --> Uniform\n",
    "#### --> VonMises\n",
    "#### --> Weibull\n",
    "#### --> Wishart\n",
    "#### --> KL Divergence\n",
    "#### --> Transforms\n",
    "#### --> Constraints\n",
    "#### --> Constraint Registry"
   ]
  },
  {
   "cell_type": "markdown",
   "id": "52c99da6",
   "metadata": {
    "execution": {
     "iopub.execute_input": "2024-01-24T10:41:28.782229Z",
     "iopub.status.busy": "2024-01-24T10:41:28.781886Z",
     "iopub.status.idle": "2024-01-24T10:41:28.787145Z",
     "shell.execute_reply": "2024-01-24T10:41:28.785963Z",
     "shell.execute_reply.started": "2024-01-24T10:41:28.782204Z"
    },
    "papermill": {
     "duration": 0.004035,
     "end_time": "2024-01-24T10:46:21.722714",
     "exception": false,
     "start_time": "2024-01-24T10:46:21.718679",
     "status": "completed"
    },
    "tags": []
   },
   "source": [
    "### 4. torch.distributed.tensor.parallel\n",
    "#### --> parallelize_module()\n",
    "#### --> RowwiseParallel\n",
    "#### --> ColwiseParallel\n",
    "#### --> PairwiseParallel\n",
    "#### --> SequenceParallel"
   ]
  },
  {
   "cell_type": "markdown",
   "id": "3af7990c",
   "metadata": {
    "execution": {
     "iopub.execute_input": "2024-01-24T10:42:49.610111Z",
     "iopub.status.busy": "2024-01-24T10:42:49.609578Z",
     "iopub.status.idle": "2024-01-24T10:42:49.617253Z",
     "shell.execute_reply": "2024-01-24T10:42:49.615029Z",
     "shell.execute_reply.started": "2024-01-24T10:42:49.610071Z"
    },
    "papermill": {
     "duration": 0.003958,
     "end_time": "2024-01-24T10:46:21.731104",
     "exception": false,
     "start_time": "2024-01-24T10:46:21.727146",
     "status": "completed"
    },
    "tags": []
   },
   "source": [
    "### 5. torch.cpu\n",
    "#### --> torch.cpu.current_stream\n",
    "#### --> torch.cpu.is_available\n",
    "#### --> torch.cpu.synchronize\n",
    "#### --> torch.cpu.stream\n",
    "#### --> torch.cpu.device_count\n",
    "#### --> StreamContext\n",
    "#### --> Streams and events"
   ]
  },
  {
   "cell_type": "markdown",
   "id": "6a9a3ac1",
   "metadata": {
    "execution": {
     "iopub.execute_input": "2024-01-24T10:44:34.975427Z",
     "iopub.status.busy": "2024-01-24T10:44:34.975077Z",
     "iopub.status.idle": "2024-01-24T10:44:34.982425Z",
     "shell.execute_reply": "2024-01-24T10:44:34.980547Z",
     "shell.execute_reply.started": "2024-01-24T10:44:34.975397Z"
    },
    "papermill": {
     "duration": 0.003821,
     "end_time": "2024-01-24T10:46:21.739018",
     "exception": false,
     "start_time": "2024-01-24T10:46:21.735197",
     "status": "completed"
    },
    "tags": []
   },
   "source": [
    "### 6. torch.cuda\n",
    "#### --> StreamContext\n",
    "#### --> torch.cuda.can_device_access_peer\n",
    "#### --> torch.cuda.current_blas_handle\n",
    "#### --> torch.cuda.current_device\n",
    "#### --> torch.cuda.current_stream\n",
    "#### --> torch.cuda.default_stream\n",
    "#### --> device\n",
    "#### --> torch.cuda.device_count\n",
    "#### --> device_of\n",
    "#### --> torch.cuda.get_arch_list\n",
    "#### --> torch.cuda.get_device_capability\n",
    "#### --> torch.cuda.get_device_name\n",
    "#### --> torch.cuda.get_device_properties\n",
    "#### --> torch.cuda.get_gencode_flags\n",
    "#### --> torch.cuda.get_sync_debug_mode\n",
    "#### --> torch.cuda.init\n",
    "#### --> torch.cuda.ipc_collect\n",
    "#### --> torch.cuda.is_available\n",
    "#### --> torch.cuda.is_initialized\n",
    "#### --> torch.cuda.memory_usage\n",
    "#### --> torch.cuda.set_device\n",
    "#### --> torch.cuda.set_stream\n",
    "#### --> torch.cuda.set_sync_debug_mode\n",
    "#### --> torch.cuda.stream\n",
    "#### --> torch.cuda.synchronize\n",
    "#### --> torch.cuda.utilization\n",
    "#### --> torch.cuda.temperature\n",
    "#### --> torch.cuda.power_draw\n",
    "#### --> torch.cuda.clock_rate"
   ]
  },
  {
   "cell_type": "code",
   "execution_count": null,
   "id": "2c3437b6",
   "metadata": {
    "papermill": {
     "duration": 0.003929,
     "end_time": "2024-01-24T10:46:21.747132",
     "exception": false,
     "start_time": "2024-01-24T10:46:21.743203",
     "status": "completed"
    },
    "tags": []
   },
   "outputs": [],
   "source": []
  }
 ],
 "metadata": {
  "kaggle": {
   "accelerator": "none",
   "dataSources": [],
   "dockerImageVersionId": 30635,
   "isGpuEnabled": false,
   "isInternetEnabled": true,
   "language": "python",
   "sourceType": "notebook"
  },
  "kernelspec": {
   "display_name": "Python 3",
   "language": "python",
   "name": "python3"
  },
  "language_info": {
   "codemirror_mode": {
    "name": "ipython",
    "version": 3
   },
   "file_extension": ".py",
   "mimetype": "text/x-python",
   "name": "python",
   "nbconvert_exporter": "python",
   "pygments_lexer": "ipython3",
   "version": "3.10.12"
  },
  "papermill": {
   "default_parameters": {},
   "duration": 4.624314,
   "end_time": "2024-01-24T10:46:22.371933",
   "environment_variables": {},
   "exception": null,
   "input_path": "__notebook__.ipynb",
   "output_path": "__notebook__.ipynb",
   "parameters": {},
   "start_time": "2024-01-24T10:46:17.747619",
   "version": "2.4.0"
  }
 },
 "nbformat": 4,
 "nbformat_minor": 5
}
