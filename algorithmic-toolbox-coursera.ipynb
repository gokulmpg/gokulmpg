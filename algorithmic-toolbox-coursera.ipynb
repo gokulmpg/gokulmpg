{
 "cells": [
  {
   "cell_type": "code",
   "execution_count": 1,
   "id": "90a7dcba",
   "metadata": {
    "_cell_guid": "b1076dfc-b9ad-4769-8c92-a6c4dae69d19",
    "_uuid": "8f2839f25d086af736a60e9eeb907d3b93b6e0e5",
    "execution": {
     "iopub.execute_input": "2024-01-06T03:10:08.534072Z",
     "iopub.status.busy": "2024-01-06T03:10:08.533478Z",
     "iopub.status.idle": "2024-01-06T03:10:08.974910Z",
     "shell.execute_reply": "2024-01-06T03:10:08.973540Z"
    },
    "papermill": {
     "duration": 0.45191,
     "end_time": "2024-01-06T03:10:08.977848",
     "exception": false,
     "start_time": "2024-01-06T03:10:08.525938",
     "status": "completed"
    },
    "tags": []
   },
   "outputs": [],
   "source": [
    "# This Python 3 environment comes with many helpful analytics libraries installed\n",
    "# It is defined by the kaggle/python Docker image: https://github.com/kaggle/docker-python\n",
    "# For example, here's several helpful packages to load\n",
    "\n",
    "import numpy as np # linear algebra\n",
    "import pandas as pd # data processing, CSV file I/O (e.g. pd.read_csv)\n",
    "\n",
    "# Input data files are available in the read-only \"../input/\" directory\n",
    "# For example, running this (by clicking run or pressing Shift+Enter) will list all files under the input directory\n",
    "\n",
    "import os\n",
    "for dirname, _, filenames in os.walk('/kaggle/input'):\n",
    "    for filename in filenames:\n",
    "        print(os.path.join(dirname, filename))\n",
    "\n",
    "# You can write up to 20GB to the current directory (/kaggle/working/) that gets preserved as output when you create a version using \"Save & Run All\" \n",
    "# You can also write temporary files to /kaggle/temp/, but they won't be saved outside of the current session"
   ]
  },
  {
   "cell_type": "markdown",
   "id": "877e82ca",
   "metadata": {
    "papermill": {
     "duration": 0.004805,
     "end_time": "2024-01-06T03:10:08.988081",
     "exception": false,
     "start_time": "2024-01-06T03:10:08.983276",
     "status": "completed"
    },
    "tags": []
   },
   "source": [
    "#### TWO SUM"
   ]
  },
  {
   "cell_type": "code",
   "execution_count": 2,
   "id": "d9650d51",
   "metadata": {
    "execution": {
     "iopub.execute_input": "2024-01-06T03:10:09.000273Z",
     "iopub.status.busy": "2024-01-06T03:10:08.999656Z",
     "iopub.status.idle": "2024-01-06T03:10:09.008575Z",
     "shell.execute_reply": "2024-01-06T03:10:09.007455Z"
    },
    "papermill": {
     "duration": 0.017812,
     "end_time": "2024-01-06T03:10:09.010980",
     "exception": false,
     "start_time": "2024-01-06T03:10:08.993168",
     "status": "completed"
    },
    "tags": []
   },
   "outputs": [
    {
     "data": {
      "text/plain": [
       "0"
      ]
     },
     "execution_count": 2,
     "metadata": {},
     "output_type": "execute_result"
    }
   ],
   "source": [
    "##### Output two sum a + b\n",
    "\n",
    "a = 0\n",
    "b= 0 \n",
    "sum = 0\n",
    "\n",
    "\n",
    "#a = int(input(\"a\"))\n",
    "#b = int(input(\"b\"))\n",
    "\n",
    "sum = a + b\n",
    "sum"
   ]
  },
  {
   "cell_type": "markdown",
   "id": "bb2edb64",
   "metadata": {
    "papermill": {
     "duration": 0.004973,
     "end_time": "2024-01-06T03:10:09.021497",
     "exception": false,
     "start_time": "2024-01-06T03:10:09.016524",
     "status": "completed"
    },
    "tags": []
   },
   "source": [
    "## Stacks and Queues in Programming\n",
    "\n",
    "### Stacks\n",
    "\n",
    "Stacks = Building Blocks\n",
    "\n",
    "Last in first out\n",
    "\n",
    "Push --  Pop\n",
    "\n",
    "CTRL Z undo and CTRL Y redo\n",
    "\n",
    "\n",
    "#### Push Pop  isEmpty  isFull Peek\n",
    "\n",
    "Pop until nothings there\n",
    "Push puts item on the top\n",
    "Peek - Calling; Calling will never change the structure \n",
    "\n",
    "\n",
    "### Queues\n",
    "\n",
    "Queues = Oune after Other Architecture\n",
    "\n",
    "First in First out\n",
    "\n",
    "Push -- Pop\n",
    "\n",
    "#### Push Pop\n",
    "\n",
    "\n",
    "\n",
    "\n"
   ]
  },
  {
   "cell_type": "markdown",
   "id": "c6cbb7ad",
   "metadata": {
    "execution": {
     "iopub.execute_input": "2024-01-04T18:29:19.106735Z",
     "iopub.status.busy": "2024-01-04T18:29:19.106289Z",
     "iopub.status.idle": "2024-01-04T18:29:19.114933Z",
     "shell.execute_reply": "2024-01-04T18:29:19.113073Z",
     "shell.execute_reply.started": "2024-01-04T18:29:19.106701Z"
    },
    "papermill": {
     "duration": 0.005251,
     "end_time": "2024-01-06T03:10:09.032398",
     "exception": false,
     "start_time": "2024-01-06T03:10:09.027147",
     "status": "completed"
    },
    "tags": []
   },
   "source": [
    "'''\n",
    "class Stack:\n",
    "    def Stack:\n",
    "   return 0\n",
    "\n",
    "class Queue:\n",
    "    def Queue:\n",
    "    return 0\n",
    "container = Queue()\n",
    "\n",
    "\n",
    "container.push(1)\n",
    "\n",
    "print(container.pop())\n",
    "\n",
    "\n",
    "container.push()\n",
    "'''\n"
   ]
  },
  {
   "cell_type": "markdown",
   "id": "790e0ad6",
   "metadata": {
    "papermill": {
     "duration": 0.005138,
     "end_time": "2024-01-06T03:10:09.043225",
     "exception": false,
     "start_time": "2024-01-06T03:10:09.038087",
     "status": "completed"
    },
    "tags": []
   },
   "source": [
    "#### Why not just a list instead for class?\n",
    "\n",
    "By Queue we are creating an abstaction.We are restricting the way in which we are accessing the queue. It enforces the FIFO behaviour.\n",
    "\n"
   ]
  },
  {
   "cell_type": "markdown",
   "id": "cf3e1aea",
   "metadata": {
    "papermill": {
     "duration": 0.00485,
     "end_time": "2024-01-06T03:10:09.053206",
     "exception": false,
     "start_time": "2024-01-06T03:10:09.048356",
     "status": "completed"
    },
    "tags": []
   },
   "source": [
    "### Inheritance\n",
    "\n",
    "Create group of similar and identical by inheriting the characters of one class."
   ]
  },
  {
   "cell_type": "code",
   "execution_count": 3,
   "id": "8f78234c",
   "metadata": {
    "execution": {
     "iopub.execute_input": "2024-01-06T03:10:09.066427Z",
     "iopub.status.busy": "2024-01-06T03:10:09.066003Z",
     "iopub.status.idle": "2024-01-06T03:10:09.073526Z",
     "shell.execute_reply": "2024-01-06T03:10:09.072494Z"
    },
    "papermill": {
     "duration": 0.017061,
     "end_time": "2024-01-06T03:10:09.076038",
     "exception": false,
     "start_time": "2024-01-06T03:10:09.058977",
     "status": "completed"
    },
    "tags": []
   },
   "outputs": [
    {
     "data": {
      "text/plain": [
       "'\\nClass Base:\\n    def Hello(self):\\n        print(\"Hello\")\\n        \\n    def message(self,msg):\\n         print(msg)\\nClass Sub(Base):\\n     def message(self,msg):\\n         print(\"sub:\",msg)\\n \\nobj = sub()\\nobj.hello()\\nobj.meassage(\"Another Message\")\\n\\nbaseObj = Base()\\nbaseonj.hello()\\nbaseobj.message(\"another message\")\\n\\n'"
      ]
     },
     "execution_count": 3,
     "metadata": {},
     "output_type": "execute_result"
    }
   ],
   "source": [
    "#### Simple Inheritance\n",
    "\"\"\"\n",
    "Class Base:\n",
    "    def Hello(self):\n",
    "        print(\"Hello\")\n",
    "        \n",
    "    def message(self,msg):\n",
    "         print(msg)\n",
    "Class Sub(Base):\n",
    "     def message(self,msg):\n",
    "         print(\"sub:\",msg)\n",
    " \n",
    "obj = sub()\n",
    "obj.hello()\n",
    "obj.meassage(\"Another Message\")\n",
    "\n",
    "baseObj = Base()\n",
    "baseonj.hello()\n",
    "baseobj.message(\"another message\")\n",
    "\n",
    "\"\"\"\n",
    "   "
   ]
  },
  {
   "cell_type": "markdown",
   "id": "3c6fb15f",
   "metadata": {
    "papermill": {
     "duration": 0.005151,
     "end_time": "2024-01-06T03:10:09.086866",
     "exception": false,
     "start_time": "2024-01-06T03:10:09.081715",
     "status": "completed"
    },
    "tags": []
   },
   "source": [
    "#### GRIDS"
   ]
  },
  {
   "cell_type": "markdown",
   "id": "51b2cba5",
   "metadata": {
    "papermill": {
     "duration": 0.005586,
     "end_time": "2024-01-06T03:10:09.098770",
     "exception": false,
     "start_time": "2024-01-06T03:10:09.093184",
     "status": "completed"
    },
    "tags": []
   },
   "source": [
    "Matrix like structure with 2 dimensions"
   ]
  },
  {
   "cell_type": "markdown",
   "id": "11cfa5be",
   "metadata": {
    "papermill": {
     "duration": 0.005184,
     "end_time": "2024-01-06T03:10:09.109516",
     "exception": false,
     "start_time": "2024-01-06T03:10:09.104332",
     "status": "completed"
    },
    "tags": []
   },
   "source": [
    "### Trees\n",
    "\n",
    "Say lot about relations between data stored and saves lot of time when extracting.\n",
    "\n",
    "\n",
    "Parent - Children - Leaf\n",
    "\n",
    "Root Nodes\n",
    "\n",
    "Child Nodes\n",
    "\n",
    "Sibling Nodes\n",
    "\n",
    "\n",
    "Nodes & Edges\n",
    "\n",
    "\n",
    "\n",
    "Breadth First \n",
    "Depth First\n",
    "\n",
    "\n",
    "\n",
    "\n"
   ]
  },
  {
   "cell_type": "markdown",
   "id": "24ab4370",
   "metadata": {
    "papermill": {
     "duration": 0.005071,
     "end_time": "2024-01-06T03:10:09.120109",
     "exception": false,
     "start_time": "2024-01-06T03:10:09.115038",
     "status": "completed"
    },
    "tags": []
   },
   "source": [
    "### HASH TABLES\n",
    "\n",
    "Buckets of Key Value pair\n",
    "\n",
    "Key_1 --> Hash Function -->  Index, Fixed size and Value\n",
    "\n",
    "Big O--- O(n)\n",
    "\n",
    "\n",
    "#### Variety of Hashing function\n",
    "#### Collisons in Hash table\n",
    "\n",
    "- Grow the table\n",
    "- Build a linked list\n",
    "\n",
    "\n"
   ]
  },
  {
   "cell_type": "markdown",
   "id": "d99468f5",
   "metadata": {
    "papermill": {
     "duration": 0.005832,
     "end_time": "2024-01-06T03:10:09.132073",
     "exception": false,
     "start_time": "2024-01-06T03:10:09.126241",
     "status": "completed"
    },
    "tags": []
   },
   "source": [
    "### HEAPS\n",
    "\n",
    "Structured like a Tree but behaves like a Queue. Assigning priority to certain element\n",
    "\n",
    "Min Heaps & Max Heaps\n",
    "\n",
    "-- O(logn)\n",
    "\n",
    "Insert\n",
    "Find_min\n",
    "Delete_min\n",
    "\n",
    "Find_Max\n",
    "Delete_Max"
   ]
  },
  {
   "cell_type": "markdown",
   "id": "0b2c31a5",
   "metadata": {
    "papermill": {
     "duration": 0.005156,
     "end_time": "2024-01-06T03:10:09.142768",
     "exception": false,
     "start_time": "2024-01-06T03:10:09.137612",
     "status": "completed"
    },
    "tags": []
   },
   "source": [
    "### GRAPHS\n",
    "\n",
    "Shortest path\n",
    "\n",
    "Travelling sales man\n",
    "\n",
    "One way and Two way connection\n",
    "\n",
    "Tree is a simple graph\n",
    "\n",
    "Two borders - Neighbours\n",
    "Connected through a neighbour - Adjacent\n",
    "\n",
    "Depth first - employ Stacks - Placing neigbour nodes systematically\n",
    "\n",
    "Breadth first - employ Queue - Systematically Visit every Node\n",
    "\n",
    "- Minimum Information\n",
    "- Easy to query\n"
   ]
  },
  {
   "cell_type": "markdown",
   "id": "7ad5bb05",
   "metadata": {
    "papermill": {
     "duration": 0.00532,
     "end_time": "2024-01-06T03:10:09.153843",
     "exception": false,
     "start_time": "2024-01-06T03:10:09.148523",
     "status": "completed"
    },
    "tags": []
   },
   "source": [
    "### LINKED LIST\n",
    "\n",
    "Value and Pointer \n",
    "\n",
    "inter linked with a start node and end node\n",
    "\n",
    "to store some data that would grow dynamically,\n",
    "\n",
    "uses nodes to reference an element's position in the data structure\n",
    "\n",
    "\n",
    "3 r     4 r      5 r       2 r         3 r         5 r      22 r    "
   ]
  },
  {
   "cell_type": "markdown",
   "id": "e60942d1",
   "metadata": {
    "papermill": {
     "duration": 0.005251,
     "end_time": "2024-01-06T03:10:09.165267",
     "exception": false,
     "start_time": "2024-01-06T03:10:09.160016",
     "status": "completed"
    },
    "tags": []
   },
   "source": []
  }
 ],
 "metadata": {
  "kaggle": {
   "accelerator": "none",
   "dataSources": [],
   "dockerImageVersionId": 30626,
   "isGpuEnabled": false,
   "isInternetEnabled": true,
   "language": "python",
   "sourceType": "notebook"
  },
  "kernelspec": {
   "display_name": "Python 3",
   "language": "python",
   "name": "python3"
  },
  "language_info": {
   "codemirror_mode": {
    "name": "ipython",
    "version": 3
   },
   "file_extension": ".py",
   "mimetype": "text/x-python",
   "name": "python",
   "nbconvert_exporter": "python",
   "pygments_lexer": "ipython3",
   "version": "3.10.12"
  },
  "papermill": {
   "default_parameters": {},
   "duration": 4.851913,
   "end_time": "2024-01-06T03:10:09.691396",
   "environment_variables": {},
   "exception": null,
   "input_path": "__notebook__.ipynb",
   "output_path": "__notebook__.ipynb",
   "parameters": {},
   "start_time": "2024-01-06T03:10:04.839483",
   "version": "2.4.0"
  }
 },
 "nbformat": 4,
 "nbformat_minor": 5
}
