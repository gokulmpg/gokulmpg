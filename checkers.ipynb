{
 "cells": [
  {
   "cell_type": "code",
   "execution_count": 1,
   "id": "6c177a89",
   "metadata": {
    "_cell_guid": "b1076dfc-b9ad-4769-8c92-a6c4dae69d19",
    "_uuid": "8f2839f25d086af736a60e9eeb907d3b93b6e0e5",
    "execution": {
     "iopub.execute_input": "2024-01-23T18:24:46.348555Z",
     "iopub.status.busy": "2024-01-23T18:24:46.348094Z",
     "iopub.status.idle": "2024-01-23T18:24:46.883297Z",
     "shell.execute_reply": "2024-01-23T18:24:46.882498Z"
    },
    "papermill": {
     "duration": 0.540663,
     "end_time": "2024-01-23T18:24:46.885305",
     "exception": false,
     "start_time": "2024-01-23T18:24:46.344642",
     "status": "completed"
    },
    "tags": []
   },
   "outputs": [],
   "source": [
    "# This Python 3 environment comes with many helpful analytics libraries installed\n",
    "# It is defined by the kaggle/python Docker image: https://github.com/kaggle/docker-python\n",
    "# For example, here's several helpful packages to load\n",
    "\n",
    "import numpy as np # linear algebra\n",
    "import pandas as pd # data processing, CSV file I/O (e.g. pd.read_csv)\n",
    "\n",
    "# Input data files are available in the read-only \"../input/\" directory\n",
    "# For example, running this (by clicking run or pressing Shift+Enter) will list all files under the input directory\n",
    "\n",
    "import os\n",
    "for dirname, _, filenames in os.walk('/kaggle/input'):\n",
    "    for filename in filenames:\n",
    "        print(os.path.join(dirname, filename))\n",
    "\n",
    "# You can write up to 20GB to the current directory (/kaggle/working/) that gets preserved as output when you create a version using \"Save & Run All\" \n",
    "# You can also write temporary files to /kaggle/temp/, but they won't be saved outside of the current session"
   ]
  },
  {
   "cell_type": "code",
   "execution_count": 2,
   "id": "10d364e4",
   "metadata": {
    "execution": {
     "iopub.execute_input": "2024-01-23T18:24:46.889712Z",
     "iopub.status.busy": "2024-01-23T18:24:46.889379Z",
     "iopub.status.idle": "2024-01-23T18:24:46.894509Z",
     "shell.execute_reply": "2024-01-23T18:24:46.893651Z"
    },
    "papermill": {
     "duration": 0.009163,
     "end_time": "2024-01-23T18:24:46.896270",
     "exception": false,
     "start_time": "2024-01-23T18:24:46.887107",
     "status": "completed"
    },
    "tags": []
   },
   "outputs": [],
   "source": [
    "def print_matrix(self):\n",
    "        i = 0\n",
    "        print()\n",
    "        for row in self.matrix:\n",
    "            print(i, end=\"  |\")\n",
    "            i += 1\n",
    "            for elem in row:\n",
    "                print(elem, end=\" \")\n",
    "            print()\n",
    "        print()\n",
    "        for j in range(8):\n",
    "            if j == 0:\n",
    "                j = \"     0\"\n",
    "            print(j, end=\"   \")\n",
    "        print(\"\\n\")"
   ]
  },
  {
   "cell_type": "code",
   "execution_count": 3,
   "id": "969d50d2",
   "metadata": {
    "execution": {
     "iopub.execute_input": "2024-01-23T18:24:46.900186Z",
     "iopub.status.busy": "2024-01-23T18:24:46.899930Z",
     "iopub.status.idle": "2024-01-23T18:24:46.902921Z",
     "shell.execute_reply": "2024-01-23T18:24:46.902314Z"
    },
    "papermill": {
     "duration": 0.0068,
     "end_time": "2024-01-23T18:24:46.904557",
     "exception": false,
     "start_time": "2024-01-23T18:24:46.897757",
     "status": "completed"
    },
    "tags": []
   },
   "outputs": [],
   "source": [
    "#print_matrix([[1,2,1,2,1,2],[3,2,3,2,3,2],[1,2,1,2,1,2],[3,2,3,2,3,2],[1,2,1,2,1,2],[3,2,3,2,3,2]])"
   ]
  },
  {
   "cell_type": "code",
   "execution_count": null,
   "id": "4a3819b0",
   "metadata": {
    "papermill": {
     "duration": 0.001292,
     "end_time": "2024-01-23T18:24:46.907342",
     "exception": false,
     "start_time": "2024-01-23T18:24:46.906050",
     "status": "completed"
    },
    "tags": []
   },
   "outputs": [],
   "source": []
  }
 ],
 "metadata": {
  "kaggle": {
   "accelerator": "none",
   "dataSources": [],
   "dockerImageVersionId": 30635,
   "isGpuEnabled": false,
   "isInternetEnabled": true,
   "language": "python",
   "sourceType": "notebook"
  },
  "kernelspec": {
   "display_name": "Python 3",
   "language": "python",
   "name": "python3"
  },
  "language_info": {
   "codemirror_mode": {
    "name": "ipython",
    "version": 3
   },
   "file_extension": ".py",
   "mimetype": "text/x-python",
   "name": "python",
   "nbconvert_exporter": "python",
   "pygments_lexer": "ipython3",
   "version": "3.10.12"
  },
  "papermill": {
   "default_parameters": {},
   "duration": 3.895541,
   "end_time": "2024-01-23T18:24:47.226233",
   "environment_variables": {},
   "exception": null,
   "input_path": "__notebook__.ipynb",
   "output_path": "__notebook__.ipynb",
   "parameters": {},
   "start_time": "2024-01-23T18:24:43.330692",
   "version": "2.4.0"
  }
 },
 "nbformat": 4,
 "nbformat_minor": 5
}
