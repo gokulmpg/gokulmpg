{
 "cells": [
  {
   "cell_type": "code",
   "execution_count": 1,
   "id": "b7b1f3ad",
   "metadata": {
    "_cell_guid": "b1076dfc-b9ad-4769-8c92-a6c4dae69d19",
    "_uuid": "8f2839f25d086af736a60e9eeb907d3b93b6e0e5",
    "execution": {
     "iopub.execute_input": "2024-01-11T18:20:17.868050Z",
     "iopub.status.busy": "2024-01-11T18:20:17.867595Z",
     "iopub.status.idle": "2024-01-11T18:20:18.334186Z",
     "shell.execute_reply": "2024-01-11T18:20:18.333198Z"
    },
    "papermill": {
     "duration": 0.47693,
     "end_time": "2024-01-11T18:20:18.337475",
     "exception": false,
     "start_time": "2024-01-11T18:20:17.860545",
     "status": "completed"
    },
    "tags": []
   },
   "outputs": [],
   "source": [
    "# This Python 3 environment comes with many helpful analytics libraries installed\n",
    "# It is defined by the kaggle/python Docker image: https://github.com/kaggle/docker-python\n",
    "# For example, here's several helpful packages to load\n",
    "\n",
    "import numpy as np # linear algebra\n",
    "import pandas as pd # data processing, CSV file I/O (e.g. pd.read_csv)\n",
    "\n",
    "# Input data files are available in the read-only \"../input/\" directory\n",
    "# For example, running this (by clicking run or pressing Shift+Enter) will list all files under the input directory\n",
    "\n",
    "import os\n",
    "for dirname, _, filenames in os.walk('/kaggle/input'):\n",
    "    for filename in filenames:\n",
    "        print(os.path.join(dirname, filename))\n",
    "\n",
    "# You can write up to 20GB to the current directory (/kaggle/working/) that gets preserved as output when you create a version using \"Save & Run All\" \n",
    "# You can also write temporary files to /kaggle/temp/, but they won't be saved outside of the current session"
   ]
  },
  {
   "cell_type": "code",
   "execution_count": 2,
   "id": "284c2113",
   "metadata": {
    "execution": {
     "iopub.execute_input": "2024-01-11T18:20:18.346233Z",
     "iopub.status.busy": "2024-01-11T18:20:18.345612Z",
     "iopub.status.idle": "2024-01-11T18:20:18.350419Z",
     "shell.execute_reply": "2024-01-11T18:20:18.349249Z"
    },
    "papermill": {
     "duration": 0.012207,
     "end_time": "2024-01-11T18:20:18.353147",
     "exception": false,
     "start_time": "2024-01-11T18:20:18.340940",
     "status": "completed"
    },
    "tags": []
   },
   "outputs": [],
   "source": [
    "#Machine learning "
   ]
  },
  {
   "cell_type": "code",
   "execution_count": 3,
   "id": "5263aa9b",
   "metadata": {
    "execution": {
     "iopub.execute_input": "2024-01-11T18:20:18.361178Z",
     "iopub.status.busy": "2024-01-11T18:20:18.360775Z",
     "iopub.status.idle": "2024-01-11T18:20:18.366065Z",
     "shell.execute_reply": "2024-01-11T18:20:18.364735Z"
    },
    "papermill": {
     "duration": 0.01218,
     "end_time": "2024-01-11T18:20:18.368593",
     "exception": false,
     "start_time": "2024-01-11T18:20:18.356413",
     "status": "completed"
    },
    "tags": []
   },
   "outputs": [],
   "source": [
    "#Tensorflow\n"
   ]
  },
  {
   "cell_type": "code",
   "execution_count": 4,
   "id": "eed57d65",
   "metadata": {
    "execution": {
     "iopub.execute_input": "2024-01-11T18:20:18.377319Z",
     "iopub.status.busy": "2024-01-11T18:20:18.376584Z",
     "iopub.status.idle": "2024-01-11T18:20:18.380463Z",
     "shell.execute_reply": "2024-01-11T18:20:18.379701Z"
    },
    "papermill": {
     "duration": 0.010883,
     "end_time": "2024-01-11T18:20:18.382793",
     "exception": false,
     "start_time": "2024-01-11T18:20:18.371910",
     "status": "completed"
    },
    "tags": []
   },
   "outputs": [],
   "source": [
    "#Keras"
   ]
  },
  {
   "cell_type": "code",
   "execution_count": 5,
   "id": "8b338629",
   "metadata": {
    "execution": {
     "iopub.execute_input": "2024-01-11T18:20:18.390774Z",
     "iopub.status.busy": "2024-01-11T18:20:18.390319Z",
     "iopub.status.idle": "2024-01-11T18:20:18.395148Z",
     "shell.execute_reply": "2024-01-11T18:20:18.393991Z"
    },
    "papermill": {
     "duration": 0.011697,
     "end_time": "2024-01-11T18:20:18.397677",
     "exception": false,
     "start_time": "2024-01-11T18:20:18.385980",
     "status": "completed"
    },
    "tags": []
   },
   "outputs": [],
   "source": [
    "#Pytorch"
   ]
  },
  {
   "cell_type": "code",
   "execution_count": null,
   "id": "265a714e",
   "metadata": {
    "papermill": {
     "duration": 0.002879,
     "end_time": "2024-01-11T18:20:18.403815",
     "exception": false,
     "start_time": "2024-01-11T18:20:18.400936",
     "status": "completed"
    },
    "tags": []
   },
   "outputs": [],
   "source": []
  }
 ],
 "metadata": {
  "kaggle": {
   "accelerator": "none",
   "dataSources": [],
   "dockerImageVersionId": 30635,
   "isGpuEnabled": false,
   "isInternetEnabled": true,
   "language": "python",
   "sourceType": "notebook"
  },
  "kernelspec": {
   "display_name": "Python 3",
   "language": "python",
   "name": "python3"
  },
  "language_info": {
   "codemirror_mode": {
    "name": "ipython",
    "version": 3
   },
   "file_extension": ".py",
   "mimetype": "text/x-python",
   "name": "python",
   "nbconvert_exporter": "python",
   "pygments_lexer": "ipython3",
   "version": "3.10.12"
  },
  "papermill": {
   "default_parameters": {},
   "duration": 5.161357,
   "end_time": "2024-01-11T18:20:18.928778",
   "environment_variables": {},
   "exception": null,
   "input_path": "__notebook__.ipynb",
   "output_path": "__notebook__.ipynb",
   "parameters": {},
   "start_time": "2024-01-11T18:20:13.767421",
   "version": "2.4.0"
  }
 },
 "nbformat": 4,
 "nbformat_minor": 5
}
