{
 "cells": [
  {
   "cell_type": "code",
   "execution_count": 1,
   "id": "1e39b42d",
   "metadata": {
    "_cell_guid": "b1076dfc-b9ad-4769-8c92-a6c4dae69d19",
    "_uuid": "8f2839f25d086af736a60e9eeb907d3b93b6e0e5",
    "execution": {
     "iopub.execute_input": "2024-01-08T01:40:34.888616Z",
     "iopub.status.busy": "2024-01-08T01:40:34.888197Z",
     "iopub.status.idle": "2024-01-08T01:40:35.284464Z",
     "shell.execute_reply": "2024-01-08T01:40:35.283387Z"
    },
    "papermill": {
     "duration": 0.405887,
     "end_time": "2024-01-08T01:40:35.287032",
     "exception": false,
     "start_time": "2024-01-08T01:40:34.881145",
     "status": "completed"
    },
    "tags": []
   },
   "outputs": [],
   "source": [
    "# This Python 3 environment comes with many helpful analytics libraries installed\n",
    "# It is defined by the kaggle/python Docker image: https://github.com/kaggle/docker-python\n",
    "# For example, here's several helpful packages to load\n",
    "\n",
    "import numpy as np # linear algebra\n",
    "import pandas as pd # data processing, CSV file I/O (e.g. pd.read_csv)\n",
    "\n",
    "# Input data files are available in the read-only \"../input/\" directory\n",
    "# For example, running this (by clicking run or pressing Shift+Enter) will list all files under the input directory\n",
    "\n",
    "import os\n",
    "for dirname, _, filenames in os.walk('/kaggle/input'):\n",
    "    for filename in filenames:\n",
    "        print(os.path.join(dirname, filename))\n",
    "\n",
    "# You can write up to 20GB to the current directory (/kaggle/working/) that gets preserved as output when you create a version using \"Save & Run All\" \n",
    "# You can also write temporary files to /kaggle/temp/, but they won't be saved outside of the current session"
   ]
  },
  {
   "cell_type": "markdown",
   "id": "64034d37",
   "metadata": {
    "papermill": {
     "duration": 0.004238,
     "end_time": "2024-01-08T01:40:35.296086",
     "exception": false,
     "start_time": "2024-01-08T01:40:35.291848",
     "status": "completed"
    },
    "tags": []
   },
   "source": [
    "# META COURSE"
   ]
  },
  {
   "cell_type": "markdown",
   "id": "6250015f",
   "metadata": {
    "execution": {
     "iopub.execute_input": "2024-01-05T20:21:08.683666Z",
     "iopub.status.busy": "2024-01-05T20:21:08.683005Z",
     "iopub.status.idle": "2024-01-05T20:21:08.688682Z",
     "shell.execute_reply": "2024-01-05T20:21:08.687521Z",
     "shell.execute_reply.started": "2024-01-05T20:21:08.683625Z"
    },
    "papermill": {
     "duration": 0.004422,
     "end_time": "2024-01-08T01:40:35.304926",
     "exception": false,
     "start_time": "2024-01-08T01:40:35.300504",
     "status": "completed"
    },
    "tags": []
   },
   "source": [
    "- SOrting Algo\n",
    "\n",
    "- SORting methods\n",
    "\n",
    "- Linear Search  & Binary Search\n",
    "\n",
    "- IMplementation and advantages"
   ]
  },
  {
   "cell_type": "markdown",
   "id": "04cd5f5c",
   "metadata": {
    "papermill": {
     "duration": 0.004131,
     "end_time": "2024-01-08T01:40:35.313502",
     "exception": false,
     "start_time": "2024-01-08T01:40:35.309371",
     "status": "completed"
    },
    "tags": []
   },
   "source": [
    "\n",
    "# SORTING\n",
    "\n",
    "\n",
    "### Selection Sorting\n",
    "\n",
    "65 5 4 3 51 30 221  22\n",
    "\n",
    "\n",
    "First 65 is compared with all the element to the right and swapped with minimum\n",
    "\n",
    "3 5 4 65 51 30 221 22\n",
    "\n",
    "Then 5 Compared to the all the element to the right and swapped with minimum\n",
    "\n",
    "3 4 5 65 51 30 221 22\n",
    "\n",
    "and so on until the results acheived"
   ]
  },
  {
   "cell_type": "code",
   "execution_count": 2,
   "id": "2f3ab56d",
   "metadata": {
    "execution": {
     "iopub.execute_input": "2024-01-08T01:40:35.324241Z",
     "iopub.status.busy": "2024-01-08T01:40:35.323726Z",
     "iopub.status.idle": "2024-01-08T01:40:35.330232Z",
     "shell.execute_reply": "2024-01-08T01:40:35.328891Z"
    },
    "papermill": {
     "duration": 0.014489,
     "end_time": "2024-01-08T01:40:35.332422",
     "exception": false,
     "start_time": "2024-01-08T01:40:35.317933",
     "status": "completed"
    },
    "tags": []
   },
   "outputs": [],
   "source": [
    "List = [65, 5, 4, 3, 51, 30, 221, 22]\n",
    "\n",
    "for i in range(len(List)-1):\n",
    "    min_in = i\n",
    "    for j in range(i+1,len(List)):\n",
    "        if List[j] < List[min_in]:\n",
    "            min_in=j \n",
    "    List[i], List[min_in] =  List[min_in], List[i]"
   ]
  },
  {
   "cell_type": "code",
   "execution_count": 3,
   "id": "5a4a2aa5",
   "metadata": {
    "execution": {
     "iopub.execute_input": "2024-01-08T01:40:35.343273Z",
     "iopub.status.busy": "2024-01-08T01:40:35.342852Z",
     "iopub.status.idle": "2024-01-08T01:40:35.350942Z",
     "shell.execute_reply": "2024-01-08T01:40:35.349845Z"
    },
    "papermill": {
     "duration": 0.016182,
     "end_time": "2024-01-08T01:40:35.353207",
     "exception": false,
     "start_time": "2024-01-08T01:40:35.337025",
     "status": "completed"
    },
    "tags": []
   },
   "outputs": [
    {
     "data": {
      "text/plain": [
       "[3, 4, 5, 22, 30, 51, 65, 221]"
      ]
     },
     "execution_count": 3,
     "metadata": {},
     "output_type": "execute_result"
    }
   ],
   "source": [
    "List"
   ]
  },
  {
   "cell_type": "markdown",
   "id": "652cd1fe",
   "metadata": {
    "papermill": {
     "duration": 0.004866,
     "end_time": "2024-01-08T01:40:35.362873",
     "exception": false,
     "start_time": "2024-01-08T01:40:35.358007",
     "status": "completed"
    },
    "tags": []
   },
   "source": [
    "### INSERTION SORTING\n",
    "12 11 13 5 6\n",
    "Compare first element with second element\n",
    "\n",
    "if 1st greater than 2nd, swap... \n",
    "\n",
    "11 12 13 5 6\n",
    "\n",
    "Compare second with third element  element\n",
    "\n",
    "if 2nd greater than 3rd, swap...\n",
    "\n",
    "until all sorted\n"
   ]
  },
  {
   "cell_type": "code",
   "execution_count": 4,
   "id": "3fe38141",
   "metadata": {
    "execution": {
     "iopub.execute_input": "2024-01-08T01:40:35.374196Z",
     "iopub.status.busy": "2024-01-08T01:40:35.373666Z",
     "iopub.status.idle": "2024-01-08T01:40:35.381715Z",
     "shell.execute_reply": "2024-01-08T01:40:35.380553Z"
    },
    "papermill": {
     "duration": 0.016859,
     "end_time": "2024-01-08T01:40:35.384646",
     "exception": false,
     "start_time": "2024-01-08T01:40:35.367787",
     "status": "completed"
    },
    "tags": []
   },
   "outputs": [
    {
     "name": "stdout",
     "output_type": "stream",
     "text": [
      "[5, 6, 11, 12, 13]\n"
     ]
    }
   ],
   "source": [
    "def insertionSort(arr):\n",
    "        n = len(arr) # Get the length of the array\n",
    "\n",
    "        if n <= 1:\n",
    "            return # If the array has 0 or 1 element, it is already sorted, so return\n",
    "\n",
    "        for i in range(1, n): # Iterate over the array starting from the second element\n",
    "            key = arr[i] # Store the current element as the key to be inserted in the right position\n",
    "            j = i-1\n",
    "            while j >= 0 and key < arr[j]: # Move elements greater than key one position ahead\n",
    "                arr[j+1] = arr[j] # Shift elements to the right\n",
    "                j -= 1\n",
    "            arr[j+1] = key # Insert the key in the correct position\n",
    "\n",
    "# Sorting the array [12, 11, 13, 5, 6] using insertionSort\n",
    "arr = [12, 11, 13, 5, 6]\n",
    "insertionSort(arr)\n",
    "print(arr)\n"
   ]
  },
  {
   "cell_type": "markdown",
   "id": "b39fb5e3",
   "metadata": {
    "papermill": {
     "duration": 0.004933,
     "end_time": "2024-01-08T01:40:35.394753",
     "exception": false,
     "start_time": "2024-01-08T01:40:35.389820",
     "status": "completed"
    },
    "tags": []
   },
   "source": [
    "### Quick SORTING\n",
    "\n",
    "\n",
    "22 43 6 41 2 11 4\n",
    "\n",
    "Select pivot\n",
    "\n",
    "split list into\n",
    "\n",
    "\n",
    "if n is even => n/2 + 1 && if n is odd =>  n+1/2\n",
    "\n",
    "smaller element to the left and bigger element to the right\n",
    "\n",
    "\n",
    "\n",
    "22 6 2 11 4 // 41   //  43\n",
    "\n",
    "do smaller element to the left and bigger element to the right on each branch\n",
    "\n",
    "6 2 4 // 11 // 22 41  // 43 \n",
    "\n",
    "do smaller element to the left and bigger element to the right on each branch\n",
    "\n",
    "2 // 6 4 // 11 // 22 //  41 // 43\n",
    "\n",
    "do smaller element to the left and bigger element to the right on each branch\n",
    "\n",
    "2 // 4 // 6 // 11 //  22 // 41 //  43 \n",
    "\n",
    "do smaller element to the left and bigger element to the right on each branch\n",
    "\n",
    "\n",
    "\n",
    "\n"
   ]
  },
  {
   "cell_type": "code",
   "execution_count": 5,
   "id": "1d161adf",
   "metadata": {
    "execution": {
     "iopub.execute_input": "2024-01-08T01:40:35.406213Z",
     "iopub.status.busy": "2024-01-08T01:40:35.405813Z",
     "iopub.status.idle": "2024-01-08T01:40:35.413495Z",
     "shell.execute_reply": "2024-01-08T01:40:35.412191Z"
    },
    "papermill": {
     "duration": 0.016248,
     "end_time": "2024-01-08T01:40:35.415845",
     "exception": false,
     "start_time": "2024-01-08T01:40:35.399597",
     "status": "completed"
    },
    "tags": []
   },
   "outputs": [],
   "source": [
    "def partition(arr, low, high):\n",
    "    \n",
    "  pivot = arr[high] \n",
    "  i = low - 1\n",
    "\n",
    "  for j in range(low, high):\n",
    "    if arr[j] <= pivot:\n",
    "      i = i + 1\n",
    "      (arr[i], arr[j]) = (arr[j], arr[i])\n",
    "  (arr[i + 1], arr[high]) = (arr[high], arr[i + 1])\n",
    "\n",
    "  # return the position \n",
    "  return i + 1\n",
    "\n",
    "# QickSort\n",
    "def QuickSort(arr, low, high):\n",
    "  if low < high:\n",
    "    # find pivot element \n",
    "    pivot = partition(arr, low, high)\n",
    "    QuickSort(arr, low, pivot - 1)\n",
    "    QuickSort(arr, pivot + 1, high)\n",
    "    return arr"
   ]
  },
  {
   "cell_type": "code",
   "execution_count": 6,
   "id": "9b98ba9f",
   "metadata": {
    "execution": {
     "iopub.execute_input": "2024-01-08T01:40:35.427527Z",
     "iopub.status.busy": "2024-01-08T01:40:35.426825Z",
     "iopub.status.idle": "2024-01-08T01:40:35.434744Z",
     "shell.execute_reply": "2024-01-08T01:40:35.433307Z"
    },
    "papermill": {
     "duration": 0.017084,
     "end_time": "2024-01-08T01:40:35.437732",
     "exception": false,
     "start_time": "2024-01-08T01:40:35.420648",
     "status": "completed"
    },
    "tags": []
   },
   "outputs": [
    {
     "data": {
      "text/plain": [
       "[1, 2, 4, 11, 43]"
      ]
     },
     "execution_count": 6,
     "metadata": {},
     "output_type": "execute_result"
    }
   ],
   "source": [
    "QuickSort([1,2,11,4,43],0,len([1,2,11,4,43])-1)"
   ]
  },
  {
   "cell_type": "markdown",
   "id": "987de556",
   "metadata": {
    "papermill": {
     "duration": 0.004979,
     "end_time": "2024-01-08T01:40:35.448459",
     "exception": false,
     "start_time": "2024-01-08T01:40:35.443480",
     "status": "completed"
    },
    "tags": []
   },
   "source": [
    "### Merge Sort\n",
    "\n",
    "- mid is the middle point where the n/2 occurs... \n",
    "\n",
    "- sort both of the sides\n",
    "\n",
    "- \n",
    "\n",
    "[1 2 3 5 12 14 22]         [ 2 6 8 10 11 12 13 2o ]\n",
    "\n",
    "1 2 2 3 5 6 8 10 11 12 12 13 14 20 22\n",
    "\n",
    "\n"
   ]
  },
  {
   "cell_type": "code",
   "execution_count": 7,
   "id": "f513fded",
   "metadata": {
    "execution": {
     "iopub.execute_input": "2024-01-08T01:40:35.461468Z",
     "iopub.status.busy": "2024-01-08T01:40:35.461095Z",
     "iopub.status.idle": "2024-01-08T01:40:35.467274Z",
     "shell.execute_reply": "2024-01-08T01:40:35.466168Z"
    },
    "papermill": {
     "duration": 0.016908,
     "end_time": "2024-01-08T01:40:35.470308",
     "exception": false,
     "start_time": "2024-01-08T01:40:35.453400",
     "status": "completed"
    },
    "tags": []
   },
   "outputs": [],
   "source": [
    "def mergesort ( array, left, right):\n",
    "    if ( left >= right):\n",
    "        return\n",
    "    if (left + 1 == right):\n",
    "        if lst[left] > lst[right]:\n",
    "            swap(lst, left, right)\n",
    "        return\n",
    "    else:\n",
    "        mid = (left + right)//2\n",
    "        mergesort(array, left, mid)\n",
    "        mergesort(array, mid+1, right)\n",
    "        merge(array, left, mid, right)"
   ]
  },
  {
   "cell_type": "markdown",
   "id": "76a2c477",
   "metadata": {
    "papermill": {
     "duration": 0.004735,
     "end_time": "2024-01-08T01:40:35.480592",
     "exception": false,
     "start_time": "2024-01-08T01:40:35.475857",
     "status": "completed"
    },
    "tags": []
   },
   "source": [
    "# SEARCHING\n",
    "\n",
    "#### Heap or Binary Tree\n",
    "\n",
    "\n",
    "### LINEAR SEARCH\n",
    "\n",
    "\n"
   ]
  },
  {
   "cell_type": "code",
   "execution_count": 8,
   "id": "56d83a5f",
   "metadata": {
    "execution": {
     "iopub.execute_input": "2024-01-08T01:40:35.491899Z",
     "iopub.status.busy": "2024-01-08T01:40:35.491438Z",
     "iopub.status.idle": "2024-01-08T01:40:35.497025Z",
     "shell.execute_reply": "2024-01-08T01:40:35.495852Z"
    },
    "papermill": {
     "duration": 0.013693,
     "end_time": "2024-01-08T01:40:35.499114",
     "exception": false,
     "start_time": "2024-01-08T01:40:35.485421",
     "status": "completed"
    },
    "tags": []
   },
   "outputs": [],
   "source": [
    "def linearSearch(array, n, x):\n",
    "\n",
    "    # Going through array sequencially\n",
    "    for i in range(0, n):\n",
    "        if (array[i] == x):\n",
    "            return i\n",
    "    return -1\n"
   ]
  },
  {
   "cell_type": "markdown",
   "id": "c18a8bf3",
   "metadata": {
    "papermill": {
     "duration": 0.004611,
     "end_time": "2024-01-08T01:40:35.508850",
     "exception": false,
     "start_time": "2024-01-08T01:40:35.504239",
     "status": "completed"
    },
    "tags": []
   },
   "source": [
    "### BINARY SEARCH"
   ]
  },
  {
   "cell_type": "code",
   "execution_count": 9,
   "id": "2cb672e6",
   "metadata": {
    "execution": {
     "iopub.execute_input": "2024-01-08T01:40:35.521397Z",
     "iopub.status.busy": "2024-01-08T01:40:35.521001Z",
     "iopub.status.idle": "2024-01-08T01:40:35.526855Z",
     "shell.execute_reply": "2024-01-08T01:40:35.525793Z"
    },
    "papermill": {
     "duration": 0.014507,
     "end_time": "2024-01-08T01:40:35.529123",
     "exception": false,
     "start_time": "2024-01-08T01:40:35.514616",
     "status": "completed"
    },
    "tags": []
   },
   "outputs": [],
   "source": [
    "def binarySearch(array, x, low, high):\n",
    "\n",
    "    # Repeat until the pointers low and high meet each other\n",
    "    while low <= high:\n",
    "\n",
    "        mid = low + (high - low)//2\n",
    "\n",
    "        if array[mid] == x:\n",
    "            return mid\n",
    "\n",
    "        elif array[mid] < x:\n",
    "            low = mid + 1\n",
    "\n",
    "        else:\n",
    "            high = mid - 1\n",
    "\n",
    "    return -1"
   ]
  },
  {
   "cell_type": "code",
   "execution_count": null,
   "id": "469a1d88",
   "metadata": {
    "papermill": {
     "duration": 0.004524,
     "end_time": "2024-01-08T01:40:35.538516",
     "exception": false,
     "start_time": "2024-01-08T01:40:35.533992",
     "status": "completed"
    },
    "tags": []
   },
   "outputs": [],
   "source": []
  },
  {
   "cell_type": "code",
   "execution_count": null,
   "id": "743e1920",
   "metadata": {
    "papermill": {
     "duration": 0.00459,
     "end_time": "2024-01-08T01:40:35.547903",
     "exception": false,
     "start_time": "2024-01-08T01:40:35.543313",
     "status": "completed"
    },
    "tags": []
   },
   "outputs": [],
   "source": []
  }
 ],
 "metadata": {
  "kaggle": {
   "accelerator": "none",
   "dataSources": [],
   "dockerImageVersionId": 30626,
   "isGpuEnabled": false,
   "isInternetEnabled": true,
   "language": "python",
   "sourceType": "notebook"
  },
  "kernelspec": {
   "display_name": "Python 3",
   "language": "python",
   "name": "python3"
  },
  "language_info": {
   "codemirror_mode": {
    "name": "ipython",
    "version": 3
   },
   "file_extension": ".py",
   "mimetype": "text/x-python",
   "name": "python",
   "nbconvert_exporter": "python",
   "pygments_lexer": "ipython3",
   "version": "3.10.12"
  },
  "papermill": {
   "default_parameters": {},
   "duration": 4.421548,
   "end_time": "2024-01-08T01:40:36.074370",
   "environment_variables": {},
   "exception": null,
   "input_path": "__notebook__.ipynb",
   "output_path": "__notebook__.ipynb",
   "parameters": {},
   "start_time": "2024-01-08T01:40:31.652822",
   "version": "2.4.0"
  }
 },
 "nbformat": 4,
 "nbformat_minor": 5
}
