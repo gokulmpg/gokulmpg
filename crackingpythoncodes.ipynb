{
 "cells": [
  {
   "cell_type": "code",
   "execution_count": 1,
   "id": "e0e92846",
   "metadata": {
    "_cell_guid": "b1076dfc-b9ad-4769-8c92-a6c4dae69d19",
    "_uuid": "8f2839f25d086af736a60e9eeb907d3b93b6e0e5",
    "execution": {
     "iopub.execute_input": "2024-01-13T16:09:25.315632Z",
     "iopub.status.busy": "2024-01-13T16:09:25.315018Z",
     "iopub.status.idle": "2024-01-13T16:09:25.845123Z",
     "shell.execute_reply": "2024-01-13T16:09:25.843616Z"
    },
    "papermill": {
     "duration": 0.539026,
     "end_time": "2024-01-13T16:09:25.848406",
     "exception": false,
     "start_time": "2024-01-13T16:09:25.309380",
     "status": "completed"
    },
    "tags": []
   },
   "outputs": [],
   "source": [
    "# This Python 3 environment comes with many helpful analytics libraries installed\n",
    "# It is defined by the kaggle/python Docker image: https://github.com/kaggle/docker-python\n",
    "# For example, here's several helpful packages to load\n",
    "\n",
    "import numpy as np # linear algebra\n",
    "import pandas as pd # data processing, CSV file I/O (e.g. pd.read_csv)\n",
    "\n",
    "# Input data files are available in the read-only \"../input/\" directory\n",
    "# For example, running this (by clicking run or pressing Shift+Enter) will list all files under the input directory\n",
    "\n",
    "import os\n",
    "for dirname, _, filenames in os.walk('/kaggle/input'):\n",
    "    for filename in filenames:\n",
    "        print(os.path.join(dirname, filename))\n",
    "\n",
    "# You can write up to 20GB to the current directory (/kaggle/working/) that gets preserved as output when you create a version using \"Save & Run All\" \n",
    "# You can also write temporary files to /kaggle/temp/, but they won't be saved outside of the current session"
   ]
  },
  {
   "cell_type": "code",
   "execution_count": 2,
   "id": "fd348b5b",
   "metadata": {
    "execution": {
     "iopub.execute_input": "2024-01-13T16:09:25.855993Z",
     "iopub.status.busy": "2024-01-13T16:09:25.855311Z",
     "iopub.status.idle": "2024-01-13T16:09:25.861813Z",
     "shell.execute_reply": "2024-01-13T16:09:25.860269Z"
    },
    "papermill": {
     "duration": 0.013008,
     "end_time": "2024-01-13T16:09:25.864342",
     "exception": false,
     "start_time": "2024-01-13T16:09:25.851334",
     "status": "completed"
    },
    "tags": []
   },
   "outputs": [],
   "source": [
    "#coding python "
   ]
  },
  {
   "cell_type": "code",
   "execution_count": null,
   "id": "7e46212c",
   "metadata": {
    "papermill": {
     "duration": 0.001854,
     "end_time": "2024-01-13T16:09:25.868463",
     "exception": false,
     "start_time": "2024-01-13T16:09:25.866609",
     "status": "completed"
    },
    "tags": []
   },
   "outputs": [],
   "source": []
  }
 ],
 "metadata": {
  "kaggle": {
   "accelerator": "none",
   "dataSources": [],
   "dockerImageVersionId": 30635,
   "isGpuEnabled": false,
   "isInternetEnabled": true,
   "language": "python",
   "sourceType": "notebook"
  },
  "kernelspec": {
   "display_name": "Python 3",
   "language": "python",
   "name": "python3"
  },
  "language_info": {
   "codemirror_mode": {
    "name": "ipython",
    "version": 3
   },
   "file_extension": ".py",
   "mimetype": "text/x-python",
   "name": "python",
   "nbconvert_exporter": "python",
   "pygments_lexer": "ipython3",
   "version": "3.10.12"
  },
  "papermill": {
   "default_parameters": {},
   "duration": 5.009271,
   "end_time": "2024-01-13T16:09:26.392581",
   "environment_variables": {},
   "exception": null,
   "input_path": "__notebook__.ipynb",
   "output_path": "__notebook__.ipynb",
   "parameters": {},
   "start_time": "2024-01-13T16:09:21.383310",
   "version": "2.4.0"
  }
 },
 "nbformat": 4,
 "nbformat_minor": 5
}
