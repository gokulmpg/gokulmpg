{
 "cells": [
  {
   "cell_type": "code",
   "execution_count": 1,
   "id": "a7aa8b6e",
   "metadata": {
    "_cell_guid": "b1076dfc-b9ad-4769-8c92-a6c4dae69d19",
    "_uuid": "8f2839f25d086af736a60e9eeb907d3b93b6e0e5",
    "execution": {
     "iopub.execute_input": "2024-01-06T00:47:47.271680Z",
     "iopub.status.busy": "2024-01-06T00:47:47.271151Z",
     "iopub.status.idle": "2024-01-06T00:47:47.948648Z",
     "shell.execute_reply": "2024-01-06T00:47:47.947872Z"
    },
    "papermill": {
     "duration": 0.686377,
     "end_time": "2024-01-06T00:47:47.951096",
     "exception": false,
     "start_time": "2024-01-06T00:47:47.264719",
     "status": "completed"
    },
    "tags": []
   },
   "outputs": [],
   "source": [
    "# This Python 3 environment comes with many helpful analytics libraries installed\n",
    "# It is defined by the kaggle/python Docker image: https://github.com/kaggle/docker-python\n",
    "# For example, here's several helpful packages to load\n",
    "\n",
    "import numpy as np # linear algebra\n",
    "import pandas as pd # data processing, CSV file I/O (e.g. pd.read_csv)\n",
    "\n",
    "# Input data files are available in the read-only \"../input/\" directory\n",
    "# For example, running this (by clicking run or pressing Shift+Enter) will list all files under the input directory\n",
    "\n",
    "import os\n",
    "for dirname, _, filenames in os.walk('/kaggle/input'):\n",
    "    for filename in filenames:\n",
    "        print(os.path.join(dirname, filename))\n",
    "\n",
    "# You can write up to 20GB to the current directory (/kaggle/working/) that gets preserved as output when you create a version using \"Save & Run All\" \n",
    "# You can also write temporary files to /kaggle/temp/, but they won't be saved outside of the current session"
   ]
  },
  {
   "cell_type": "markdown",
   "id": "7f9dcd43",
   "metadata": {
    "papermill": {
     "duration": 0.00427,
     "end_time": "2024-01-06T00:47:47.960664",
     "exception": false,
     "start_time": "2024-01-06T00:47:47.956394",
     "status": "completed"
    },
    "tags": []
   },
   "source": [
    "# META COURSE"
   ]
  },
  {
   "cell_type": "markdown",
   "id": "1fdb3ebc",
   "metadata": {
    "execution": {
     "iopub.execute_input": "2024-01-05T20:21:08.683666Z",
     "iopub.status.busy": "2024-01-05T20:21:08.683005Z",
     "iopub.status.idle": "2024-01-05T20:21:08.688682Z",
     "shell.execute_reply": "2024-01-05T20:21:08.687521Z",
     "shell.execute_reply.started": "2024-01-05T20:21:08.683625Z"
    },
    "papermill": {
     "duration": 0.004119,
     "end_time": "2024-01-06T00:47:47.969424",
     "exception": false,
     "start_time": "2024-01-06T00:47:47.965305",
     "status": "completed"
    },
    "tags": []
   },
   "source": [
    "- SOrting Algo\n",
    "\n",
    "- SORting methods\n",
    "\n",
    "- Linear Search  & Binary Search\n",
    "\n",
    "- IMplementation and advantages"
   ]
  },
  {
   "cell_type": "markdown",
   "id": "ed43d361",
   "metadata": {
    "papermill": {
     "duration": 0.004166,
     "end_time": "2024-01-06T00:47:47.978162",
     "exception": false,
     "start_time": "2024-01-06T00:47:47.973996",
     "status": "completed"
    },
    "tags": []
   },
   "source": [
    "\n",
    "# SORTING\n",
    "\n",
    "\n",
    "### Selection Sorting\n",
    "\n",
    "65 5 4 3 51 30 221  22\n",
    "\n",
    "\n",
    "First 65 is compared with all the element to the right and swapped with minimum\n",
    "\n",
    "3 5 4 65 51 30 221 22\n",
    "\n",
    "Then 5 Compared to the all the element to the right and swapped with minimum\n",
    "\n",
    "3 4 5 65 51 30 221 22\n",
    "\n",
    "and so on until the results acheived"
   ]
  },
  {
   "cell_type": "code",
   "execution_count": 2,
   "id": "1d93e193",
   "metadata": {
    "execution": {
     "iopub.execute_input": "2024-01-06T00:47:47.988231Z",
     "iopub.status.busy": "2024-01-06T00:47:47.987795Z",
     "iopub.status.idle": "2024-01-06T00:47:47.993233Z",
     "shell.execute_reply": "2024-01-06T00:47:47.992533Z"
    },
    "papermill": {
     "duration": 0.012431,
     "end_time": "2024-01-06T00:47:47.994948",
     "exception": false,
     "start_time": "2024-01-06T00:47:47.982517",
     "status": "completed"
    },
    "tags": []
   },
   "outputs": [],
   "source": [
    "List = [65, 5, 4, 3, 51, 30, 221, 22]\n",
    "\n",
    "for i in range(len(List)-1):\n",
    "    min_in = i\n",
    "    for j in range(i+1,len(List)):\n",
    "        if List[j] < List[min_in]:\n",
    "            min_in=j \n",
    "    List[i], List[min_in] =  List[min_in], List[i]"
   ]
  },
  {
   "cell_type": "code",
   "execution_count": 3,
   "id": "2b77c306",
   "metadata": {
    "execution": {
     "iopub.execute_input": "2024-01-06T00:47:48.004988Z",
     "iopub.status.busy": "2024-01-06T00:47:48.004537Z",
     "iopub.status.idle": "2024-01-06T00:47:48.009758Z",
     "shell.execute_reply": "2024-01-06T00:47:48.009185Z"
    },
    "papermill": {
     "duration": 0.012199,
     "end_time": "2024-01-06T00:47:48.011462",
     "exception": false,
     "start_time": "2024-01-06T00:47:47.999263",
     "status": "completed"
    },
    "tags": []
   },
   "outputs": [
    {
     "data": {
      "text/plain": [
       "[3, 4, 5, 22, 30, 51, 65, 221]"
      ]
     },
     "execution_count": 3,
     "metadata": {},
     "output_type": "execute_result"
    }
   ],
   "source": [
    "List"
   ]
  },
  {
   "cell_type": "markdown",
   "id": "bfd2f6ab",
   "metadata": {
    "papermill": {
     "duration": 0.004217,
     "end_time": "2024-01-06T00:47:48.020168",
     "exception": false,
     "start_time": "2024-01-06T00:47:48.015951",
     "status": "completed"
    },
    "tags": []
   },
   "source": [
    "### INSERTION SORTING\n",
    "12 11 13 5 6\n",
    "Compare first element with second element\n",
    "\n",
    "if 1st greater than 2nd, swap... \n",
    "\n",
    "11 12 13 5 6\n",
    "\n",
    "Compare second with third element  element\n",
    "\n",
    "if 2nd greater than 3rd, swap...\n",
    "\n",
    "until all sorted\n"
   ]
  },
  {
   "cell_type": "code",
   "execution_count": 4,
   "id": "a85dbb18",
   "metadata": {
    "execution": {
     "iopub.execute_input": "2024-01-06T00:47:48.030458Z",
     "iopub.status.busy": "2024-01-06T00:47:48.030068Z",
     "iopub.status.idle": "2024-01-06T00:47:48.036582Z",
     "shell.execute_reply": "2024-01-06T00:47:48.035567Z"
    },
    "papermill": {
     "duration": 0.013842,
     "end_time": "2024-01-06T00:47:48.038425",
     "exception": false,
     "start_time": "2024-01-06T00:47:48.024583",
     "status": "completed"
    },
    "tags": []
   },
   "outputs": [
    {
     "name": "stdout",
     "output_type": "stream",
     "text": [
      "[5, 6, 11, 12, 13]\n"
     ]
    }
   ],
   "source": [
    "def insertionSort(arr):\n",
    "        n = len(arr) # Get the length of the array\n",
    "\n",
    "        if n <= 1:\n",
    "            return # If the array has 0 or 1 element, it is already sorted, so return\n",
    "\n",
    "        for i in range(1, n): # Iterate over the array starting from the second element\n",
    "            key = arr[i] # Store the current element as the key to be inserted in the right position\n",
    "            j = i-1\n",
    "            while j >= 0 and key < arr[j]: # Move elements greater than key one position ahead\n",
    "                arr[j+1] = arr[j] # Shift elements to the right\n",
    "                j -= 1\n",
    "            arr[j+1] = key # Insert the key in the correct position\n",
    "\n",
    "# Sorting the array [12, 11, 13, 5, 6] using insertionSort\n",
    "arr = [12, 11, 13, 5, 6]\n",
    "insertionSort(arr)\n",
    "print(arr)\n"
   ]
  },
  {
   "cell_type": "markdown",
   "id": "1ae00b66",
   "metadata": {
    "papermill": {
     "duration": 0.004377,
     "end_time": "2024-01-06T00:47:48.049728",
     "exception": false,
     "start_time": "2024-01-06T00:47:48.045351",
     "status": "completed"
    },
    "tags": []
   },
   "source": [
    "### Quick SORTING\n",
    "\n",
    "\n",
    "22 43 6 41 2 11 4\n",
    "\n",
    "Select pivot\n",
    "\n",
    "split list into\n",
    "\n",
    "\n",
    "if n is even => n/2 + 1 && if n is odd =>  n+1/2\n",
    "\n",
    "smaller element to the left and bigger element to the right\n",
    "\n",
    "\n",
    "\n",
    "22 6 2 11 4 // 41   //  43\n",
    "\n",
    "do smaller element to the left and bigger element to the right on each branch\n",
    "\n",
    "6 2 4 // 11 // 22 41  // 43 \n",
    "\n",
    "do smaller element to the left and bigger element to the right on each branch\n",
    "\n",
    "2 // 6 4 // 11 // 22 //  41 // 43\n",
    "\n",
    "do smaller element to the left and bigger element to the right on each branch\n",
    "\n",
    "2 // 4 // 6 // 11 //  22 // 41 //  43 \n",
    "\n",
    "do smaller element to the left and bigger element to the right on each branch\n",
    "\n",
    "\n",
    "\n",
    "\n"
   ]
  },
  {
   "cell_type": "code",
   "execution_count": 5,
   "id": "88e03bc8",
   "metadata": {
    "execution": {
     "iopub.execute_input": "2024-01-06T00:47:48.059912Z",
     "iopub.status.busy": "2024-01-06T00:47:48.059647Z",
     "iopub.status.idle": "2024-01-06T00:47:48.065629Z",
     "shell.execute_reply": "2024-01-06T00:47:48.065003Z"
    },
    "papermill": {
     "duration": 0.0129,
     "end_time": "2024-01-06T00:47:48.067216",
     "exception": false,
     "start_time": "2024-01-06T00:47:48.054316",
     "status": "completed"
    },
    "tags": []
   },
   "outputs": [],
   "source": [
    "def partition(arr, low, high):\n",
    "    \n",
    "  pivot = arr[high] \n",
    "  i = low - 1\n",
    "\n",
    "  for j in range(low, high):\n",
    "    if arr[j] <= pivot:\n",
    "      i = i + 1\n",
    "      (arr[i], arr[j]) = (arr[j], arr[i])\n",
    "  (arr[i + 1], arr[high]) = (arr[high], arr[i + 1])\n",
    "\n",
    "  # return the position \n",
    "  return i + 1\n",
    "\n",
    "# QickSort\n",
    "def QuickSort(arr, low, high):\n",
    "  if low < high:\n",
    "    # find pivot element \n",
    "    pivot = partition(arr, low, high)\n",
    "    QuickSort(arr, low, pivot - 1)\n",
    "    QuickSort(arr, pivot + 1, high)\n",
    "    return arr"
   ]
  },
  {
   "cell_type": "code",
   "execution_count": 6,
   "id": "0d14fea5",
   "metadata": {
    "execution": {
     "iopub.execute_input": "2024-01-06T00:47:48.078019Z",
     "iopub.status.busy": "2024-01-06T00:47:48.077573Z",
     "iopub.status.idle": "2024-01-06T00:47:48.082633Z",
     "shell.execute_reply": "2024-01-06T00:47:48.082028Z"
    },
    "papermill": {
     "duration": 0.012173,
     "end_time": "2024-01-06T00:47:48.084251",
     "exception": false,
     "start_time": "2024-01-06T00:47:48.072078",
     "status": "completed"
    },
    "tags": []
   },
   "outputs": [
    {
     "data": {
      "text/plain": [
       "[1, 2, 4, 11, 43]"
      ]
     },
     "execution_count": 6,
     "metadata": {},
     "output_type": "execute_result"
    }
   ],
   "source": [
    "QuickSort([1,2,11,4,43],0,len([1,2,11,4,43])-1)"
   ]
  },
  {
   "cell_type": "markdown",
   "id": "f1796058",
   "metadata": {
    "papermill": {
     "duration": 0.004422,
     "end_time": "2024-01-06T00:47:48.093413",
     "exception": false,
     "start_time": "2024-01-06T00:47:48.088991",
     "status": "completed"
    },
    "tags": []
   },
   "source": [
    "# SEARCHING\n",
    "\n",
    "#### Heap or Binary Tree\n",
    "\n",
    "\n",
    "### LINEAR SEARCH\n",
    "\n",
    "\n"
   ]
  },
  {
   "cell_type": "code",
   "execution_count": 7,
   "id": "e371ec4e",
   "metadata": {
    "execution": {
     "iopub.execute_input": "2024-01-06T00:47:48.104117Z",
     "iopub.status.busy": "2024-01-06T00:47:48.103692Z",
     "iopub.status.idle": "2024-01-06T00:47:48.108048Z",
     "shell.execute_reply": "2024-01-06T00:47:48.107206Z"
    },
    "papermill": {
     "duration": 0.011474,
     "end_time": "2024-01-06T00:47:48.109728",
     "exception": false,
     "start_time": "2024-01-06T00:47:48.098254",
     "status": "completed"
    },
    "tags": []
   },
   "outputs": [],
   "source": [
    "def linearSearch(array, n, x):\n",
    "\n",
    "    # Going through array sequencially\n",
    "    for i in range(0, n):\n",
    "        if (array[i] == x):\n",
    "            return i\n",
    "    return -1\n"
   ]
  },
  {
   "cell_type": "markdown",
   "id": "3b891b06",
   "metadata": {
    "papermill": {
     "duration": 0.004466,
     "end_time": "2024-01-06T00:47:48.118844",
     "exception": false,
     "start_time": "2024-01-06T00:47:48.114378",
     "status": "completed"
    },
    "tags": []
   },
   "source": [
    "### BINARY SEARCH"
   ]
  },
  {
   "cell_type": "code",
   "execution_count": 8,
   "id": "ca54aed5",
   "metadata": {
    "execution": {
     "iopub.execute_input": "2024-01-06T00:47:48.129235Z",
     "iopub.status.busy": "2024-01-06T00:47:48.128964Z",
     "iopub.status.idle": "2024-01-06T00:47:48.134183Z",
     "shell.execute_reply": "2024-01-06T00:47:48.133290Z"
    },
    "papermill": {
     "duration": 0.012405,
     "end_time": "2024-01-06T00:47:48.135955",
     "exception": false,
     "start_time": "2024-01-06T00:47:48.123550",
     "status": "completed"
    },
    "tags": []
   },
   "outputs": [],
   "source": [
    "def binarySearch(array, x, low, high):\n",
    "\n",
    "    # Repeat until the pointers low and high meet each other\n",
    "    while low <= high:\n",
    "\n",
    "        mid = low + (high - low)//2\n",
    "\n",
    "        if array[mid] == x:\n",
    "            return mid\n",
    "\n",
    "        elif array[mid] < x:\n",
    "            low = mid + 1\n",
    "\n",
    "        else:\n",
    "            high = mid - 1\n",
    "\n",
    "    return -1"
   ]
  },
  {
   "cell_type": "code",
   "execution_count": null,
   "id": "8e61f933",
   "metadata": {
    "papermill": {
     "duration": 0.004448,
     "end_time": "2024-01-06T00:47:48.145022",
     "exception": false,
     "start_time": "2024-01-06T00:47:48.140574",
     "status": "completed"
    },
    "tags": []
   },
   "outputs": [],
   "source": []
  }
 ],
 "metadata": {
  "kaggle": {
   "accelerator": "none",
   "dataSources": [],
   "dockerImageVersionId": 30626,
   "isGpuEnabled": false,
   "isInternetEnabled": true,
   "language": "python",
   "sourceType": "notebook"
  },
  "kernelspec": {
   "display_name": "Python 3",
   "language": "python",
   "name": "python3"
  },
  "language_info": {
   "codemirror_mode": {
    "name": "ipython",
    "version": 3
   },
   "file_extension": ".py",
   "mimetype": "text/x-python",
   "name": "python",
   "nbconvert_exporter": "python",
   "pygments_lexer": "ipython3",
   "version": "3.10.12"
  },
  "papermill": {
   "default_parameters": {},
   "duration": 4.937812,
   "end_time": "2024-01-06T00:47:48.466620",
   "environment_variables": {},
   "exception": null,
   "input_path": "__notebook__.ipynb",
   "output_path": "__notebook__.ipynb",
   "parameters": {},
   "start_time": "2024-01-06T00:47:43.528808",
   "version": "2.4.0"
  }
 },
 "nbformat": 4,
 "nbformat_minor": 5
}
