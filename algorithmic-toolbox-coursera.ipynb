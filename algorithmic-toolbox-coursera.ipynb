{
 "cells": [
  {
   "cell_type": "code",
   "execution_count": 1,
   "id": "cab3bc73",
   "metadata": {
    "_cell_guid": "b1076dfc-b9ad-4769-8c92-a6c4dae69d19",
    "_uuid": "8f2839f25d086af736a60e9eeb907d3b93b6e0e5",
    "execution": {
     "iopub.execute_input": "2024-01-04T18:36:11.783209Z",
     "iopub.status.busy": "2024-01-04T18:36:11.782448Z",
     "iopub.status.idle": "2024-01-04T18:36:12.173993Z",
     "shell.execute_reply": "2024-01-04T18:36:12.172848Z"
    },
    "papermill": {
     "duration": 0.399716,
     "end_time": "2024-01-04T18:36:12.176459",
     "exception": false,
     "start_time": "2024-01-04T18:36:11.776743",
     "status": "completed"
    },
    "tags": []
   },
   "outputs": [],
   "source": [
    "# This Python 3 environment comes with many helpful analytics libraries installed\n",
    "# It is defined by the kaggle/python Docker image: https://github.com/kaggle/docker-python\n",
    "# For example, here's several helpful packages to load\n",
    "\n",
    "import numpy as np # linear algebra\n",
    "import pandas as pd # data processing, CSV file I/O (e.g. pd.read_csv)\n",
    "\n",
    "# Input data files are available in the read-only \"../input/\" directory\n",
    "# For example, running this (by clicking run or pressing Shift+Enter) will list all files under the input directory\n",
    "\n",
    "import os\n",
    "for dirname, _, filenames in os.walk('/kaggle/input'):\n",
    "    for filename in filenames:\n",
    "        print(os.path.join(dirname, filename))\n",
    "\n",
    "# You can write up to 20GB to the current directory (/kaggle/working/) that gets preserved as output when you create a version using \"Save & Run All\" \n",
    "# You can also write temporary files to /kaggle/temp/, but they won't be saved outside of the current session"
   ]
  },
  {
   "cell_type": "markdown",
   "id": "28c70f46",
   "metadata": {
    "papermill": {
     "duration": 0.002425,
     "end_time": "2024-01-04T18:36:12.183315",
     "exception": false,
     "start_time": "2024-01-04T18:36:12.180890",
     "status": "completed"
    },
    "tags": []
   },
   "source": [
    "#### TWO SUM"
   ]
  },
  {
   "cell_type": "code",
   "execution_count": 2,
   "id": "fc6d67bf",
   "metadata": {
    "execution": {
     "iopub.execute_input": "2024-01-04T18:36:12.190263Z",
     "iopub.status.busy": "2024-01-04T18:36:12.189782Z",
     "iopub.status.idle": "2024-01-04T18:36:12.197526Z",
     "shell.execute_reply": "2024-01-04T18:36:12.196523Z"
    },
    "papermill": {
     "duration": 0.014025,
     "end_time": "2024-01-04T18:36:12.199803",
     "exception": false,
     "start_time": "2024-01-04T18:36:12.185778",
     "status": "completed"
    },
    "tags": []
   },
   "outputs": [
    {
     "data": {
      "text/plain": [
       "0"
      ]
     },
     "execution_count": 2,
     "metadata": {},
     "output_type": "execute_result"
    }
   ],
   "source": [
    "##### Output two sum a + b\n",
    "\n",
    "a = 0\n",
    "b= 0 \n",
    "sum = 0\n",
    "\n",
    "\n",
    "#a = int(input(\"a\"))\n",
    "#b = int(input(\"b\"))\n",
    "\n",
    "sum = a + b\n",
    "sum"
   ]
  },
  {
   "cell_type": "markdown",
   "id": "db193b92",
   "metadata": {
    "papermill": {
     "duration": 0.002158,
     "end_time": "2024-01-04T18:36:12.204404",
     "exception": false,
     "start_time": "2024-01-04T18:36:12.202246",
     "status": "completed"
    },
    "tags": []
   },
   "source": [
    "### Stacks and Queues in Programming\n",
    "\n",
    "\n",
    "#Stacks = Building Blocks\n",
    "\n",
    "#Last in first out\n",
    "\n",
    "#Push --  Pop\n",
    "\n",
    "### Queues\n",
    "\n",
    "#Queues = Oune after Other Architecture\n",
    "\n",
    "#First in First out\n",
    "\n",
    "#Push -- Pop\n",
    "\n",
    "\n",
    "\n",
    "\n",
    "\n",
    "\n"
   ]
  },
  {
   "cell_type": "markdown",
   "id": "3c9cc289",
   "metadata": {
    "execution": {
     "iopub.execute_input": "2024-01-04T18:29:19.106735Z",
     "iopub.status.busy": "2024-01-04T18:29:19.106289Z",
     "iopub.status.idle": "2024-01-04T18:29:19.114933Z",
     "shell.execute_reply": "2024-01-04T18:29:19.113073Z",
     "shell.execute_reply.started": "2024-01-04T18:29:19.106701Z"
    },
    "papermill": {
     "duration": 0.002088,
     "end_time": "2024-01-04T18:36:12.209111",
     "exception": false,
     "start_time": "2024-01-04T18:36:12.207023",
     "status": "completed"
    },
    "tags": []
   },
   "source": [
    "#''''\n",
    "\n",
    "#class Stack:\n",
    " ####   def Stack:\n",
    " ####   return 0\n",
    "\n",
    "#### class Queue:\n",
    "    #def Queue:\n",
    "    #return 0\n",
    "#container = Queue()\n",
    "\n",
    "\n",
    "#container.push(1)\n",
    "\n",
    "#print(container.pop())\n",
    "\n",
    "\n",
    "#container.push()\n",
    "\n",
    "\n",
    "#'#'''\n"
   ]
  },
  {
   "cell_type": "code",
   "execution_count": null,
   "id": "1a87964a",
   "metadata": {
    "papermill": {
     "duration": 0.002187,
     "end_time": "2024-01-04T18:36:12.213588",
     "exception": false,
     "start_time": "2024-01-04T18:36:12.211401",
     "status": "completed"
    },
    "tags": []
   },
   "outputs": [],
   "source": []
  }
 ],
 "metadata": {
  "kaggle": {
   "accelerator": "none",
   "dataSources": [],
   "dockerImageVersionId": 30626,
   "isGpuEnabled": false,
   "isInternetEnabled": true,
   "language": "python",
   "sourceType": "notebook"
  },
  "kernelspec": {
   "display_name": "Python 3",
   "language": "python",
   "name": "python3"
  },
  "language_info": {
   "codemirror_mode": {
    "name": "ipython",
    "version": 3
   },
   "file_extension": ".py",
   "mimetype": "text/x-python",
   "name": "python",
   "nbconvert_exporter": "python",
   "pygments_lexer": "ipython3",
   "version": "3.10.12"
  },
  "papermill": {
   "default_parameters": {},
   "duration": 4.079784,
   "end_time": "2024-01-04T18:36:12.736854",
   "environment_variables": {},
   "exception": null,
   "input_path": "__notebook__.ipynb",
   "output_path": "__notebook__.ipynb",
   "parameters": {},
   "start_time": "2024-01-04T18:36:08.657070",
   "version": "2.4.0"
  }
 },
 "nbformat": 4,
 "nbformat_minor": 5
}
