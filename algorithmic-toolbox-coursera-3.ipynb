{
 "cells": [
  {
   "cell_type": "code",
   "execution_count": 1,
   "id": "ba00a8e4",
   "metadata": {
    "_cell_guid": "b1076dfc-b9ad-4769-8c92-a6c4dae69d19",
    "_uuid": "8f2839f25d086af736a60e9eeb907d3b93b6e0e5",
    "execution": {
     "iopub.execute_input": "2024-01-07T21:36:28.385027Z",
     "iopub.status.busy": "2024-01-07T21:36:28.384609Z",
     "iopub.status.idle": "2024-01-07T21:36:28.785603Z",
     "shell.execute_reply": "2024-01-07T21:36:28.784495Z"
    },
    "papermill": {
     "duration": 0.408571,
     "end_time": "2024-01-07T21:36:28.788143",
     "exception": false,
     "start_time": "2024-01-07T21:36:28.379572",
     "status": "completed"
    },
    "tags": []
   },
   "outputs": [],
   "source": [
    "# This Python 3 environment comes with many helpful analytics libraries installed\n",
    "# It is defined by the kaggle/python Docker image: https://github.com/kaggle/docker-python\n",
    "# For example, here's several helpful packages to load\n",
    "\n",
    "import numpy as np # linear algebra\n",
    "import pandas as pd # data processing, CSV file I/O (e.g. pd.read_csv)\n",
    "\n",
    "# Input data files are available in the read-only \"../input/\" directory\n",
    "# For example, running this (by clicking run or pressing Shift+Enter) will list all files under the input directory\n",
    "\n",
    "import os\n",
    "for dirname, _, filenames in os.walk('/kaggle/input'):\n",
    "    for filename in filenames:\n",
    "        print(os.path.join(dirname, filename))\n",
    "\n",
    "# You can write up to 20GB to the current directory (/kaggle/working/) that gets preserved as output when you create a version using \"Save & Run All\" \n",
    "# You can also write temporary files to /kaggle/temp/, but they won't be saved outside of the current session"
   ]
  },
  {
   "cell_type": "markdown",
   "id": "0a01bd5b",
   "metadata": {
    "papermill": {
     "duration": 0.002646,
     "end_time": "2024-01-07T21:36:28.794458",
     "exception": false,
     "start_time": "2024-01-07T21:36:28.791812",
     "status": "completed"
    },
    "tags": []
   },
   "source": [
    "# META COURSE\n",
    "\n",
    "\n",
    "### Working with algorithms\n",
    "\n",
    "- Divide and conquer\n",
    "\n",
    "- Recursion\n",
    "\n",
    "- Dynamic Programming\n",
    "\n",
    "- Greedy Algorithm"
   ]
  },
  {
   "cell_type": "markdown",
   "id": "e361820f",
   "metadata": {
    "papermill": {
     "duration": 0.00251,
     "end_time": "2024-01-07T21:36:28.800060",
     "exception": false,
     "start_time": "2024-01-07T21:36:28.797550",
     "status": "completed"
    },
    "tags": []
   },
   "source": [
    "### Divide and conquer\n",
    "\n",
    "\n",
    "Breaking down of Largers problems into sub set of multiple small problems to get it resolved quick and easy"
   ]
  },
  {
   "cell_type": "code",
   "execution_count": null,
   "id": "f91eb5c8",
   "metadata": {
    "papermill": {
     "duration": 0.002669,
     "end_time": "2024-01-07T21:36:28.805600",
     "exception": false,
     "start_time": "2024-01-07T21:36:28.802931",
     "status": "completed"
    },
    "tags": []
   },
   "outputs": [],
   "source": []
  },
  {
   "cell_type": "markdown",
   "id": "48ead31b",
   "metadata": {
    "papermill": {
     "duration": 0.002627,
     "end_time": "2024-01-07T21:36:28.811098",
     "exception": false,
     "start_time": "2024-01-07T21:36:28.808471",
     "status": "completed"
    },
    "tags": []
   },
   "source": [
    "### Recursion\n",
    "\n",
    "An alternative approach than a loop.\n",
    "\n",
    "Practice of a function that can call themselves\n",
    "\n",
    "In recursion, function calls inself with a smaller portion of the same problem.\n",
    "- Base case ( Base Action of the function ) \n",
    "- Deminishing Structure ( An deminishing end to the recursive loop )\n",
    "- Recusion call ( Calling itself )"
   ]
  },
  {
   "cell_type": "code",
   "execution_count": null,
   "id": "96265734",
   "metadata": {
    "papermill": {
     "duration": 0.003272,
     "end_time": "2024-01-07T21:36:28.817835",
     "exception": false,
     "start_time": "2024-01-07T21:36:28.814563",
     "status": "completed"
    },
    "tags": []
   },
   "outputs": [],
   "source": []
  },
  {
   "cell_type": "markdown",
   "id": "0c91bf02",
   "metadata": {
    "papermill": {
     "duration": 0.002579,
     "end_time": "2024-01-07T21:36:28.823343",
     "exception": false,
     "start_time": "2024-01-07T21:36:28.820764",
     "status": "completed"
    },
    "tags": []
   },
   "source": [
    "### Dynamic programming\n",
    "\n",
    "Problems are breaked into smaller strcuture and each solutions are stored for later use\n",
    "\n",
    "- Memoization\n",
    "- Overlapping sub problems   [ for eg. 2 * 2 * 2 * 2 * 2 * 2 = 64   | OR |   (2 * 2 * 2) * (2 * 2 * 2) = 8 * 8 = 64 ]\n",
    "\n",
    "Like divide and conquer breaks and then does memoization\n",
    "\n",
    "call calclulation and previous calculation stored\n",
    "\n",
    "Can be used in - Fibonacci and - Knapsack for trekking\n",
    "\n",
    "\n",
    "\n",
    "\n"
   ]
  },
  {
   "cell_type": "code",
   "execution_count": null,
   "id": "5cbe4e66",
   "metadata": {
    "papermill": {
     "duration": 0.002771,
     "end_time": "2024-01-07T21:36:28.828917",
     "exception": false,
     "start_time": "2024-01-07T21:36:28.826146",
     "status": "completed"
    },
    "tags": []
   },
   "outputs": [],
   "source": []
  },
  {
   "cell_type": "markdown",
   "id": "918a2cf3",
   "metadata": {
    "papermill": {
     "duration": 0.002579,
     "end_time": "2024-01-07T21:36:28.834816",
     "exception": false,
     "start_time": "2024-01-07T21:36:28.832237",
     "status": "completed"
    },
    "tags": []
   },
   "source": [
    "### Greedy Algorithms\n",
    "\n",
    "- Occam's Razor --  Simplest solution is almost always the best one\n",
    "\n",
    "- immediate solution with local optimization\n",
    "\n",
    "- Current most rewarding option is selected\n",
    "\n",
    "- in knapsack Greedy only selects most valuable items\n",
    "\n",
    "- In problem of shortest path, instead of optimal subset of connected routes, it will look for the route with lesser distance from the node.\n",
    "\n"
   ]
  },
  {
   "cell_type": "markdown",
   "id": "e3a2ec96",
   "metadata": {
    "papermill": {
     "duration": 0.002539,
     "end_time": "2024-01-07T21:36:28.840201",
     "exception": false,
     "start_time": "2024-01-07T21:36:28.837662",
     "status": "completed"
    },
    "tags": []
   },
   "source": []
  },
  {
   "cell_type": "markdown",
   "id": "e378ee45",
   "metadata": {
    "papermill": {
     "duration": 0.002554,
     "end_time": "2024-01-07T21:36:28.845503",
     "exception": false,
     "start_time": "2024-01-07T21:36:28.842949",
     "status": "completed"
    },
    "tags": []
   },
   "source": []
  }
 ],
 "metadata": {
  "kaggle": {
   "accelerator": "none",
   "dataSources": [],
   "dockerImageVersionId": 30626,
   "isGpuEnabled": false,
   "isInternetEnabled": true,
   "language": "python",
   "sourceType": "notebook"
  },
  "kernelspec": {
   "display_name": "Python 3",
   "language": "python",
   "name": "python3"
  },
  "language_info": {
   "codemirror_mode": {
    "name": "ipython",
    "version": 3
   },
   "file_extension": ".py",
   "mimetype": "text/x-python",
   "name": "python",
   "nbconvert_exporter": "python",
   "pygments_lexer": "ipython3",
   "version": "3.10.12"
  },
  "papermill": {
   "default_parameters": {},
   "duration": 4.107295,
   "end_time": "2024-01-07T21:36:29.369261",
   "environment_variables": {},
   "exception": null,
   "input_path": "__notebook__.ipynb",
   "output_path": "__notebook__.ipynb",
   "parameters": {},
   "start_time": "2024-01-07T21:36:25.261966",
   "version": "2.4.0"
  }
 },
 "nbformat": 4,
 "nbformat_minor": 5
}
