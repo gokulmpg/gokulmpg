{
 "cells": [
  {
   "cell_type": "code",
   "execution_count": 1,
   "id": "c96637b8",
   "metadata": {
    "_cell_guid": "b1076dfc-b9ad-4769-8c92-a6c4dae69d19",
    "_uuid": "8f2839f25d086af736a60e9eeb907d3b93b6e0e5",
    "execution": {
     "iopub.execute_input": "2024-01-05T22:16:42.120436Z",
     "iopub.status.busy": "2024-01-05T22:16:42.119495Z",
     "iopub.status.idle": "2024-01-05T22:16:42.492313Z",
     "shell.execute_reply": "2024-01-05T22:16:42.491272Z"
    },
    "papermill": {
     "duration": 0.381434,
     "end_time": "2024-01-05T22:16:42.495085",
     "exception": false,
     "start_time": "2024-01-05T22:16:42.113651",
     "status": "completed"
    },
    "tags": []
   },
   "outputs": [],
   "source": [
    "# This Python 3 environment comes with many helpful analytics libraries installed\n",
    "# It is defined by the kaggle/python Docker image: https://github.com/kaggle/docker-python\n",
    "# For example, here's several helpful packages to load\n",
    "\n",
    "import numpy as np # linear algebra\n",
    "import pandas as pd # data processing, CSV file I/O (e.g. pd.read_csv)\n",
    "\n",
    "# Input data files are available in the read-only \"../input/\" directory\n",
    "# For example, running this (by clicking run or pressing Shift+Enter) will list all files under the input directory\n",
    "\n",
    "import os\n",
    "for dirname, _, filenames in os.walk('/kaggle/input'):\n",
    "    for filename in filenames:\n",
    "        print(os.path.join(dirname, filename))\n",
    "\n",
    "# You can write up to 20GB to the current directory (/kaggle/working/) that gets preserved as output when you create a version using \"Save & Run All\" \n",
    "# You can also write temporary files to /kaggle/temp/, but they won't be saved outside of the current session"
   ]
  },
  {
   "cell_type": "markdown",
   "id": "ad424d75",
   "metadata": {
    "papermill": {
     "duration": 0.003976,
     "end_time": "2024-01-05T22:16:42.504187",
     "exception": false,
     "start_time": "2024-01-05T22:16:42.500211",
     "status": "completed"
    },
    "tags": []
   },
   "source": [
    "# META COURSE"
   ]
  },
  {
   "cell_type": "markdown",
   "id": "aa92c53c",
   "metadata": {
    "execution": {
     "iopub.execute_input": "2024-01-05T20:21:08.683666Z",
     "iopub.status.busy": "2024-01-05T20:21:08.683005Z",
     "iopub.status.idle": "2024-01-05T20:21:08.688682Z",
     "shell.execute_reply": "2024-01-05T20:21:08.687521Z",
     "shell.execute_reply.started": "2024-01-05T20:21:08.683625Z"
    },
    "papermill": {
     "duration": 0.003321,
     "end_time": "2024-01-05T22:16:42.511298",
     "exception": false,
     "start_time": "2024-01-05T22:16:42.507977",
     "status": "completed"
    },
    "tags": []
   },
   "source": [
    "- SOrting Algo\n",
    "\n",
    "- SORting methods\n",
    "\n",
    "- Linear Search  & Binary Search\n",
    "\n",
    "- IMplementation and advantages"
   ]
  },
  {
   "cell_type": "markdown",
   "id": "3d8de858",
   "metadata": {
    "papermill": {
     "duration": 0.003381,
     "end_time": "2024-01-05T22:16:42.518235",
     "exception": false,
     "start_time": "2024-01-05T22:16:42.514854",
     "status": "completed"
    },
    "tags": []
   },
   "source": [
    "\n",
    "# SORTING\n",
    "\n",
    "\n",
    "### Selection Sorting\n",
    "\n",
    "65 5 4 3 51 30 221  22\n",
    "\n",
    "\n",
    "First 65 is compared with all the element to the right and swapped with minimum\n",
    "\n",
    "3 5 4 65 51 30 221 22\n",
    "\n",
    "Then 5 Compared to the all the element to the right and swapped with minimum\n",
    "\n",
    "3 4 5 65 51 30 221 22\n",
    "\n",
    "and so on until the results acheived"
   ]
  },
  {
   "cell_type": "code",
   "execution_count": 2,
   "id": "37dbf2dd",
   "metadata": {
    "execution": {
     "iopub.execute_input": "2024-01-05T22:16:42.527155Z",
     "iopub.status.busy": "2024-01-05T22:16:42.526660Z",
     "iopub.status.idle": "2024-01-05T22:16:42.532254Z",
     "shell.execute_reply": "2024-01-05T22:16:42.531548Z"
    },
    "papermill": {
     "duration": 0.012465,
     "end_time": "2024-01-05T22:16:42.534178",
     "exception": false,
     "start_time": "2024-01-05T22:16:42.521713",
     "status": "completed"
    },
    "tags": []
   },
   "outputs": [],
   "source": [
    "List = [65, 5, 4, 3, 51, 30, 221, 22]\n",
    "\n",
    "for i in range(len(List)-1):\n",
    "    min_in = i\n",
    "    for j in range(i+1,len(List)):\n",
    "        if List[j] < List[min_in]:\n",
    "            min_in=j \n",
    "    List[i], List[min_in] =  List[min_in], List[i]"
   ]
  },
  {
   "cell_type": "code",
   "execution_count": 3,
   "id": "c348a16c",
   "metadata": {
    "execution": {
     "iopub.execute_input": "2024-01-05T22:16:42.545896Z",
     "iopub.status.busy": "2024-01-05T22:16:42.545227Z",
     "iopub.status.idle": "2024-01-05T22:16:42.551448Z",
     "shell.execute_reply": "2024-01-05T22:16:42.550757Z"
    },
    "papermill": {
     "duration": 0.013293,
     "end_time": "2024-01-05T22:16:42.553284",
     "exception": false,
     "start_time": "2024-01-05T22:16:42.539991",
     "status": "completed"
    },
    "tags": []
   },
   "outputs": [
    {
     "data": {
      "text/plain": [
       "[3, 4, 5, 22, 30, 51, 65, 221]"
      ]
     },
     "execution_count": 3,
     "metadata": {},
     "output_type": "execute_result"
    }
   ],
   "source": [
    "List"
   ]
  },
  {
   "cell_type": "markdown",
   "id": "00eacc7d",
   "metadata": {
    "papermill": {
     "duration": 0.003495,
     "end_time": "2024-01-05T22:16:42.560709",
     "exception": false,
     "start_time": "2024-01-05T22:16:42.557214",
     "status": "completed"
    },
    "tags": []
   },
   "source": [
    "### INSERTION SORTING\n",
    "12 11 13 5 6\n",
    "Compare first element with second element\n",
    "\n",
    "if 1st greater than 2nd, swap... \n",
    "\n",
    "11 12 13 5 6\n",
    "\n",
    "Compare second with third element  element\n",
    "\n",
    "if 2nd greater than 3rd, swap...\n",
    "\n",
    "until all sorted\n"
   ]
  },
  {
   "cell_type": "code",
   "execution_count": 4,
   "id": "9cb5e659",
   "metadata": {
    "execution": {
     "iopub.execute_input": "2024-01-05T22:16:42.569831Z",
     "iopub.status.busy": "2024-01-05T22:16:42.569182Z",
     "iopub.status.idle": "2024-01-05T22:16:42.576247Z",
     "shell.execute_reply": "2024-01-05T22:16:42.575088Z"
    },
    "papermill": {
     "duration": 0.013719,
     "end_time": "2024-01-05T22:16:42.578039",
     "exception": false,
     "start_time": "2024-01-05T22:16:42.564320",
     "status": "completed"
    },
    "tags": []
   },
   "outputs": [
    {
     "name": "stdout",
     "output_type": "stream",
     "text": [
      "[5, 6, 11, 12, 13]\n"
     ]
    }
   ],
   "source": [
    "def insertionSort(arr):\n",
    "        n = len(arr) # Get the length of the array\n",
    "\n",
    "        if n <= 1:\n",
    "            return # If the array has 0 or 1 element, it is already sorted, so return\n",
    "\n",
    "        for i in range(1, n): # Iterate over the array starting from the second element\n",
    "            key = arr[i] # Store the current element as the key to be inserted in the right position\n",
    "            j = i-1\n",
    "            while j >= 0 and key < arr[j]: # Move elements greater than key one position ahead\n",
    "                arr[j+1] = arr[j] # Shift elements to the right\n",
    "                j -= 1\n",
    "            arr[j+1] = key # Insert the key in the correct position\n",
    "\n",
    "# Sorting the array [12, 11, 13, 5, 6] using insertionSort\n",
    "arr = [12, 11, 13, 5, 6]\n",
    "insertionSort(arr)\n",
    "print(arr)\n"
   ]
  },
  {
   "cell_type": "markdown",
   "id": "e0c27b2e",
   "metadata": {
    "papermill": {
     "duration": 0.003572,
     "end_time": "2024-01-05T22:16:42.585407",
     "exception": false,
     "start_time": "2024-01-05T22:16:42.581835",
     "status": "completed"
    },
    "tags": []
   },
   "source": [
    "### Quick SORTING\n",
    "\n",
    "\n",
    "22 43 6 41 2 11 4\n",
    "\n",
    "Select pivot\n",
    "\n",
    "split list into\n",
    "\n",
    "\n",
    "if n is even => n/2 + 1 && if n is odd =>  n+1/2\n",
    "\n",
    "smaller element to the left and bigger element to the right\n",
    "\n",
    "\n",
    "\n",
    "22 6 2 11 4 // 41   //  43\n",
    "\n",
    "do smaller element to the left and bigger element to the right on each branch\n",
    "\n",
    "6 2 4 // 11 // 22 41  // 43 \n",
    "\n",
    "do smaller element to the left and bigger element to the right on each branch\n",
    "\n",
    "2 // 6 4 // 11 // 22 //  41 // 43\n",
    "\n",
    "do smaller element to the left and bigger element to the right on each branch\n",
    "\n",
    "2 // 4 // 6 // 11 //  22 // 41 //  43 \n",
    "\n",
    "do smaller element to the left and bigger element to the right on each branch\n",
    "\n",
    "\n",
    "\n",
    "\n"
   ]
  },
  {
   "cell_type": "code",
   "execution_count": 5,
   "id": "91cd4ca8",
   "metadata": {
    "execution": {
     "iopub.execute_input": "2024-01-05T22:16:42.594328Z",
     "iopub.status.busy": "2024-01-05T22:16:42.593970Z",
     "iopub.status.idle": "2024-01-05T22:16:42.600544Z",
     "shell.execute_reply": "2024-01-05T22:16:42.599578Z"
    },
    "papermill": {
     "duration": 0.013609,
     "end_time": "2024-01-05T22:16:42.602638",
     "exception": false,
     "start_time": "2024-01-05T22:16:42.589029",
     "status": "completed"
    },
    "tags": []
   },
   "outputs": [],
   "source": [
    "def partition(arr, low, high):\n",
    "    \n",
    "  pivot = arr[high] \n",
    "  i = low - 1\n",
    "\n",
    "  for j in range(low, high):\n",
    "    if arr[j] <= pivot:\n",
    "      i = i + 1\n",
    "      (arr[i], arr[j]) = (arr[j], arr[i])\n",
    "  (arr[i + 1], arr[high]) = (arr[high], arr[i + 1])\n",
    "\n",
    "  # return the position \n",
    "  return i + 1\n",
    "\n",
    "# QickSort\n",
    "def QuickSort(arr, low, high):\n",
    "  if low < high:\n",
    "    # find pivot element \n",
    "    pivot = partition(arr, low, high)\n",
    "    QuickSort(arr, low, pivot - 1)\n",
    "    QuickSort(arr, pivot + 1, high)\n",
    "    return arr"
   ]
  },
  {
   "cell_type": "code",
   "execution_count": 6,
   "id": "9df6c8ad",
   "metadata": {
    "execution": {
     "iopub.execute_input": "2024-01-05T22:16:42.611954Z",
     "iopub.status.busy": "2024-01-05T22:16:42.611571Z",
     "iopub.status.idle": "2024-01-05T22:16:42.617960Z",
     "shell.execute_reply": "2024-01-05T22:16:42.617090Z"
    },
    "papermill": {
     "duration": 0.013293,
     "end_time": "2024-01-05T22:16:42.619819",
     "exception": false,
     "start_time": "2024-01-05T22:16:42.606526",
     "status": "completed"
    },
    "tags": []
   },
   "outputs": [
    {
     "data": {
      "text/plain": [
       "[1, 2, 4, 11, 43]"
      ]
     },
     "execution_count": 6,
     "metadata": {},
     "output_type": "execute_result"
    }
   ],
   "source": [
    "QuickSort([1,2,11,4,43],0,len([1,2,11,4,43])-1)"
   ]
  },
  {
   "cell_type": "markdown",
   "id": "fcd46bda",
   "metadata": {
    "papermill": {
     "duration": 0.003757,
     "end_time": "2024-01-05T22:16:42.627767",
     "exception": false,
     "start_time": "2024-01-05T22:16:42.624010",
     "status": "completed"
    },
    "tags": []
   },
   "source": [
    "# SEARCHING\n",
    "\n",
    "#### Heap or Binary Tree\n",
    "\n",
    "\n",
    "### LINEAR SEARCH\n",
    "\n",
    "\n"
   ]
  },
  {
   "cell_type": "code",
   "execution_count": null,
   "id": "3b94051e",
   "metadata": {
    "papermill": {
     "duration": 0.003604,
     "end_time": "2024-01-05T22:16:42.635290",
     "exception": false,
     "start_time": "2024-01-05T22:16:42.631686",
     "status": "completed"
    },
    "tags": []
   },
   "outputs": [],
   "source": []
  },
  {
   "cell_type": "markdown",
   "id": "e73911ee",
   "metadata": {
    "papermill": {
     "duration": 0.003667,
     "end_time": "2024-01-05T22:16:42.642756",
     "exception": false,
     "start_time": "2024-01-05T22:16:42.639089",
     "status": "completed"
    },
    "tags": []
   },
   "source": [
    "### BINARY SEARCH"
   ]
  },
  {
   "cell_type": "code",
   "execution_count": null,
   "id": "51c799e9",
   "metadata": {
    "papermill": {
     "duration": 0.003519,
     "end_time": "2024-01-05T22:16:42.650035",
     "exception": false,
     "start_time": "2024-01-05T22:16:42.646516",
     "status": "completed"
    },
    "tags": []
   },
   "outputs": [],
   "source": []
  }
 ],
 "metadata": {
  "kaggle": {
   "accelerator": "none",
   "dataSources": [],
   "dockerImageVersionId": 30626,
   "isGpuEnabled": false,
   "isInternetEnabled": true,
   "language": "python",
   "sourceType": "notebook"
  },
  "kernelspec": {
   "display_name": "Python 3",
   "language": "python",
   "name": "python3"
  },
  "language_info": {
   "codemirror_mode": {
    "name": "ipython",
    "version": 3
   },
   "file_extension": ".py",
   "mimetype": "text/x-python",
   "name": "python",
   "nbconvert_exporter": "python",
   "pygments_lexer": "ipython3",
   "version": "3.10.12"
  },
  "papermill": {
   "default_parameters": {},
   "duration": 3.923304,
   "end_time": "2024-01-05T22:16:43.072767",
   "environment_variables": {},
   "exception": null,
   "input_path": "__notebook__.ipynb",
   "output_path": "__notebook__.ipynb",
   "parameters": {},
   "start_time": "2024-01-05T22:16:39.149463",
   "version": "2.4.0"
  }
 },
 "nbformat": 4,
 "nbformat_minor": 5
}
