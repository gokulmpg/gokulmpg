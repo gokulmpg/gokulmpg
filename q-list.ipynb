{
 "cells": [
  {
   "cell_type": "code",
   "execution_count": 1,
   "id": "8802df20",
   "metadata": {
    "_cell_guid": "b1076dfc-b9ad-4769-8c92-a6c4dae69d19",
    "_uuid": "8f2839f25d086af736a60e9eeb907d3b93b6e0e5",
    "execution": {
     "iopub.execute_input": "2024-01-23T18:06:40.687268Z",
     "iopub.status.busy": "2024-01-23T18:06:40.686204Z",
     "iopub.status.idle": "2024-01-23T18:06:41.117020Z",
     "shell.execute_reply": "2024-01-23T18:06:41.115943Z"
    },
    "papermill": {
     "duration": 0.439911,
     "end_time": "2024-01-23T18:06:41.120180",
     "exception": false,
     "start_time": "2024-01-23T18:06:40.680269",
     "status": "completed"
    },
    "tags": []
   },
   "outputs": [],
   "source": [
    "# This Python 3 environment comes with many helpful analytics libraries installed\n",
    "# It is defined by the kaggle/python Docker image: https://github.com/kaggle/docker-python\n",
    "# For example, here's several helpful packages to load\n",
    "\n",
    "import numpy as np # linear algebra\n",
    "import pandas as pd # data processing, CSV file I/O (e.g. pd.read_csv)\n",
    "\n",
    "# Input data files are available in the read-only \"../input/\" directory\n",
    "# For example, running this (by clicking run or pressing Shift+Enter) will list all files under the input directory\n",
    "\n",
    "import os\n",
    "for dirname, _, filenames in os.walk('/kaggle/input'):\n",
    "    for filename in filenames:\n",
    "        print(os.path.join(dirname, filename))\n",
    "\n",
    "# You can write up to 20GB to the current directory (/kaggle/working/) that gets preserved as output when you create a version using \"Save & Run All\" \n",
    "# You can also write temporary files to /kaggle/temp/, but they won't be saved outside of the current session"
   ]
  },
  {
   "cell_type": "code",
   "execution_count": 2,
   "id": "5b232424",
   "metadata": {
    "execution": {
     "iopub.execute_input": "2024-01-23T18:06:41.127173Z",
     "iopub.status.busy": "2024-01-23T18:06:41.126649Z",
     "iopub.status.idle": "2024-01-23T18:06:41.132386Z",
     "shell.execute_reply": "2024-01-23T18:06:41.131603Z"
    },
    "papermill": {
     "duration": 0.012103,
     "end_time": "2024-01-23T18:06:41.134997",
     "exception": false,
     "start_time": "2024-01-23T18:06:41.122894",
     "status": "completed"
    },
    "tags": []
   },
   "outputs": [],
   "source": [
    "# They can be constructed with the list widget as their parent widget.\n",
    "# QListWidgetItem(\"I\", listWidget)\n",
    "# QListWidgetItem(\"Love\", listWidget)\n",
    "# QListWidgetItem(\"Python\", listWidget)"
   ]
  },
  {
   "cell_type": "code",
   "execution_count": 3,
   "id": "148837c5",
   "metadata": {
    "execution": {
     "iopub.execute_input": "2024-01-23T18:06:41.141621Z",
     "iopub.status.busy": "2024-01-23T18:06:41.141198Z",
     "iopub.status.idle": "2024-01-23T18:06:41.150262Z",
     "shell.execute_reply": "2024-01-23T18:06:41.149186Z"
    },
    "papermill": {
     "duration": 0.015651,
     "end_time": "2024-01-23T18:06:41.153227",
     "exception": false,
     "start_time": "2024-01-23T18:06:41.137576",
     "status": "completed"
    },
    "tags": []
   },
   "outputs": [
    {
     "data": {
      "text/plain": [
       "'\\n\\nimport sys\\n#from PyQt5.QtWidgets import QApplication, QWidget, QListWidget, QVBoxLayout, QListWidgetItem\\n\\n\\nclass Ui_MainWindow(QWidget):\\n    def __init__(self, parent = None):\\n        super(Ui_MainWindow, self).__init__(parent)\\n\\n\\nif __name__ == \\'__main__\\':\\n        app = QApplication(sys.argv)\\n        window = QWidget()\\n        listWidget = QListWidget()\\n        window.setWindowTitle(\"QListWidget\")\\n\\n        QListWidgetItem(\"I\", listWidget)\\n        QListWidgetItem(\"Love\", listWidget)\\n        QListWidgetItem(\"Python\", listWidget)\\n\\n        listWidgetItem = QListWidgetItem(\"Python Programming\")\\n        listWidget.addItem(listWidgetItem)\\n\\n        window_layout = QVBoxLayout(window)\\n        window_layout.addWidget(listWidget)\\n        window.setLayout(window_layout)\\n\\n        window.show()\\n\\n        sys.exit(app.exec_())\\n        \\n        \\n        '"
      ]
     },
     "execution_count": 3,
     "metadata": {},
     "output_type": "execute_result"
    }
   ],
   "source": [
    "\"\"\"\n",
    "\n",
    "import sys\n",
    "#from PyQt5.QtWidgets import QApplication, QWidget, QListWidget, QVBoxLayout, QListWidgetItem\n",
    "\n",
    "\n",
    "class Ui_MainWindow(QWidget):\n",
    "    def __init__(self, parent = None):\n",
    "        super(Ui_MainWindow, self).__init__(parent)\n",
    "\n",
    "\n",
    "if __name__ == '__main__':\n",
    "        app = QApplication(sys.argv)\n",
    "        window = QWidget()\n",
    "        listWidget = QListWidget()\n",
    "        window.setWindowTitle(\"QListWidget\")\n",
    "\n",
    "        QListWidgetItem(\"I\", listWidget)\n",
    "        QListWidgetItem(\"Love\", listWidget)\n",
    "        QListWidgetItem(\"Python\", listWidget)\n",
    "\n",
    "        listWidgetItem = QListWidgetItem(\"Python Programming\")\n",
    "        listWidget.addItem(listWidgetItem)\n",
    "\n",
    "        window_layout = QVBoxLayout(window)\n",
    "        window_layout.addWidget(listWidget)\n",
    "        window.setLayout(window_layout)\n",
    "\n",
    "        window.show()\n",
    "\n",
    "        sys.exit(app.exec_())\n",
    "        \n",
    "        \n",
    "        \"\"\"\n"
   ]
  },
  {
   "cell_type": "code",
   "execution_count": null,
   "id": "32d55ac3",
   "metadata": {
    "papermill": {
     "duration": 0.002336,
     "end_time": "2024-01-23T18:06:41.158236",
     "exception": false,
     "start_time": "2024-01-23T18:06:41.155900",
     "status": "completed"
    },
    "tags": []
   },
   "outputs": [],
   "source": []
  }
 ],
 "metadata": {
  "kaggle": {
   "accelerator": "none",
   "dataSources": [],
   "dockerImageVersionId": 30635,
   "isGpuEnabled": false,
   "isInternetEnabled": true,
   "language": "python",
   "sourceType": "notebook"
  },
  "kernelspec": {
   "display_name": "Python 3",
   "language": "python",
   "name": "python3"
  },
  "language_info": {
   "codemirror_mode": {
    "name": "ipython",
    "version": 3
   },
   "file_extension": ".py",
   "mimetype": "text/x-python",
   "name": "python",
   "nbconvert_exporter": "python",
   "pygments_lexer": "ipython3",
   "version": "3.10.12"
  },
  "papermill": {
   "default_parameters": {},
   "duration": 4.288863,
   "end_time": "2024-01-23T18:06:41.583482",
   "environment_variables": {},
   "exception": null,
   "input_path": "__notebook__.ipynb",
   "output_path": "__notebook__.ipynb",
   "parameters": {},
   "start_time": "2024-01-23T18:06:37.294619",
   "version": "2.4.0"
  }
 },
 "nbformat": 4,
 "nbformat_minor": 5
}
