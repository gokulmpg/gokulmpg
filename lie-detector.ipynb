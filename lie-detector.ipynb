{
 "cells": [
  {
   "cell_type": "code",
   "execution_count": 1,
   "id": "7e43c0c8",
   "metadata": {
    "_cell_guid": "b1076dfc-b9ad-4769-8c92-a6c4dae69d19",
    "_uuid": "8f2839f25d086af736a60e9eeb907d3b93b6e0e5",
    "execution": {
     "iopub.execute_input": "2024-01-19T11:42:06.465315Z",
     "iopub.status.busy": "2024-01-19T11:42:06.464436Z",
     "iopub.status.idle": "2024-01-19T11:42:06.887386Z",
     "shell.execute_reply": "2024-01-19T11:42:06.886477Z"
    },
    "papermill": {
     "duration": 0.431183,
     "end_time": "2024-01-19T11:42:06.890298",
     "exception": false,
     "start_time": "2024-01-19T11:42:06.459115",
     "status": "completed"
    },
    "tags": []
   },
   "outputs": [],
   "source": [
    "# This Python 3 environment comes with many helpful analytics libraries installed\n",
    "# It is defined by the kaggle/python Docker image: https://github.com/kaggle/docker-python\n",
    "# For example, here's several helpful packages to load\n",
    "\n",
    "import numpy as np # linear algebra\n",
    "import pandas as pd # data processing, CSV file I/O (e.g. pd.read_csv)\n",
    "\n",
    "# Input data files are available in the read-only \"../input/\" directory\n",
    "# For example, running this (by clicking run or pressing Shift+Enter) will list all files under the input directory\n",
    "\n",
    "import os\n",
    "for dirname, _, filenames in os.walk('/kaggle/input'):\n",
    "    for filename in filenames:\n",
    "        print(os.path.join(dirname, filename))\n",
    "\n",
    "# You can write up to 20GB to the current directory (/kaggle/working/) that gets preserved as output when you create a version using \"Save & Run All\" \n",
    "# You can also write temporary files to /kaggle/temp/, but they won't be saved outside of the current session"
   ]
  },
  {
   "cell_type": "code",
   "execution_count": 2,
   "id": "38d22cc2",
   "metadata": {
    "execution": {
     "iopub.execute_input": "2024-01-19T11:42:06.898067Z",
     "iopub.status.busy": "2024-01-19T11:42:06.897535Z",
     "iopub.status.idle": "2024-01-19T11:42:06.904045Z",
     "shell.execute_reply": "2024-01-19T11:42:06.902897Z"
    },
    "papermill": {
     "duration": 0.013167,
     "end_time": "2024-01-19T11:42:06.906535",
     "exception": false,
     "start_time": "2024-01-19T11:42:06.893368",
     "status": "completed"
    },
    "tags": []
   },
   "outputs": [],
   "source": [
    "def unique(string):\n",
    "    # Assuming character set is ASCII (128 characters)\n",
    "    if len(string) > 128:\n",
    "        return False\n",
    "\n",
    "    char_set = [False for _ in range(128)]\n",
    "    for char in string:\n",
    "        val = ord(char)\n",
    "        if char_set[val]:\n",
    "            # Char already found in string\n",
    "            return False\n",
    "        char_set[val] = True\n",
    "\n",
    "    return True"
   ]
  },
  {
   "cell_type": "code",
   "execution_count": 3,
   "id": "7c1fdbbc",
   "metadata": {
    "execution": {
     "iopub.execute_input": "2024-01-19T11:42:06.913465Z",
     "iopub.status.busy": "2024-01-19T11:42:06.913111Z",
     "iopub.status.idle": "2024-01-19T11:42:06.920767Z",
     "shell.execute_reply": "2024-01-19T11:42:06.919665Z"
    },
    "papermill": {
     "duration": 0.014029,
     "end_time": "2024-01-19T11:42:06.923364",
     "exception": false,
     "start_time": "2024-01-19T11:42:06.909335",
     "status": "completed"
    },
    "tags": []
   },
   "outputs": [
    {
     "data": {
      "text/plain": [
       "True"
      ]
     },
     "execution_count": 3,
     "metadata": {},
     "output_type": "execute_result"
    }
   ],
   "source": [
    "unique(\"king\")"
   ]
  },
  {
   "cell_type": "code",
   "execution_count": 4,
   "id": "55b51767",
   "metadata": {
    "execution": {
     "iopub.execute_input": "2024-01-19T11:42:06.931366Z",
     "iopub.status.busy": "2024-01-19T11:42:06.930290Z",
     "iopub.status.idle": "2024-01-19T11:42:06.936435Z",
     "shell.execute_reply": "2024-01-19T11:42:06.935138Z"
    },
    "papermill": {
     "duration": 0.01278,
     "end_time": "2024-01-19T11:42:06.939044",
     "exception": false,
     "start_time": "2024-01-19T11:42:06.926264",
     "status": "completed"
    },
    "tags": []
   },
   "outputs": [],
   "source": [
    "char_set = [False for _ in range(128)]\n"
   ]
  },
  {
   "cell_type": "code",
   "execution_count": null,
   "id": "8574148b",
   "metadata": {
    "papermill": {
     "duration": 0.002568,
     "end_time": "2024-01-19T11:42:06.944533",
     "exception": false,
     "start_time": "2024-01-19T11:42:06.941965",
     "status": "completed"
    },
    "tags": []
   },
   "outputs": [],
   "source": []
  }
 ],
 "metadata": {
  "kaggle": {
   "accelerator": "none",
   "dataSources": [],
   "dockerImageVersionId": 30635,
   "isGpuEnabled": false,
   "isInternetEnabled": true,
   "language": "python",
   "sourceType": "notebook"
  },
  "kernelspec": {
   "display_name": "Python 3",
   "language": "python",
   "name": "python3"
  },
  "language_info": {
   "codemirror_mode": {
    "name": "ipython",
    "version": 3
   },
   "file_extension": ".py",
   "mimetype": "text/x-python",
   "name": "python",
   "nbconvert_exporter": "python",
   "pygments_lexer": "ipython3",
   "version": "3.10.12"
  },
  "papermill": {
   "default_parameters": {},
   "duration": 4.734778,
   "end_time": "2024-01-19T11:42:07.468553",
   "environment_variables": {},
   "exception": null,
   "input_path": "__notebook__.ipynb",
   "output_path": "__notebook__.ipynb",
   "parameters": {},
   "start_time": "2024-01-19T11:42:02.733775",
   "version": "2.4.0"
  }
 },
 "nbformat": 4,
 "nbformat_minor": 5
}
