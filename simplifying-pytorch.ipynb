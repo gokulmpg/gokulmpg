{
 "cells": [
  {
   "cell_type": "code",
   "execution_count": 1,
   "id": "d74b0ecf",
   "metadata": {
    "_cell_guid": "b1076dfc-b9ad-4769-8c92-a6c4dae69d19",
    "_uuid": "8f2839f25d086af736a60e9eeb907d3b93b6e0e5",
    "execution": {
     "iopub.execute_input": "2024-02-01T18:28:19.317045Z",
     "iopub.status.busy": "2024-02-01T18:28:19.316641Z",
     "iopub.status.idle": "2024-02-01T18:28:20.317991Z",
     "shell.execute_reply": "2024-02-01T18:28:20.316731Z"
    },
    "papermill": {
     "duration": 1.011768,
     "end_time": "2024-02-01T18:28:20.321345",
     "exception": false,
     "start_time": "2024-02-01T18:28:19.309577",
     "status": "completed"
    },
    "tags": []
   },
   "outputs": [],
   "source": [
    "# This Python 3 environment comes with many helpful analytics libraries installed\n",
    "# It is defined by the kaggle/python Docker image: https://github.com/kaggle/docker-python\n",
    "# For example, here's several helpful packages to load\n",
    "\n",
    "import numpy as np # linear algebra\n",
    "import pandas as pd # data processing, CSV file I/O (e.g. pd.read_csv)\n",
    "\n",
    "# Input data files are available in the read-only \"../input/\" directory\n",
    "# For example, running this (by clicking run or pressing Shift+Enter) will list all files under the input directory\n",
    "\n",
    "import os\n",
    "for dirname, _, filenames in os.walk('/kaggle/input'):\n",
    "    for filename in filenames:\n",
    "        print(os.path.join(dirname, filename))\n",
    "\n",
    "# You can write up to 20GB to the current directory (/kaggle/working/) that gets preserved as output when you create a version using \"Save & Run All\" \n",
    "# You can also write temporary files to /kaggle/temp/, but they won't be saved outside of the current session"
   ]
  },
  {
   "cell_type": "markdown",
   "id": "7d39d968",
   "metadata": {
    "papermill": {
     "duration": 0.004779,
     "end_time": "2024-02-01T18:28:20.331729",
     "exception": false,
     "start_time": "2024-02-01T18:28:20.326950",
     "status": "completed"
    },
    "tags": []
   },
   "source": [
    "#### PyTorch is nothing but the Torch library with following enablement to the \n",
    "\n",
    "1. Tensor operations along with GPU\n",
    "2. Deep neural networks \n",
    "3. Integrations to acceleration libraries such as Intel MKL and NVIDIA"
   ]
  },
  {
   "cell_type": "markdown",
   "id": "ae4a5a3d",
   "metadata": {
    "papermill": {
     "duration": 0.005084,
     "end_time": "2024-02-01T18:28:20.341790",
     "exception": false,
     "start_time": "2024-02-01T18:28:20.336706",
     "status": "completed"
    },
    "tags": []
   },
   "source": [
    "#### Torch - Developed by Facebook’s AI research group \n",
    "1. open-sourced on GitHub in 2017\n",
    "2. used for applications such as natural language processing\n",
    "3. Pytorch has better debugging capabilities"
   ]
  },
  {
   "cell_type": "markdown",
   "id": "9662c990",
   "metadata": {
    "papermill": {
     "duration": 0.005345,
     "end_time": "2024-02-01T18:28:20.353410",
     "exception": false,
     "start_time": "2024-02-01T18:28:20.348065",
     "status": "completed"
    },
    "tags": []
   },
   "source": [
    "### Windows installation steps\n",
    "\n",
    "conda install cmake ninja\n",
    "\n",
    "pip install -r requirements.txt\n",
    "\n",
    "conda install intel::mkl-static intel::mkl-include\n",
    "\n",
    "conda install -c conda-forge libuv=1.39\n",
    "\n",
    "\n",
    "git clone --recursive https://github.com/pytorch/pytorch\n",
    "cd pytorch\n",
    "git submodule sync\n",
    "git submodule update --init --recursive \n",
    "\n",
    "\n",
    "##### 1. CPU-only builds - run on your CPU, not your GPU\n",
    "\n",
    "Install Visual C++ BuildTools from https://visualstudio.microsoft.com/visual-cpp-build-tools/\n",
    "\n",
    "conda activate\n",
    "python setup.py develop\n",
    "\n",
    "##### 2. CUDA based build\n",
    "\n",
    "cmd\n",
    "\n",
    ":: Set the environment variables after you have downloaded and unzipped the mkl package,\n",
    ":: else CMake would throw an error as `Could NOT find OpenMP`.\n",
    "set CMAKE_INCLUDE_PATH={Your directory}\\mkl\\include\n",
    "set LIB={Your directory}\\mkl\\lib;%LIB%\n",
    "\n",
    ":: Read the content in the previous section carefully before you proceed.\n",
    ":: [Optional] If you want to override the underlying toolset used by Ninja and Visual Studio with CUDA, please run the following script block.\n",
    ":: \"Visual Studio 2019 Developer Command Prompt\" will be run automatically.\n",
    ":: Make sure you have CMake >= 3.12 before you do this when you use the Visual Studio generator.\n",
    "set CMAKE_GENERATOR_TOOLSET_VERSION=14.27\n",
    "set DISTUTILS_USE_SDK=1\n",
    "for /f \"usebackq tokens=*\" %i in (`\"%ProgramFiles(x86)%\\Microsoft Visual Studio\\Installer\\vswhere.exe\" -version [15^,17^) -products * -latest -property installationPath`) do call \"%i\\VC\\Auxiliary\\Build\\vcvarsall.bat\" x64 -vcvars_ver=%CMAKE_GENERATOR_TOOLSET_VERSION%\n",
    "\n",
    ":: [Optional] If you want to override the CUDA host compiler\n",
    "set CUDAHOSTCXX=C:\\Program Files (x86)\\Microsoft Visual Studio\\2019\\Community\\VC\\Tools\\MSVC\\14.27.29110\\bin\\HostX64\\x64\\cl.exe\n",
    "\n",
    "python setup.py develop"
   ]
  },
  {
   "cell_type": "markdown",
   "id": "cfdd9308",
   "metadata": {
    "papermill": {
     "duration": 0.004819,
     "end_time": "2024-02-01T18:28:20.364388",
     "exception": false,
     "start_time": "2024-02-01T18:28:20.359569",
     "status": "completed"
    },
    "tags": []
   },
   "source": [
    "### 1. torch\n",
    "\n",
    "#### --> Tensors\n",
    "#### --> Generators\n",
    "#### --> Random sampling\n",
    "#### --> Serialization\n",
    "#### --> Parallelism\n",
    "#### --> Locally disabling gradient computation\n",
    "#### --> Math operations\n",
    "#### --> Utilities\n",
    "#### --> Symbolic Numbers\n",
    "#### --> Export Path\n",
    "#### --> Optimizations\n",
    "#### --> Operator Tags"
   ]
  },
  {
   "cell_type": "markdown",
   "id": "70f18b39",
   "metadata": {
    "execution": {
     "iopub.execute_input": "2024-01-24T10:33:51.619662Z",
     "iopub.status.busy": "2024-01-24T10:33:51.619224Z",
     "iopub.status.idle": "2024-01-24T10:33:51.624865Z",
     "shell.execute_reply": "2024-01-24T10:33:51.623786Z",
     "shell.execute_reply.started": "2024-01-24T10:33:51.619628Z"
    },
    "papermill": {
     "duration": 0.004605,
     "end_time": "2024-02-01T18:28:20.373995",
     "exception": false,
     "start_time": "2024-02-01T18:28:20.369390",
     "status": "completed"
    },
    "tags": []
   },
   "source": [
    "### 2.torch.nn\n",
    "\n",
    "#### --> Parameter\n",
    "#### --> UninitializedParameter\n",
    "#### --> UninitializedBuffer\n",
    "#### --> Containers\n",
    "#### --> Convolution Layers\n",
    "#### --> Pooling layers\n",
    "#### --> Padding Layers\n",
    "#### --> Non-linear Activations (weighted sum, nonlinearity)\n",
    "#### --> Non-linear Activations (other)\n",
    "#### --> Normalization Layers\n",
    "#### --> Recurrent Layers\n",
    "#### --> Transformer Layers\n",
    "#### --> Linear Layers\n",
    "#### --> Dropout Layers\n",
    "#### --> Sparse Layers\n",
    "#### --> Distance Functions\n",
    "#### --> Loss Functions\n",
    "#### --> Vision Layers\n",
    "#### --> Shuffle Layers\n",
    "#### --> DataParallel Layers (multi-GPU, distributed)\n",
    "#### --> Utilities\n",
    "#### --> Quantized Functions\n",
    "#### --> Lazy Modules Initialization"
   ]
  },
  {
   "cell_type": "markdown",
   "id": "4537e118",
   "metadata": {
    "execution": {
     "iopub.execute_input": "2024-01-24T10:38:45.264496Z",
     "iopub.status.busy": "2024-01-24T10:38:45.264148Z",
     "iopub.status.idle": "2024-01-24T10:38:45.269692Z",
     "shell.execute_reply": "2024-01-24T10:38:45.268455Z",
     "shell.execute_reply.started": "2024-01-24T10:38:45.264466Z"
    },
    "papermill": {
     "duration": 0.004533,
     "end_time": "2024-02-01T18:28:20.383571",
     "exception": false,
     "start_time": "2024-02-01T18:28:20.379038",
     "status": "completed"
    },
    "tags": []
   },
   "source": [
    "### 3. torch.distributions\n",
    "\n",
    "#### --> Score function\n",
    "#### --> Pathwise derivative\n",
    "#### --> Distribution\n",
    "#### --> ExponentialFamily\n",
    "#### --> Bernoulli\n",
    "#### --> Beta\n",
    "#### --> Binomial\n",
    "#### --> Categorical\n",
    "#### --> Cauchy\n",
    "#### --> Chi2\n",
    "#### --> ContinuousBernoulli\n",
    "#### --> Dirichlet\n",
    "#### --> Exponential\n",
    "#### --> FisherSnedecor\n",
    "#### --> Gamma\n",
    "#### --> Geometric\n",
    "#### --> Gumbel\n",
    "#### --> HalfCauchy\n",
    "#### --> HalfNormal\n",
    "#### --> Independent\n",
    "#### --> Kumaraswamy\n",
    "#### --> LKJCholesky\n",
    "#### --> Laplace\n",
    "#### --> LogNormal\n",
    "#### --> LowRankMultivariateNormal\n",
    "#### --> MixtureSameFamily\n",
    "#### --> Multinomial\n",
    "#### --> MultivariateNormal\n",
    "#### --> NegativeBinomial\n",
    "#### --> Normal\n",
    "#### --> OneHotCategorical\n",
    "#### --> Pareto\n",
    "#### --> Poisson\n",
    "#### --> RelaxedBernoulli\n",
    "#### --> LogitRelaxedBernoulli\n",
    "#### --> RelaxedOneHotCategorical\n",
    "#### --> StudentT\n",
    "#### --> TransformedDistribution\n",
    "#### --> Uniform\n",
    "#### --> VonMises\n",
    "#### --> Weibull\n",
    "#### --> Wishart\n",
    "#### --> KL Divergence\n",
    "#### --> Transforms\n",
    "#### --> Constraints\n",
    "#### --> Constraint Registry"
   ]
  },
  {
   "cell_type": "markdown",
   "id": "092bc5ed",
   "metadata": {
    "execution": {
     "iopub.execute_input": "2024-01-24T10:41:28.782229Z",
     "iopub.status.busy": "2024-01-24T10:41:28.781886Z",
     "iopub.status.idle": "2024-01-24T10:41:28.787145Z",
     "shell.execute_reply": "2024-01-24T10:41:28.785963Z",
     "shell.execute_reply.started": "2024-01-24T10:41:28.782204Z"
    },
    "papermill": {
     "duration": 0.004581,
     "end_time": "2024-02-01T18:28:20.393057",
     "exception": false,
     "start_time": "2024-02-01T18:28:20.388476",
     "status": "completed"
    },
    "tags": []
   },
   "source": [
    "### 4. torch.distributed.tensor.parallel\n",
    "#### --> parallelize_module()\n",
    "#### --> RowwiseParallel\n",
    "#### --> ColwiseParallel\n",
    "#### --> PairwiseParallel\n",
    "#### --> SequenceParallel"
   ]
  },
  {
   "cell_type": "markdown",
   "id": "f71c7057",
   "metadata": {
    "execution": {
     "iopub.execute_input": "2024-01-24T10:42:49.610111Z",
     "iopub.status.busy": "2024-01-24T10:42:49.609578Z",
     "iopub.status.idle": "2024-01-24T10:42:49.617253Z",
     "shell.execute_reply": "2024-01-24T10:42:49.615029Z",
     "shell.execute_reply.started": "2024-01-24T10:42:49.610071Z"
    },
    "papermill": {
     "duration": 0.004593,
     "end_time": "2024-02-01T18:28:20.402594",
     "exception": false,
     "start_time": "2024-02-01T18:28:20.398001",
     "status": "completed"
    },
    "tags": []
   },
   "source": [
    "### 5. torch.cpu\n",
    "#### --> torch.cpu.current_stream\n",
    "#### --> torch.cpu.is_available\n",
    "#### --> torch.cpu.synchronize\n",
    "#### --> torch.cpu.stream\n",
    "#### --> torch.cpu.device_count\n",
    "#### --> StreamContext\n",
    "#### --> Streams and events"
   ]
  },
  {
   "cell_type": "markdown",
   "id": "299aadb0",
   "metadata": {
    "execution": {
     "iopub.execute_input": "2024-01-24T10:44:34.975427Z",
     "iopub.status.busy": "2024-01-24T10:44:34.975077Z",
     "iopub.status.idle": "2024-01-24T10:44:34.982425Z",
     "shell.execute_reply": "2024-01-24T10:44:34.980547Z",
     "shell.execute_reply.started": "2024-01-24T10:44:34.975397Z"
    },
    "papermill": {
     "duration": 0.004594,
     "end_time": "2024-02-01T18:28:20.412243",
     "exception": false,
     "start_time": "2024-02-01T18:28:20.407649",
     "status": "completed"
    },
    "tags": []
   },
   "source": [
    "### 6. torch.cuda\n",
    "#### --> StreamContext\n",
    "#### --> torch.cuda.can_device_access_peer\n",
    "#### --> torch.cuda.current_blas_handle\n",
    "#### --> torch.cuda.current_device\n",
    "#### --> torch.cuda.current_stream\n",
    "#### --> torch.cuda.default_stream\n",
    "#### --> device\n",
    "#### --> torch.cuda.device_count\n",
    "#### --> device_of\n",
    "#### --> torch.cuda.get_arch_list\n",
    "#### --> torch.cuda.get_device_capability\n",
    "#### --> torch.cuda.get_device_name\n",
    "#### --> torch.cuda.get_device_properties\n",
    "#### --> torch.cuda.get_gencode_flags\n",
    "#### --> torch.cuda.get_sync_debug_mode\n",
    "#### --> torch.cuda.init\n",
    "#### --> torch.cuda.ipc_collect\n",
    "#### --> torch.cuda.is_available\n",
    "#### --> torch.cuda.is_initialized\n",
    "#### --> torch.cuda.memory_usage\n",
    "#### --> torch.cuda.set_device\n",
    "#### --> torch.cuda.set_stream\n",
    "#### --> torch.cuda.set_sync_debug_mode\n",
    "#### --> torch.cuda.stream\n",
    "#### --> torch.cuda.synchronize\n",
    "#### --> torch.cuda.utilization\n",
    "#### --> torch.cuda.temperature\n",
    "#### --> torch.cuda.power_draw\n",
    "#### --> torch.cuda.clock_rate"
   ]
  },
  {
   "cell_type": "markdown",
   "id": "fb43faa6",
   "metadata": {
    "papermill": {
     "duration": 0.00465,
     "end_time": "2024-02-01T18:28:20.421766",
     "exception": false,
     "start_time": "2024-02-01T18:28:20.417116",
     "status": "completed"
    },
    "tags": []
   },
   "source": [
    "##### 5 important training steps in pytorch\n",
    "\n",
    "PyTorch Inference Performance Tuning on AWS Graviton Processors\n",
    "\n",
    "Using TORCH_LOGS python API with torch.compile\n",
    "\n",
    "PyTorch 2 Export Quantization with X86 Backend through Inductor\n",
    "\n",
    "Getting Started with DeviceMesh\n",
    "\n",
    "Compiling the optimizer with torch.compile"
   ]
  },
  {
   "cell_type": "markdown",
   "id": "73d4f5f8",
   "metadata": {
    "papermill": {
     "duration": 0.005336,
     "end_time": "2024-02-01T18:28:20.432839",
     "exception": false,
     "start_time": "2024-02-01T18:28:20.427503",
     "status": "completed"
    },
    "tags": []
   },
   "source": [
    "Usually, PyTorch is used either as:\n",
    "\n",
    "A replacement for NumPy to use the power of GPUs.\n",
    "A deep learning research platform that provides maximum flexibility and speed."
   ]
  },
  {
   "cell_type": "markdown",
   "id": "5d652582",
   "metadata": {
    "papermill": {
     "duration": 0.0047,
     "end_time": "2024-02-01T18:28:20.442640",
     "exception": false,
     "start_time": "2024-02-01T18:28:20.437940",
     "status": "completed"
    },
    "tags": []
   },
   "source": [
    "\n",
    "##### What are tensors\n",
    "\n",
    "Tensors are a specialized data structure that are very similar to arrays and matrices. \n",
    "In PyTorch, we use tensors to encode the inputs and outputs of a model, as well as the model’s parameters.\n",
    "\n",
    "Tensors are similar to NumPy’s ndarrays, except that tensors can run on GPUs or other hardware accelerators. \n",
    "In fact, tensors and NumPy arrays can often share the same underlying memory, eliminating the need to copy data (see Bridge with NumPy). \n",
    "Tensors are also optimized for automatic differentiation (we’ll see more about that later in the Autograd section). \n",
    "If you’re familiar with ndarrays, you’ll be right at home with the Tensor API. If not, follow along!"
   ]
  },
  {
   "cell_type": "code",
   "execution_count": null,
   "id": "243fd897",
   "metadata": {
    "papermill": {
     "duration": 0.005291,
     "end_time": "2024-02-01T18:28:20.453163",
     "exception": false,
     "start_time": "2024-02-01T18:28:20.447872",
     "status": "completed"
    },
    "tags": []
   },
   "outputs": [],
   "source": []
  }
 ],
 "metadata": {
  "kaggle": {
   "accelerator": "none",
   "dataSources": [],
   "dockerImageVersionId": 30635,
   "isGpuEnabled": false,
   "isInternetEnabled": true,
   "language": "python",
   "sourceType": "notebook"
  },
  "kernelspec": {
   "display_name": "Python 3",
   "language": "python",
   "name": "python3"
  },
  "language_info": {
   "codemirror_mode": {
    "name": "ipython",
    "version": 3
   },
   "file_extension": ".py",
   "mimetype": "text/x-python",
   "name": "python",
   "nbconvert_exporter": "python",
   "pygments_lexer": "ipython3",
   "version": "3.10.12"
  },
  "papermill": {
   "default_parameters": {},
   "duration": 6.161623,
   "end_time": "2024-02-01T18:28:20.983047",
   "environment_variables": {},
   "exception": null,
   "input_path": "__notebook__.ipynb",
   "output_path": "__notebook__.ipynb",
   "parameters": {},
   "start_time": "2024-02-01T18:28:14.821424",
   "version": "2.4.0"
  }
 },
 "nbformat": 4,
 "nbformat_minor": 5
}
