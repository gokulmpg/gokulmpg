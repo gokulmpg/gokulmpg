{
 "cells": [
  {
   "cell_type": "code",
   "execution_count": 1,
   "id": "4ea7b90e",
   "metadata": {
    "_cell_guid": "b1076dfc-b9ad-4769-8c92-a6c4dae69d19",
    "_uuid": "8f2839f25d086af736a60e9eeb907d3b93b6e0e5",
    "execution": {
     "iopub.execute_input": "2024-01-08T20:04:11.033203Z",
     "iopub.status.busy": "2024-01-08T20:04:11.032785Z",
     "iopub.status.idle": "2024-01-08T20:04:11.473190Z",
     "shell.execute_reply": "2024-01-08T20:04:11.472006Z"
    },
    "papermill": {
     "duration": 0.450091,
     "end_time": "2024-01-08T20:04:11.476061",
     "exception": false,
     "start_time": "2024-01-08T20:04:11.025970",
     "status": "completed"
    },
    "tags": []
   },
   "outputs": [],
   "source": [
    "# This Python 3 environment comes with many helpful analytics libraries installed\n",
    "# It is defined by the kaggle/python Docker image: https://github.com/kaggle/docker-python\n",
    "# For example, here's several helpful packages to load\n",
    "\n",
    "import numpy as np # linear algebra\n",
    "import pandas as pd # data processing, CSV file I/O (e.g. pd.read_csv)\n",
    "\n",
    "# Input data files are available in the read-only \"../input/\" directory\n",
    "# For example, running this (by clicking run or pressing Shift+Enter) will list all files under the input directory\n",
    "\n",
    "import os\n",
    "for dirname, _, filenames in os.walk('/kaggle/input'):\n",
    "    for filename in filenames:\n",
    "        print(os.path.join(dirname, filename))\n",
    "\n",
    "# You can write up to 20GB to the current directory (/kaggle/working/) that gets preserved as output when you create a version using \"Save & Run All\" \n",
    "# You can also write temporary files to /kaggle/temp/, but they won't be saved outside of the current session"
   ]
  },
  {
   "cell_type": "markdown",
   "id": "13a5c32d",
   "metadata": {
    "papermill": {
     "duration": 0.004419,
     "end_time": "2024-01-08T20:04:11.485367",
     "exception": false,
     "start_time": "2024-01-08T20:04:11.480948",
     "status": "completed"
    },
    "tags": []
   },
   "source": [
    "### TWO SUMS"
   ]
  },
  {
   "cell_type": "code",
   "execution_count": null,
   "id": "168b5646",
   "metadata": {
    "papermill": {
     "duration": 0.004016,
     "end_time": "2024-01-08T20:04:11.493737",
     "exception": false,
     "start_time": "2024-01-08T20:04:11.489721",
     "status": "completed"
    },
    "tags": []
   },
   "outputs": [],
   "source": []
  },
  {
   "cell_type": "markdown",
   "id": "0898d712",
   "metadata": {
    "papermill": {
     "duration": 0.004007,
     "end_time": "2024-01-08T20:04:11.502044",
     "exception": false,
     "start_time": "2024-01-08T20:04:11.498037",
     "status": "completed"
    },
    "tags": []
   },
   "source": [
    "### Add two nums"
   ]
  },
  {
   "cell_type": "code",
   "execution_count": null,
   "id": "0cdd5ddb",
   "metadata": {
    "papermill": {
     "duration": 0.004034,
     "end_time": "2024-01-08T20:04:11.510490",
     "exception": false,
     "start_time": "2024-01-08T20:04:11.506456",
     "status": "completed"
    },
    "tags": []
   },
   "outputs": [],
   "source": []
  },
  {
   "cell_type": "markdown",
   "id": "1d6a79f5",
   "metadata": {
    "papermill": {
     "duration": 0.004004,
     "end_time": "2024-01-08T20:04:11.518780",
     "exception": false,
     "start_time": "2024-01-08T20:04:11.514776",
     "status": "completed"
    },
    "tags": []
   },
   "source": [
    "### Length of longest non repeating sub string"
   ]
  },
  {
   "cell_type": "code",
   "execution_count": 2,
   "id": "4ca7fa0d",
   "metadata": {
    "execution": {
     "iopub.execute_input": "2024-01-08T20:04:11.529454Z",
     "iopub.status.busy": "2024-01-08T20:04:11.528905Z",
     "iopub.status.idle": "2024-01-08T20:04:11.537162Z",
     "shell.execute_reply": "2024-01-08T20:04:11.535866Z"
    },
    "papermill": {
     "duration": 0.016702,
     "end_time": "2024-01-08T20:04:11.539709",
     "exception": false,
     "start_time": "2024-01-08T20:04:11.523007",
     "status": "completed"
    },
    "tags": []
   },
   "outputs": [],
   "source": [
    "\n",
    "s = \"abdagfhaasjdjs\"\n",
    "\n",
    "\n",
    "class soln:\n",
    "    def lengthof_lognstring(self, s:str) -> int:\n",
    "        \n",
    "        sub = {}\n",
    "        cur_sub_start = 0\n",
    "        cur_len = 0\n",
    "        longest = 0\n",
    "        \n",
    "        for i, letter in enumerate(s):\n",
    "            if letter in sub and sub[letter] >= cur_sub_start:\n",
    "                cur_sub_start = sun[letter] + 1\n",
    "                cur_len = i - sub[letter]\n",
    "                sub[letter] = i\n",
    "                \n",
    "            else:\n",
    "                sub[letter] = i  # save index of letter as a dict\n",
    "                cur_len +=1 # increment current lenghth\n",
    "                if cur_len > longest: # if cur is longer  than previous\n",
    "                    longest = cur_len # make current as a longer\n",
    "                \n",
    "                \n",
    "                \n",
    "                \n",
    "\n"
   ]
  },
  {
   "cell_type": "markdown",
   "id": "0eb26998",
   "metadata": {
    "papermill": {
     "duration": 0.004064,
     "end_time": "2024-01-08T20:04:11.548455",
     "exception": false,
     "start_time": "2024-01-08T20:04:11.544391",
     "status": "completed"
    },
    "tags": []
   },
   "source": [
    "### Median of two sorted array"
   ]
  },
  {
   "cell_type": "code",
   "execution_count": null,
   "id": "90d20a73",
   "metadata": {
    "papermill": {
     "duration": 0.004066,
     "end_time": "2024-01-08T20:04:11.556870",
     "exception": false,
     "start_time": "2024-01-08T20:04:11.552804",
     "status": "completed"
    },
    "tags": []
   },
   "outputs": [],
   "source": []
  },
  {
   "cell_type": "markdown",
   "id": "3cd2dd3d",
   "metadata": {
    "papermill": {
     "duration": 0.004067,
     "end_time": "2024-01-08T20:04:11.565367",
     "exception": false,
     "start_time": "2024-01-08T20:04:11.561300",
     "status": "completed"
    },
    "tags": []
   },
   "source": [
    "### Longest palindromic sub string"
   ]
  },
  {
   "cell_type": "code",
   "execution_count": 3,
   "id": "326aee1c",
   "metadata": {
    "execution": {
     "iopub.execute_input": "2024-01-08T20:04:11.576511Z",
     "iopub.status.busy": "2024-01-08T20:04:11.575677Z",
     "iopub.status.idle": "2024-01-08T20:04:11.590528Z",
     "shell.execute_reply": "2024-01-08T20:04:11.589467Z"
    },
    "papermill": {
     "duration": 0.023329,
     "end_time": "2024-01-08T20:04:11.593116",
     "exception": false,
     "start_time": "2024-01-08T20:04:11.569787",
     "status": "completed"
    },
    "tags": []
   },
   "outputs": [],
   "source": [
    "s = \"absduuacacacau\"\n",
    "\n",
    "class soln2:\n",
    "    def longpalindro(self,s:str)->str:\n",
    "        \n",
    "        def check_palin(s):\n",
    "            return (s == s[::-1])\n",
    "        for length in range(len(s),0,-1):\n",
    "            for start_inder in ramge(0,len(s)+1-length):\n",
    "                if check_palin(s[start_index:(start_index+length)]):\n",
    "                    return s[start_index:(start_index+length)]\n",
    "\n",
    "class altersoln2:\n",
    "    \n",
    "    def longpalindro(self,s:str)->str:\n",
    "        \n",
    "        def check_palin(s):\n",
    "            return (s == s[::-1])\n",
    "        biggest = s[0]\n",
    "        step = len(biggest)//2\n",
    "    \n",
    "    # Handle single letter center\n",
    "        for center in range(1, len(s)-1):\n",
    "            bounds = [center-(1+step), center+(1+step)]\n",
    "            while bounds[0] > -1 and (bounds[1]< len(s)):\n",
    "                if check_palin(s[bounds[0]: bounds[1]+1]):\n",
    "                    biggest = s[bounds[0]:bound[1]+1]\n",
    "                    step = len(biggest)// 2\n",
    "                    bounds[0] -=1\n",
    "                    bounds[1] +=1\n",
    "                else:\n",
    "                    break\n",
    "                \n",
    "    # Handle double letter center\n",
    "        for center in range(step, len(s)-step-1):\n",
    "            bounds = [center-(step), center+(1+step)]\n",
    "            while bounds[0] > -1 and (bounds[1]< len(s)):\n",
    "                if check_palin(s[bounds[0]: bounds[1]+1]):\n",
    "                    biggest = s[bounds[0]:bound[1]+1]\n",
    "                    step = len(biggest)// 2\n",
    "                    bounds[0] -=1\n",
    "                    bounds[1] +=1\n",
    "                else:\n",
    "                    break\n",
    "                \n",
    "        return biggest"
   ]
  },
  {
   "cell_type": "code",
   "execution_count": null,
   "id": "ff0da70b",
   "metadata": {
    "papermill": {
     "duration": 0.004095,
     "end_time": "2024-01-08T20:04:11.601599",
     "exception": false,
     "start_time": "2024-01-08T20:04:11.597504",
     "status": "completed"
    },
    "tags": []
   },
   "outputs": [],
   "source": [
    "\n",
    "\n"
   ]
  },
  {
   "cell_type": "code",
   "execution_count": null,
   "id": "5128a62d",
   "metadata": {
    "papermill": {
     "duration": 0.003983,
     "end_time": "2024-01-08T20:04:11.609883",
     "exception": false,
     "start_time": "2024-01-08T20:04:11.605900",
     "status": "completed"
    },
    "tags": []
   },
   "outputs": [],
   "source": []
  }
 ],
 "metadata": {
  "kaggle": {
   "accelerator": "none",
   "dataSources": [],
   "dockerImageVersionId": 30626,
   "isGpuEnabled": false,
   "isInternetEnabled": true,
   "language": "python",
   "sourceType": "notebook"
  },
  "kernelspec": {
   "display_name": "Python 3",
   "language": "python",
   "name": "python3"
  },
  "language_info": {
   "codemirror_mode": {
    "name": "ipython",
    "version": 3
   },
   "file_extension": ".py",
   "mimetype": "text/x-python",
   "name": "python",
   "nbconvert_exporter": "python",
   "pygments_lexer": "ipython3",
   "version": "3.10.12"
  },
  "papermill": {
   "default_parameters": {},
   "duration": 4.652007,
   "end_time": "2024-01-08T20:04:12.135170",
   "environment_variables": {},
   "exception": null,
   "input_path": "__notebook__.ipynb",
   "output_path": "__notebook__.ipynb",
   "parameters": {},
   "start_time": "2024-01-08T20:04:07.483163",
   "version": "2.4.0"
  }
 },
 "nbformat": 4,
 "nbformat_minor": 5
}
