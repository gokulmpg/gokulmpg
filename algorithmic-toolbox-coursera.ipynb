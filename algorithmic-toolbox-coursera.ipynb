{
 "cells": [
  {
   "cell_type": "code",
   "execution_count": 1,
   "id": "1f9f0924",
   "metadata": {
    "_cell_guid": "b1076dfc-b9ad-4769-8c92-a6c4dae69d19",
    "_uuid": "8f2839f25d086af736a60e9eeb907d3b93b6e0e5",
    "execution": {
     "iopub.execute_input": "2024-01-04T22:12:26.734010Z",
     "iopub.status.busy": "2024-01-04T22:12:26.733533Z",
     "iopub.status.idle": "2024-01-04T22:12:27.182832Z",
     "shell.execute_reply": "2024-01-04T22:12:27.181594Z"
    },
    "papermill": {
     "duration": 0.459773,
     "end_time": "2024-01-04T22:12:27.185978",
     "exception": false,
     "start_time": "2024-01-04T22:12:26.726205",
     "status": "completed"
    },
    "tags": []
   },
   "outputs": [],
   "source": [
    "# This Python 3 environment comes with many helpful analytics libraries installed\n",
    "# It is defined by the kaggle/python Docker image: https://github.com/kaggle/docker-python\n",
    "# For example, here's several helpful packages to load\n",
    "\n",
    "import numpy as np # linear algebra\n",
    "import pandas as pd # data processing, CSV file I/O (e.g. pd.read_csv)\n",
    "\n",
    "# Input data files are available in the read-only \"../input/\" directory\n",
    "# For example, running this (by clicking run or pressing Shift+Enter) will list all files under the input directory\n",
    "\n",
    "import os\n",
    "for dirname, _, filenames in os.walk('/kaggle/input'):\n",
    "    for filename in filenames:\n",
    "        print(os.path.join(dirname, filename))\n",
    "\n",
    "# You can write up to 20GB to the current directory (/kaggle/working/) that gets preserved as output when you create a version using \"Save & Run All\" \n",
    "# You can also write temporary files to /kaggle/temp/, but they won't be saved outside of the current session"
   ]
  },
  {
   "cell_type": "markdown",
   "id": "945f69be",
   "metadata": {
    "papermill": {
     "duration": 0.004759,
     "end_time": "2024-01-04T22:12:27.196197",
     "exception": false,
     "start_time": "2024-01-04T22:12:27.191438",
     "status": "completed"
    },
    "tags": []
   },
   "source": [
    "#### TWO SUM"
   ]
  },
  {
   "cell_type": "code",
   "execution_count": 2,
   "id": "b441bb02",
   "metadata": {
    "execution": {
     "iopub.execute_input": "2024-01-04T22:12:27.208426Z",
     "iopub.status.busy": "2024-01-04T22:12:27.207862Z",
     "iopub.status.idle": "2024-01-04T22:12:27.217219Z",
     "shell.execute_reply": "2024-01-04T22:12:27.215902Z"
    },
    "papermill": {
     "duration": 0.018411,
     "end_time": "2024-01-04T22:12:27.219669",
     "exception": false,
     "start_time": "2024-01-04T22:12:27.201258",
     "status": "completed"
    },
    "tags": []
   },
   "outputs": [
    {
     "data": {
      "text/plain": [
       "0"
      ]
     },
     "execution_count": 2,
     "metadata": {},
     "output_type": "execute_result"
    }
   ],
   "source": [
    "##### Output two sum a + b\n",
    "\n",
    "a = 0\n",
    "b= 0 \n",
    "sum = 0\n",
    "\n",
    "\n",
    "#a = int(input(\"a\"))\n",
    "#b = int(input(\"b\"))\n",
    "\n",
    "sum = a + b\n",
    "sum"
   ]
  },
  {
   "cell_type": "markdown",
   "id": "f2cb6056",
   "metadata": {
    "papermill": {
     "duration": 0.005252,
     "end_time": "2024-01-04T22:12:27.230487",
     "exception": false,
     "start_time": "2024-01-04T22:12:27.225235",
     "status": "completed"
    },
    "tags": []
   },
   "source": [
    "## Stacks and Queues in Programming\n",
    "\n",
    "### Stacks\n",
    "\n",
    "Stacks = Building Blocks\n",
    "\n",
    "Last in first out\n",
    "\n",
    "Push --  Pop\n",
    "\n",
    "CTRL Z undo and CTRL Y redo\n",
    "\n",
    "\n",
    "#### Push Pop  isEmpty  isFull Peek\n",
    "\n",
    "Pop until nothings there\n",
    "Push puts item on the top\n",
    "Peek - Calling; Calling will never change the structure \n",
    "\n",
    "\n",
    "### Queues\n",
    "\n",
    "Queues = Oune after Other Architecture\n",
    "\n",
    "First in First out\n",
    "\n",
    "Push -- Pop\n",
    "\n",
    "#### Push Pop\n",
    "\n",
    "\n",
    "\n",
    "\n"
   ]
  },
  {
   "cell_type": "markdown",
   "id": "899fa0b2",
   "metadata": {
    "execution": {
     "iopub.execute_input": "2024-01-04T18:29:19.106735Z",
     "iopub.status.busy": "2024-01-04T18:29:19.106289Z",
     "iopub.status.idle": "2024-01-04T18:29:19.114933Z",
     "shell.execute_reply": "2024-01-04T18:29:19.113073Z",
     "shell.execute_reply.started": "2024-01-04T18:29:19.106701Z"
    },
    "papermill": {
     "duration": 0.004785,
     "end_time": "2024-01-04T22:12:27.240461",
     "exception": false,
     "start_time": "2024-01-04T22:12:27.235676",
     "status": "completed"
    },
    "tags": []
   },
   "source": [
    "'''\n",
    "class Stack:\n",
    "    def Stack:\n",
    "   return 0\n",
    "\n",
    "class Queue:\n",
    "    def Queue:\n",
    "    return 0\n",
    "container = Queue()\n",
    "\n",
    "\n",
    "container.push(1)\n",
    "\n",
    "print(container.pop())\n",
    "\n",
    "\n",
    "container.push()\n",
    "'''\n"
   ]
  },
  {
   "cell_type": "markdown",
   "id": "e5f562c7",
   "metadata": {
    "papermill": {
     "duration": 0.004997,
     "end_time": "2024-01-04T22:12:27.250549",
     "exception": false,
     "start_time": "2024-01-04T22:12:27.245552",
     "status": "completed"
    },
    "tags": []
   },
   "source": [
    "#### Why not just a list instead for class?\n",
    "\n",
    "By Queue we are creating an abstaction.We are restricting the way in which we are accessing the queue. It enforces the FIFO behaviour.\n",
    "\n"
   ]
  },
  {
   "cell_type": "markdown",
   "id": "f3137e74",
   "metadata": {
    "papermill": {
     "duration": 0.004856,
     "end_time": "2024-01-04T22:12:27.260486",
     "exception": false,
     "start_time": "2024-01-04T22:12:27.255630",
     "status": "completed"
    },
    "tags": []
   },
   "source": [
    "### Inheritance\n",
    "\n",
    "Create group of similar and identical by inheriting the characters of one class."
   ]
  },
  {
   "cell_type": "code",
   "execution_count": 3,
   "id": "c5bac997",
   "metadata": {
    "execution": {
     "iopub.execute_input": "2024-01-04T22:12:27.273394Z",
     "iopub.status.busy": "2024-01-04T22:12:27.272994Z",
     "iopub.status.idle": "2024-01-04T22:12:27.281015Z",
     "shell.execute_reply": "2024-01-04T22:12:27.279735Z"
    },
    "papermill": {
     "duration": 0.017587,
     "end_time": "2024-01-04T22:12:27.283619",
     "exception": false,
     "start_time": "2024-01-04T22:12:27.266032",
     "status": "completed"
    },
    "tags": []
   },
   "outputs": [
    {
     "data": {
      "text/plain": [
       "'\\nClass Base:\\n    def Hello(self):\\n        print(\"Hello\")\\n        \\n    def message(self,msg):\\n         print(msg)\\nClass Sub(Base):\\n     def message(self,msg):\\n         print(\"sub:\",msg)\\n \\nobj = sub()\\nobj.hello()\\nobj.meassage(\"Another Message\")\\n\\nbaseObj = Base()\\nbaseonj.hello()\\nbaseobj.message(\"another message\")\\n\\n'"
      ]
     },
     "execution_count": 3,
     "metadata": {},
     "output_type": "execute_result"
    }
   ],
   "source": [
    "#### Simple Inheritance\n",
    "\"\"\"\n",
    "Class Base:\n",
    "    def Hello(self):\n",
    "        print(\"Hello\")\n",
    "        \n",
    "    def message(self,msg):\n",
    "         print(msg)\n",
    "Class Sub(Base):\n",
    "     def message(self,msg):\n",
    "         print(\"sub:\",msg)\n",
    " \n",
    "obj = sub()\n",
    "obj.hello()\n",
    "obj.meassage(\"Another Message\")\n",
    "\n",
    "baseObj = Base()\n",
    "baseonj.hello()\n",
    "baseobj.message(\"another message\")\n",
    "\n",
    "\"\"\"\n",
    "   "
   ]
  },
  {
   "cell_type": "markdown",
   "id": "5b6a5dfa",
   "metadata": {
    "papermill": {
     "duration": 0.004965,
     "end_time": "2024-01-04T22:12:27.294053",
     "exception": false,
     "start_time": "2024-01-04T22:12:27.289088",
     "status": "completed"
    },
    "tags": []
   },
   "source": [
    "#### GRIDS"
   ]
  },
  {
   "cell_type": "markdown",
   "id": "83bef43c",
   "metadata": {
    "papermill": {
     "duration": 0.004979,
     "end_time": "2024-01-04T22:12:27.304314",
     "exception": false,
     "start_time": "2024-01-04T22:12:27.299335",
     "status": "completed"
    },
    "tags": []
   },
   "source": [
    "### Trees\n",
    "\n",
    "Say lot about relations between data stored and saves lot of time when extracting.\n",
    "\n",
    "\n",
    "Parent - Children - Leaf\n",
    "\n",
    "Root Nodes\n",
    "\n",
    "Child Nodes\n",
    "\n",
    "Sibling Nodes\n",
    "\n",
    "\n",
    "Nodes & Edges\n",
    "\n",
    "\n",
    "\n",
    "Breadth First \n",
    "Depth First\n",
    "\n",
    "\n",
    "\n",
    "\n"
   ]
  },
  {
   "cell_type": "markdown",
   "id": "5f87dfaf",
   "metadata": {
    "papermill": {
     "duration": 0.005072,
     "end_time": "2024-01-04T22:12:27.314598",
     "exception": false,
     "start_time": "2024-01-04T22:12:27.309526",
     "status": "completed"
    },
    "tags": []
   },
   "source": [
    "### HASH TABLES\n",
    "\n",
    "Buckets of Key Value pair\n",
    "\n",
    "Key_1 --> Hash Function -->  Index, Fixed size and Value\n",
    "\n",
    "Big O--- O(n)\n",
    "\n",
    "\n",
    "#### Variety of Hashing function\n",
    "#### Collisons in Hash table\n",
    "\n",
    "- Grow the table\n",
    "- Build a linked list\n",
    "\n",
    "\n"
   ]
  },
  {
   "cell_type": "markdown",
   "id": "461a6a62",
   "metadata": {
    "papermill": {
     "duration": 0.005058,
     "end_time": "2024-01-04T22:12:27.325176",
     "exception": false,
     "start_time": "2024-01-04T22:12:27.320118",
     "status": "completed"
    },
    "tags": []
   },
   "source": []
  },
  {
   "cell_type": "markdown",
   "id": "9a1f1d00",
   "metadata": {
    "papermill": {
     "duration": 0.004972,
     "end_time": "2024-01-04T22:12:27.335410",
     "exception": false,
     "start_time": "2024-01-04T22:12:27.330438",
     "status": "completed"
    },
    "tags": []
   },
   "source": [
    "### HEAPS\n",
    "\n",
    "Structured like a Tree but behaves like a Queue. Assigning priority to certain element\n",
    "\n",
    "Min Heaps & Max Heaps\n",
    "\n",
    "-- O(logn)\n",
    "\n",
    "Insert\n",
    "Find_min\n",
    "Delete_min\n",
    "\n",
    "Find_Max\n",
    "Delete_Max"
   ]
  },
  {
   "cell_type": "markdown",
   "id": "5387037e",
   "metadata": {
    "papermill": {
     "duration": 0.004987,
     "end_time": "2024-01-04T22:12:27.346038",
     "exception": false,
     "start_time": "2024-01-04T22:12:27.341051",
     "status": "completed"
    },
    "tags": []
   },
   "source": [
    "### GRAPHS\n",
    "\n",
    "Shortest path\n",
    "\n",
    "Travelling sales man\n",
    "\n",
    "One way and Two way connection\n",
    "\n",
    "Tree is a simple graph\n",
    "\n",
    "Two borders - Neighbours\n",
    "Connected through a neighbour - Adjacent\n",
    "\n",
    "Depth first - employ Stacks - Placing neigbour nodes systematically\n",
    "\n",
    "Breadth first - employ Queue - Systematically Visit every Node\n",
    "\n",
    "- Minimum Information\n",
    "- Easy to query\n"
   ]
  },
  {
   "cell_type": "code",
   "execution_count": null,
   "id": "01a9f82a",
   "metadata": {
    "papermill": {
     "duration": 0.004955,
     "end_time": "2024-01-04T22:12:27.356230",
     "exception": false,
     "start_time": "2024-01-04T22:12:27.351275",
     "status": "completed"
    },
    "tags": []
   },
   "outputs": [],
   "source": []
  }
 ],
 "metadata": {
  "kaggle": {
   "accelerator": "none",
   "dataSources": [],
   "dockerImageVersionId": 30626,
   "isGpuEnabled": false,
   "isInternetEnabled": true,
   "language": "python",
   "sourceType": "notebook"
  },
  "kernelspec": {
   "display_name": "Python 3",
   "language": "python",
   "name": "python3"
  },
  "language_info": {
   "codemirror_mode": {
    "name": "ipython",
    "version": 3
   },
   "file_extension": ".py",
   "mimetype": "text/x-python",
   "name": "python",
   "nbconvert_exporter": "python",
   "pygments_lexer": "ipython3",
   "version": "3.10.12"
  },
  "papermill": {
   "default_parameters": {},
   "duration": 4.681604,
   "end_time": "2024-01-04T22:12:27.884044",
   "environment_variables": {},
   "exception": null,
   "input_path": "__notebook__.ipynb",
   "output_path": "__notebook__.ipynb",
   "parameters": {},
   "start_time": "2024-01-04T22:12:23.202440",
   "version": "2.4.0"
  }
 },
 "nbformat": 4,
 "nbformat_minor": 5
}
